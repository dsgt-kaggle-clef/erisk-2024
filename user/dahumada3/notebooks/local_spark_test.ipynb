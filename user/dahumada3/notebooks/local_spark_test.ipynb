{
 "cells": [
  {
   "cell_type": "code",
   "execution_count": 1,
   "metadata": {},
   "outputs": [],
   "source": [
    "%load_ext autoreload\n",
    "%autoreload 2"
   ]
  },
  {
   "cell_type": "code",
   "execution_count": 4,
   "metadata": {},
   "outputs": [
    {
     "data": {
      "text/html": [
       "\n",
       "            <div>\n",
       "                <p><b>SparkSession - in-memory</b></p>\n",
       "                \n",
       "        <div>\n",
       "            <p><b>SparkContext</b></p>\n",
       "\n",
       "            <p><a href=\"http://MSI-GL75:4040\">Spark UI</a></p>\n",
       "\n",
       "            <dl>\n",
       "              <dt>Version</dt>\n",
       "                <dd><code>v3.5.1</code></dd>\n",
       "              <dt>Master</dt>\n",
       "                <dd><code>local[*]</code></dd>\n",
       "              <dt>AppName</dt>\n",
       "                <dd><code>pyspark-shell</code></dd>\n",
       "            </dl>\n",
       "        </div>\n",
       "        \n",
       "            </div>\n",
       "        "
      ],
      "text/plain": [
       "<pyspark.sql.session.SparkSession at 0x1d5735af8e0>"
      ]
     },
     "execution_count": 4,
     "metadata": {},
     "output_type": "execute_result"
    }
   ],
   "source": [
    "from erisk.utils import get_spark\n",
    "\n",
    "# bucket = \"gs://dsgt-clef-erisk-2024\"\n",
    "bucket = \"D:\\SRC\\DS@GT\\CLEF eRisk\"\n",
    "\n",
    "# D:\\SRC\\DS@GT\\CLEF eRisk\n",
    "spark = get_spark()\n",
    "spark"
   ]
  },
  {
   "cell_type": "code",
   "execution_count": 6,
   "metadata": {},
   "outputs": [
    {
     "name": "stdout",
     "output_type": "stream",
     "text": [
      "root\n",
      " |-- DOCNO: string (nullable = true)\n",
      " |-- PRE: string (nullable = true)\n",
      " |-- TEXT: string (nullable = true)\n",
      " |-- POST: string (nullable = true)\n",
      "\n"
     ]
    }
   ],
   "source": [
    "test = spark.read.parquet(f\"{bucket}/test.parquet\")\n",
    "test.printSchema()"
   ]
  },
  {
   "cell_type": "code",
   "execution_count": 7,
   "metadata": {},
   "outputs": [
    {
     "name": "stdout",
     "output_type": "stream",
     "text": [
      "root\n",
      " |-- DOCNO: string (nullable = true)\n",
      " |-- TEXT: string (nullable = true)\n",
      "\n"
     ]
    }
   ],
   "source": [
    "training = spark.read.parquet(f\"{bucket}/training.parquet\")\n",
    "training.printSchema()"
   ]
  },
  {
   "cell_type": "code",
   "execution_count": 11,
   "metadata": {},
   "outputs": [
    {
     "name": "stdout",
     "output_type": "stream",
     "text": [
      "-RECORD 0---------------------------------------------------------------------------------\n",
      " DOCNO | s_0_0_0                                                                          \n",
      " TEXT  | 1.ye katiliyorum                                                                 \n",
      "-RECORD 1---------------------------------------------------------------------------------\n",
      " DOCNO | s_0_1_0                                                                          \n",
      " TEXT  | ok haklsn abi gold atar msn                                                      \n",
      "-RECORD 2---------------------------------------------------------------------------------\n",
      " DOCNO | s_0_2_0                                                                          \n",
      " TEXT  | almanca yarrak gibi                                                              \n",
      "-RECORD 3---------------------------------------------------------------------------------\n",
      " DOCNO | s_0_3_0                                                                          \n",
      " TEXT  | hani u oyunlarn en gl en gizemli silah, zellii falan olan eylere garip isimle... \n",
      "-RECORD 4---------------------------------------------------------------------------------\n",
      " DOCNO | s_0_3_1                                                                          \n",
      " TEXT  | dead cellste ygdar orus li ox var mesela, deus ex machina da olabilir onun gi... \n",
      "only showing top 5 rows\n",
      "\n"
     ]
    }
   ],
   "source": [
    "training.show(n=5, vertical=True, truncate=80)"
   ]
  },
  {
   "cell_type": "code",
   "execution_count": 16,
   "metadata": {},
   "outputs": [],
   "source": [
    "import pandas as pd\n",
    "import pyspark.sql.functions as F\n",
    "# from pyspark.sql.functions import udf\n",
    "from pyspark.sql.types import ArrayType, DoubleType, StringType\n",
    "from sentence_transformers import SentenceTransformer\n",
    "\n",
    "# import sbert model\n",
    "model = SentenceTransformer(\"all-MiniLM-L6-v2\")\n",
    "\n",
    "# # create a pandas udf that will encode the text and return an array of doubles\n",
    "@F.pandas_udf(returnType=ArrayType(DoubleType()))\n",
    "def encode(x: pd.Series) -> pd.Series:\n",
    "    return pd.Series(model.encode(x).tolist())\n"
   ]
  },
  {
   "cell_type": "code",
   "execution_count": 17,
   "metadata": {},
   "outputs": [
    {
     "name": "stdout",
     "output_type": "stream",
     "text": [
      "-RECORD 0-------------------------------------------------------------------------------------\n",
      " DOCNO     | s_0_0_0                                                                          \n",
      " TEXT      | 1.ye katiliyorum                                                                 \n",
      " embedding | [0.018069807440042496, 0.0044670202769339085, 0.020407287403941154, -4.309581... \n",
      "-RECORD 1-------------------------------------------------------------------------------------\n",
      " DOCNO     | s_0_1_0                                                                          \n",
      " TEXT      | ok haklsn abi gold atar msn                                                      \n",
      " embedding | [-0.1302819401025772, 0.0033819573000073433, -0.027139434590935707, 0.0828814... \n",
      "-RECORD 2-------------------------------------------------------------------------------------\n",
      " DOCNO     | s_0_2_0                                                                          \n",
      " TEXT      | almanca yarrak gibi                                                              \n",
      " embedding | [-0.020124470815062523, 0.08180121332406998, -0.08102694898843765, 0.04351003... \n",
      "-RECORD 3-------------------------------------------------------------------------------------\n",
      " DOCNO     | s_0_3_0                                                                          \n",
      " TEXT      | hani u oyunlarn en gl en gizemli silah, zellii falan olan eylere garip isimle... \n",
      " embedding | [-0.04646924138069153, 0.08211160451173782, -0.021132489666342735, -0.0101456... \n",
      "-RECORD 4-------------------------------------------------------------------------------------\n",
      " DOCNO     | s_0_3_1                                                                          \n",
      " TEXT      | dead cellste ygdar orus li ox var mesela, deus ex machina da olabilir onun gi... \n",
      " embedding | [-0.07952062040567398, 0.03155197203159332, -0.06744188815355301, 0.001037028... \n",
      "only showing top 5 rows\n",
      "\n"
     ]
    }
   ],
   "source": [
    "\n",
    "df_transformed = training.withColumn(\"embedding\", encode(training[\"TEXT\"]))\n",
    "df_transformed.show(n=5, vertical=True, truncate=80)\n",
    "# return df_transformed"
   ]
  }
 ],
 "metadata": {
  "kernelspec": {
   "display_name": "eriskenv",
   "language": "python",
   "name": "python3"
  },
  "language_info": {
   "codemirror_mode": {
    "name": "ipython",
    "version": 3
   },
   "file_extension": ".py",
   "mimetype": "text/x-python",
   "name": "python",
   "nbconvert_exporter": "python",
   "pygments_lexer": "ipython3",
   "version": "3.10.13"
  }
 },
 "nbformat": 4,
 "nbformat_minor": 2
}
