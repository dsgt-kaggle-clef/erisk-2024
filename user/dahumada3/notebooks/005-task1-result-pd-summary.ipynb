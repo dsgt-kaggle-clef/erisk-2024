{
 "cells": [
  {
   "cell_type": "code",
   "execution_count": 1,
   "metadata": {},
   "outputs": [],
   "source": [
    "%load_ext autoreload\n",
    "%autoreload 2"
   ]
  },
  {
   "cell_type": "code",
   "execution_count": 2,
   "metadata": {},
   "outputs": [
    {
     "name": "stderr",
     "output_type": "stream",
     "text": [
      "Setting default log level to \"WARN\".\n",
      "To adjust logging level use sc.setLogLevel(newLevel). For SparkR, use setLogLevel(newLevel).\n",
      "24/03/31 19:43:02 WARN NativeCodeLoader: Unable to load native-hadoop library for your platform... using builtin-java classes where applicable\n",
      "24/03/31 19:43:03 WARN SparkConf: Note that spark.local.dir will be overridden by the value set by the cluster manager (via SPARK_LOCAL_DIRS in mesos/standalone/kubernetes and LOCAL_DIRS in YARN).\n"
     ]
    },
    {
     "data": {
      "text/html": [
       "\n",
       "            <div>\n",
       "                <p><b>SparkSession - in-memory</b></p>\n",
       "                \n",
       "        <div>\n",
       "            <p><b>SparkContext</b></p>\n",
       "\n",
       "            <p><a href=\"http://erisk3-dev.us-central1-a.c.dsgt-clef-2024.internal:4040\">Spark UI</a></p>\n",
       "\n",
       "            <dl>\n",
       "              <dt>Version</dt>\n",
       "                <dd><code>v3.5.0</code></dd>\n",
       "              <dt>Master</dt>\n",
       "                <dd><code>local[*]</code></dd>\n",
       "              <dt>AppName</dt>\n",
       "                <dd><code>pyspark-shell</code></dd>\n",
       "            </dl>\n",
       "        </div>\n",
       "        \n",
       "            </div>\n",
       "        "
      ],
      "text/plain": [
       "<pyspark.sql.session.SparkSession at 0x7147be65c4f0>"
      ]
     },
     "execution_count": 2,
     "metadata": {},
     "output_type": "execute_result"
    }
   ],
   "source": [
    "from erisk.utils import get_spark\n",
    "\n",
    "bucket = \"gs://dsgt-clef-erisk-2024\"\n",
    "spark = get_spark()\n",
    "spark"
   ]
  },
  {
   "cell_type": "code",
   "execution_count": 3,
   "metadata": {},
   "outputs": [
    {
     "name": "stdout",
     "output_type": "stream",
     "text": [
      "<Bucket: dsgt-clef-erisk-2024>\n"
     ]
    }
   ],
   "source": [
    "from google.cloud import storage\n",
    "\n",
    "# Lookup Bucket\n",
    "\n",
    "storage_client = storage.Client()\n",
    "\n",
    "mybucket = storage_client.lookup_bucket('dsgt-clef-erisk-2024')\n",
    "print(mybucket)"
   ]
  },
  {
   "cell_type": "code",
   "execution_count": 4,
   "metadata": {},
   "outputs": [
    {
     "name": "stdout",
     "output_type": "stream",
     "text": [
      "task1/processed/eval/fm_count/v3/eval.json\n",
      "task1/processed/eval/fm_word2vec/v3/eval.json\n",
      "task1/processed/eval/logistic_count/v3/eval.json\n",
      "task1/processed/eval/logistic_word2vec/v3/eval.json\n",
      "task1/processed/eval/loopy_nb_count/v3/eval.json\n",
      "task1/processed/eval/nb_count/v3/eval.json\n",
      "task1/processed/eval/nb_hashing/v3/eval.json\n",
      "task1/processed/eval_sample/fm_count/v3/eval.json\n",
      "task1/processed/eval_sample/fm_word2vec/v3/eval.json\n",
      "task1/processed/eval_sample/logistic_count/v3/eval.json\n",
      "task1/processed/eval_sample/logistic_word2vec/v3/eval.json\n",
      "task1/processed/eval_sample/loopy_nb_count/v3/eval.json\n",
      "task1/processed/eval_sample/nb_count/v3/eval.json\n",
      "task1/processed/eval_sample/nb_hashing/v3/eval.json\n"
     ]
    }
   ],
   "source": [
    "blobs = mybucket.list_blobs()\n",
    "\n",
    "eval_list = []\n",
    "\n",
    "for blob in blobs:\n",
    "    if 'eval.json' in blob.name:\n",
    "        print(blob.name)\n",
    "\n",
    "        eval_list.append(blob.name)"
   ]
  },
  {
   "cell_type": "code",
   "execution_count": 28,
   "metadata": {},
   "outputs": [],
   "source": [
    "from pyspark.sql import functions as F\n",
    "\n",
    "eval1 = spark.read.json(f\"{bucket}/task1/processed/eval/*/*/eval.json\", multiLine=True)\n",
    "# eval1.show()\n",
    "# eval1.withColumn(\"path\",F.input_file_name()).show()\n",
    "resultsdf = eval1.withColumn(\"path\",F.input_file_name()).toPandas()\n"
   ]
  },
  {
   "cell_type": "code",
   "execution_count": 20,
   "metadata": {},
   "outputs": [],
   "source": [
    "# Read a singular file from gc buckets\n",
    "blob = mybucket.blob(f\"task1/processed/eval/fm_count/v3/eval.json\")\n",
    "\n",
    "with blob.open(\"r\") as f:\n",
    "    print(f.read())"
   ]
  },
  {
   "cell_type": "code",
   "execution_count": 29,
   "metadata": {},
   "outputs": [
    {
     "data": {
      "text/html": [
       "<div>\n",
       "<style scoped>\n",
       "    .dataframe tbody tr th:only-of-type {\n",
       "        vertical-align: middle;\n",
       "    }\n",
       "\n",
       "    .dataframe tbody tr th {\n",
       "        vertical-align: top;\n",
       "    }\n",
       "\n",
       "    .dataframe thead th {\n",
       "        text-align: right;\n",
       "    }\n",
       "</style>\n",
       "<table border=\"1\" class=\"dataframe\">\n",
       "  <thead>\n",
       "    <tr style=\"text-align: right;\">\n",
       "      <th></th>\n",
       "      <th>accuracy</th>\n",
       "      <th>f1</th>\n",
       "      <th>mean_accuracy_test</th>\n",
       "      <th>mean_accuracy_train</th>\n",
       "      <th>mean_f1_test</th>\n",
       "      <th>mean_f1_train</th>\n",
       "      <th>time</th>\n",
       "      <th>path</th>\n",
       "    </tr>\n",
       "  </thead>\n",
       "  <tbody>\n",
       "    <tr>\n",
       "      <th>0</th>\n",
       "      <td>{'test': {'target_1': 0.8527918781725888, 'tar...</td>\n",
       "      <td>{'test': {'target_1': 0.7850358111396982, 'tar...</td>\n",
       "      <td>0.785812</td>\n",
       "      <td>0.779946</td>\n",
       "      <td>0.732174</td>\n",
       "      <td>0.725416</td>\n",
       "      <td>5173.888613</td>\n",
       "      <td>gs://dsgt-clef-erisk-2024/task1/processed/eval...</td>\n",
       "    </tr>\n",
       "    <tr>\n",
       "      <th>1</th>\n",
       "      <td>{'test': {'target_1': 0.8223350253807107, 'tar...</td>\n",
       "      <td>{'test': {'target_1': 0.7696506087128657, 'tar...</td>\n",
       "      <td>0.875174</td>\n",
       "      <td>0.870619</td>\n",
       "      <td>0.831250</td>\n",
       "      <td>0.822320</td>\n",
       "      <td>241.885394</td>\n",
       "      <td>gs://dsgt-clef-erisk-2024/task1/processed/eval...</td>\n",
       "    </tr>\n",
       "    <tr>\n",
       "      <th>2</th>\n",
       "      <td>{'test': {'target_1': 0.8527918781725888, 'tar...</td>\n",
       "      <td>{'test': {'target_1': 0.7850358111396982, 'tar...</td>\n",
       "      <td>0.868086</td>\n",
       "      <td>0.855428</td>\n",
       "      <td>0.815505</td>\n",
       "      <td>0.799129</td>\n",
       "      <td>1274.265832</td>\n",
       "      <td>gs://dsgt-clef-erisk-2024/task1/processed/eval...</td>\n",
       "    </tr>\n",
       "    <tr>\n",
       "      <th>3</th>\n",
       "      <td>{'test': {'target_1': 0.8375634517766497, 'tar...</td>\n",
       "      <td>{'test': {'target_1': 0.7774069607650671, 'tar...</td>\n",
       "      <td>0.881330</td>\n",
       "      <td>0.876923</td>\n",
       "      <td>0.834353</td>\n",
       "      <td>0.825473</td>\n",
       "      <td>269.669995</td>\n",
       "      <td>gs://dsgt-clef-erisk-2024/task1/processed/eval...</td>\n",
       "    </tr>\n",
       "    <tr>\n",
       "      <th>4</th>\n",
       "      <td>{'test': {'target_1': 0.8375634517766497, 'tar...</td>\n",
       "      <td>{'test': {'target_1': 0.7774069607650671, 'tar...</td>\n",
       "      <td>0.879270</td>\n",
       "      <td>0.876125</td>\n",
       "      <td>0.833316</td>\n",
       "      <td>0.825073</td>\n",
       "      <td>562.322454</td>\n",
       "      <td>gs://dsgt-clef-erisk-2024/task1/processed/eval...</td>\n",
       "    </tr>\n",
       "    <tr>\n",
       "      <th>5</th>\n",
       "      <td>{'test': {'target_1': 0.7766497461928934, 'tar...</td>\n",
       "      <td>{'test': {'target_1': 0.7657233673797927, 'tar...</td>\n",
       "      <td>0.830131</td>\n",
       "      <td>0.992224</td>\n",
       "      <td>0.837461</td>\n",
       "      <td>0.992103</td>\n",
       "      <td>355.536902</td>\n",
       "      <td>gs://dsgt-clef-erisk-2024/task1/processed/eval...</td>\n",
       "    </tr>\n",
       "    <tr>\n",
       "      <th>6</th>\n",
       "      <td>{'test': {'target_1': 0.8223350253807107, 'tar...</td>\n",
       "      <td>{'test': {'target_1': 0.7951432085536678, 'tar...</td>\n",
       "      <td>0.877425</td>\n",
       "      <td>0.942504</td>\n",
       "      <td>0.864343</td>\n",
       "      <td>0.936157</td>\n",
       "      <td>367.077385</td>\n",
       "      <td>gs://dsgt-clef-erisk-2024/task1/processed/eval...</td>\n",
       "    </tr>\n",
       "  </tbody>\n",
       "</table>\n",
       "</div>"
      ],
      "text/plain": [
       "                                            accuracy  \\\n",
       "0  {'test': {'target_1': 0.8527918781725888, 'tar...   \n",
       "1  {'test': {'target_1': 0.8223350253807107, 'tar...   \n",
       "2  {'test': {'target_1': 0.8527918781725888, 'tar...   \n",
       "3  {'test': {'target_1': 0.8375634517766497, 'tar...   \n",
       "4  {'test': {'target_1': 0.8375634517766497, 'tar...   \n",
       "5  {'test': {'target_1': 0.7766497461928934, 'tar...   \n",
       "6  {'test': {'target_1': 0.8223350253807107, 'tar...   \n",
       "\n",
       "                                                  f1  mean_accuracy_test  \\\n",
       "0  {'test': {'target_1': 0.7850358111396982, 'tar...            0.785812   \n",
       "1  {'test': {'target_1': 0.7696506087128657, 'tar...            0.875174   \n",
       "2  {'test': {'target_1': 0.7850358111396982, 'tar...            0.868086   \n",
       "3  {'test': {'target_1': 0.7774069607650671, 'tar...            0.881330   \n",
       "4  {'test': {'target_1': 0.7774069607650671, 'tar...            0.879270   \n",
       "5  {'test': {'target_1': 0.7657233673797927, 'tar...            0.830131   \n",
       "6  {'test': {'target_1': 0.7951432085536678, 'tar...            0.877425   \n",
       "\n",
       "   mean_accuracy_train  mean_f1_test  mean_f1_train         time  \\\n",
       "0             0.779946      0.732174       0.725416  5173.888613   \n",
       "1             0.870619      0.831250       0.822320   241.885394   \n",
       "2             0.855428      0.815505       0.799129  1274.265832   \n",
       "3             0.876923      0.834353       0.825473   269.669995   \n",
       "4             0.876125      0.833316       0.825073   562.322454   \n",
       "5             0.992224      0.837461       0.992103   355.536902   \n",
       "6             0.942504      0.864343       0.936157   367.077385   \n",
       "\n",
       "                                                path  \n",
       "0  gs://dsgt-clef-erisk-2024/task1/processed/eval...  \n",
       "1  gs://dsgt-clef-erisk-2024/task1/processed/eval...  \n",
       "2  gs://dsgt-clef-erisk-2024/task1/processed/eval...  \n",
       "3  gs://dsgt-clef-erisk-2024/task1/processed/eval...  \n",
       "4  gs://dsgt-clef-erisk-2024/task1/processed/eval...  \n",
       "5  gs://dsgt-clef-erisk-2024/task1/processed/eval...  \n",
       "6  gs://dsgt-clef-erisk-2024/task1/processed/eval...  "
      ]
     },
     "execution_count": 29,
     "metadata": {},
     "output_type": "execute_result"
    }
   ],
   "source": [
    "resultsdf"
   ]
  },
  {
   "cell_type": "code",
   "execution_count": 31,
   "metadata": {},
   "outputs": [
    {
     "data": {
      "text/plain": [
       "0    gs://dsgt-clef-erisk-2024/task1/processed/eval...\n",
       "1    gs://dsgt-clef-erisk-2024/task1/processed/eval...\n",
       "2    gs://dsgt-clef-erisk-2024/task1/processed/eval...\n",
       "3    gs://dsgt-clef-erisk-2024/task1/processed/eval...\n",
       "4    gs://dsgt-clef-erisk-2024/task1/processed/eval...\n",
       "5    gs://dsgt-clef-erisk-2024/task1/processed/eval...\n",
       "6    gs://dsgt-clef-erisk-2024/task1/processed/eval...\n",
       "Name: path, dtype: object"
      ]
     },
     "execution_count": 31,
     "metadata": {},
     "output_type": "execute_result"
    }
   ],
   "source": [
    "resultsdf['path']"
   ]
  },
  {
   "cell_type": "code",
   "execution_count": null,
   "metadata": {},
   "outputs": [],
   "source": [
    "import pandas as pd\n",
    "from pyspark.sql.functions import pandas_udf\n",
    "\n",
    "@pandas_udf(\"string\")\n",
    "def to_upper(s: pd.Series) -> pd.Series:\n",
    "    return s.split('/')"
   ]
  }
 ],
 "metadata": {
  "kernelspec": {
   "display_name": "Python 3",
   "language": "python",
   "name": "python3"
  },
  "language_info": {
   "codemirror_mode": {
    "name": "ipython",
    "version": 3
   },
   "file_extension": ".py",
   "mimetype": "text/x-python",
   "name": "python",
   "nbconvert_exporter": "python",
   "pygments_lexer": "ipython3",
   "version": "3.10.12"
  }
 },
 "nbformat": 4,
 "nbformat_minor": 2
}
