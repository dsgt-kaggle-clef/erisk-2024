{
 "cells": [
  {
   "cell_type": "code",
   "execution_count": 2,
   "metadata": {},
   "outputs": [
    {
     "name": "stdout",
     "output_type": "stream",
     "text": [
      "At gs://dsgt-clef-erisk-2024/task1/processed/data/count/v3/data/**, worker process 225984 thread 140166221711168 listed 501...\n",
      "At file:///mnt/data/erisk/task1/processed/data/count/v3/data/**, worker process 225984 thread 140166221711168 listed 501...\n",
      "  Completed files 0 | 0B                                                       \n"
     ]
    }
   ],
   "source": [
    "# rsync the data locally\n",
    "! gcloud storage rsync -r \\\n",
    "    gs://dsgt-clef-erisk-2024/task1/processed/data/count/v3/data \\\n",
    "    /mnt/data/erisk/task1/processed/data/count/v3/data"
   ]
  },
  {
   "cell_type": "code",
   "execution_count": 11,
   "metadata": {},
   "outputs": [],
   "source": [
    "gcs_prefix = \"gs://dsgt-clef-erisk-2024\"\n",
    "local_prefix = \"/mnt/data/erisk\""
   ]
  },
  {
   "cell_type": "code",
   "execution_count": 1,
   "metadata": {},
   "outputs": [
    {
     "name": "stderr",
     "output_type": "stream",
     "text": [
      "24/04/01 05:25:30 WARN Utils: Your hostname, daphne-major resolves to a loopback address: 127.0.1.1; using 172.28.199.217 instead (on interface eth0)\n",
      "24/04/01 05:25:30 WARN Utils: Set SPARK_LOCAL_IP if you need to bind to another address\n",
      "Setting default log level to \"WARN\".\n",
      "To adjust logging level use sc.setLogLevel(newLevel). For SparkR, use setLogLevel(newLevel).\n",
      "24/04/01 05:25:31 WARN NativeCodeLoader: Unable to load native-hadoop library for your platform... using builtin-java classes where applicable\n",
      "24/04/01 05:25:31 WARN SparkConf: Note that spark.local.dir will be overridden by the value set by the cluster manager (via SPARK_LOCAL_DIRS in mesos/standalone/kubernetes and LOCAL_DIRS in YARN).\n"
     ]
    },
    {
     "name": "stdout",
     "output_type": "stream",
     "text": [
      "root\n",
      " |-- docid: string (nullable = true)\n",
      " |-- text: string (nullable = true)\n",
      " |-- filename: string (nullable = true)\n",
      " |-- dataset: string (nullable = true)\n",
      " |-- words: array (nullable = true)\n",
      " |    |-- element: string (containsNull = true)\n",
      " |-- filtered_words: array (nullable = true)\n",
      " |    |-- element: string (containsNull = true)\n",
      " |-- counttf: array (nullable = true)\n",
      " |    |-- element: double (containsNull = true)\n",
      " |-- tfidf: array (nullable = true)\n",
      " |    |-- element: double (containsNull = true)\n",
      "\n",
      "+------------+--------------------+-----------+-------+--------------------+--------------------+--------------------+--------------------+\n",
      "|       docid|                text|   filename|dataset|               words|      filtered_words|             counttf|               tfidf|\n",
      "+------------+--------------------+-----------+-------+--------------------+--------------------+--------------------+--------------------+\n",
      "|   52118_1_2|Someone who doesn...|  s_53.trec|   test|[someone, who, do...|[someone, fit, sc...|[4.0, 1.0, 0.0, 0...|[2.47135293710353...|\n",
      "| 249565_0_10|\\n\\nDoes anyone h...| s_250.trec|   test|[, , does, anyone...|[, , anyone, past...|[5.0, 0.0, 0.0, 0...|[3.08919117137941...|\n",
      "| 431404_1_32|Is this silent tr...| s_432.trec|   test|[is, this, silent...|[silent, treatmen...|[2.0, 0.0, 2.0, 0...|[1.23567646855176...|\n",
      "|s_1463_688_2| Now think about ...|s_1463.trec|  train|[, now, think, ab...|[, think, clearly...|[1.0, 0.0, 0.0, 0...|[0.61783823427588...|\n",
      "|s_1030_652_0| Such a simplisti...|s_1030.trec|  train|[, such, a, simpl...|[, simplistic, wa...|[1.0, 0.0, 0.0, 0...|[0.61783823427588...|\n",
      "|  277184_0_6|\\n\\nNow, I do thi...| s_278.trec|   test|[, , now,, i, do,...|[, , now,, think,...|[2.0, 0.0, 0.0, 0...|[1.23567646855176...|\n",
      "|  377940_0_2|I have a feeling ...| s_378.trec|   test|[i, have, a, feel...|[feeling, stems, ...|[4.0, 0.0, 0.0, 0...|[2.47135293710353...|\n",
      "|  535145_0_3|we Regulate who c...| s_536.trec|   test|[we, regulate, wh...|[regulate, drive,...|[0.0, 0.0, 0.0, 0...|[0.0, 0.0, 0.0, 0...|\n",
      "|  390061_0_7|But then I starte...| s_391.trec|   test|[but, then, i, st...|[started, getting...|[2.0, 0.0, 0.0, 0...|[1.23567646855176...|\n",
      "|s_1697_168_5|https://challonge...|s_1697.trec|  train|[https://challong...|[https://challong...|[0.0, 0.0, 0.0, 0...|[0.0, 0.0, 0.0, 0...|\n",
      "|s_1233_571_2|The most used and...|s_1233.trec|  train|[the, most, used,...|[used, time, reli...|[0.0, 0.0, 0.0, 0...|[0.0, 0.0, 0.0, 0...|\n",
      "| 346571_0_60|Mind you, this is...| s_347.trec|   test|[mind, you,, this...|[mind, you,, excl...|[2.0, 0.0, 0.0, 0...|[1.23567646855176...|\n",
      "|s_978_1716_0|We can find a lot...| s_978.trec|  train|[we, can, find, a...|[find, lot, smart...|[0.0, 0.0, 0.0, 0...|[0.0, 0.0, 0.0, 0...|\n",
      "|  124489_0_6|Thankfully though...| s_125.trec|   test|[thankfully, thou...|[thankfully, thou...|[1.0, 0.0, 1.0, 0...|[0.61783823427588...|\n",
      "|   18301_0_0|So my gf and I ha...|  s_19.trec|   test|[so, my, gf, and,...|[gf, seeing, 5, m...|[0.0, 0.0, 0.0, 0...|[0.0, 0.0, 0.0, 0...|\n",
      "| 141331_4_21|Another best frie...| s_142.trec|   test|[another, best, f...|[another, best, f...|[0.0, 0.0, 0.0, 0...|[0.0, 0.0, 0.0, 0...|\n",
      "|365891_13_31|I know he felt ba...| s_366.trec|   test|[i, know, he, fel...|[know, felt, bad....|[2.0, 0.0, 0.0, 0...|[1.23567646855176...|\n",
      "|s_3101_487_1|The most used and...|s_3101.trec|  train|[the, most, used,...|[used, time, reli...|[0.0, 0.0, 0.0, 0...|[0.0, 0.0, 0.0, 0...|\n",
      "|  52052_0_14|College student h...|  s_53.trec|   test|[college, student...|[college, student...|[2.0, 0.0, 0.0, 0...|[1.23567646855176...|\n",
      "| 361303_0_10|I decided to call...| s_362.trec|   test|[i, decided, to, ...|[decided, call, g...|[3.0, 0.0, 2.0, 0...|[1.85351470282765...|\n",
      "+------------+--------------------+-----------+-------+--------------------+--------------------+--------------------+--------------------+\n",
      "only showing top 20 rows\n",
      "\n"
     ]
    },
    {
     "name": "stderr",
     "output_type": "stream",
     "text": [
      "                                                                                \r"
     ]
    },
    {
     "data": {
      "text/plain": [
       "19806893"
      ]
     },
     "execution_count": 1,
     "metadata": {},
     "output_type": "execute_result"
    },
    {
     "name": "stderr",
     "output_type": "stream",
     "text": [
      "----------------------------------------\n",
      "Exception occurred during processing of request from ('127.0.0.1', 38280)\n",
      "Traceback (most recent call last):\n",
      "  File \"/home/anthony/.pyenv/versions/3.11.6/lib/python3.11/socketserver.py\", line 317, in _handle_request_noblock\n",
      "    self.process_request(request, client_address)\n",
      "  File \"/home/anthony/.pyenv/versions/3.11.6/lib/python3.11/socketserver.py\", line 348, in process_request\n",
      "    self.finish_request(request, client_address)\n",
      "  File \"/home/anthony/.pyenv/versions/3.11.6/lib/python3.11/socketserver.py\", line 361, in finish_request\n",
      "    self.RequestHandlerClass(request, client_address, self)\n",
      "  File \"/home/anthony/.pyenv/versions/3.11.6/lib/python3.11/socketserver.py\", line 755, in __init__\n",
      "    self.handle()\n",
      "  File \"/home/anthony/omscs/dsgt-clef/venv/lib/python3.11/site-packages/pyspark/accumulators.py\", line 295, in handle\n",
      "    poll(accum_updates)\n",
      "  File \"/home/anthony/omscs/dsgt-clef/venv/lib/python3.11/site-packages/pyspark/accumulators.py\", line 267, in poll\n",
      "    if self.rfile in r and func():\n",
      "                           ^^^^^^\n",
      "  File \"/home/anthony/omscs/dsgt-clef/venv/lib/python3.11/site-packages/pyspark/accumulators.py\", line 271, in accum_updates\n",
      "    num_updates = read_int(self.rfile)\n",
      "                  ^^^^^^^^^^^^^^^^^^^^\n",
      "  File \"/home/anthony/omscs/dsgt-clef/venv/lib/python3.11/site-packages/pyspark/serializers.py\", line 596, in read_int\n",
      "    raise EOFError\n",
      "EOFError\n",
      "----------------------------------------\n"
     ]
    }
   ],
   "source": [
    "from erisk.utils import get_spark\n",
    "\n",
    "spark = get_spark(\n",
    "    memory=\"30g\",\n",
    "    **{\n",
    "        \"spark.sql.parquet.enableVectorizedReader\": False,\n",
    "    },\n",
    ")\n",
    "df = spark.read.parquet(\"/mnt/data/erisk/task1/processed/data/count/v3/data\")\n",
    "df.printSchema()\n",
    "df.show()\n",
    "df.count()"
   ]
  },
  {
   "cell_type": "code",
   "execution_count": 4,
   "metadata": {},
   "outputs": [
    {
     "name": "stderr",
     "output_type": "stream",
     "text": [
      "                                                                                \r"
     ]
    },
    {
     "data": {
      "text/plain": [
       "19802904"
      ]
     },
     "execution_count": 4,
     "metadata": {},
     "output_type": "execute_result"
    }
   ],
   "source": [
    "df.select(\"docid\").distinct().count()"
   ]
  },
  {
   "cell_type": "code",
   "execution_count": 5,
   "metadata": {},
   "outputs": [
    {
     "name": "stderr",
     "output_type": "stream",
     "text": [
      "24/04/01 04:23:50 WARN SparkStringUtils: Truncated the string representation of a plan since it was too large. This behavior can be adjusted by setting 'spark.sql.debug.maxToStringFields'.\n",
      "[Stage 11:======================================================>(99 + 1) / 100]\r"
     ]
    },
    {
     "name": "stdout",
     "output_type": "stream",
     "text": [
      "+-------+------------------+------------------+--------------------+-------------+\n",
      "|summary|      length(text)|       size(words)|size(filtered_words)|size(counttf)|\n",
      "+-------+------------------+------------------+--------------------+-------------+\n",
      "|  count|          19806893|          19806893|            19806893|     19806893|\n",
      "|   mean| 229.3834227306625| 44.56283496861421|   22.29600740509882|      10000.0|\n",
      "| stddev|172.28785433552613|28.756539502576018|  15.776512221755395|          0.0|\n",
      "|    min|                 0|                 0|                   0|        10000|\n",
      "|    max|             39999|              8000|                8000|        10000|\n",
      "+-------+------------------+------------------+--------------------+-------------+\n",
      "\n"
     ]
    },
    {
     "name": "stderr",
     "output_type": "stream",
     "text": [
      "                                                                                \r"
     ]
    }
   ],
   "source": [
    "# check the average length of the text and the tokens\n",
    "from pyspark.sql import functions as F\n",
    "\n",
    "# average text length, words length, and filtered words length\n",
    "df.select(\n",
    "    F.length(\"text\"), F.size(\"words\"), F.size(\"filtered_words\"), F.size(\"counttf\")\n",
    ").describe().show()"
   ]
  },
  {
   "cell_type": "code",
   "execution_count": 6,
   "metadata": {},
   "outputs": [
    {
     "name": "stderr",
     "output_type": "stream",
     "text": [
      "                                                                                \r"
     ]
    },
    {
     "data": {
      "text/plain": [
       "19802881"
      ]
     },
     "execution_count": 6,
     "metadata": {},
     "output_type": "execute_result"
    }
   ],
   "source": [
    "df.where(\"length(text) > 10\").count()"
   ]
  },
  {
   "cell_type": "code",
   "execution_count": 7,
   "metadata": {},
   "outputs": [
    {
     "data": {
      "text/plain": [
       "4012"
      ]
     },
     "execution_count": 7,
     "metadata": {},
     "output_type": "execute_result"
    }
   ],
   "source": [
    "19806893 - 19802881"
   ]
  },
  {
   "cell_type": "code",
   "execution_count": 2,
   "metadata": {},
   "outputs": [
    {
     "name": "stderr",
     "output_type": "stream",
     "text": [
      "                                                                                \r"
     ]
    },
    {
     "name": "stdout",
     "output_type": "stream",
     "text": [
      "+--------------+--------------------------------------------------------------------------------------------------------------------------------------------------------------------------------------------------------------------------------------------------------------------------------------------------------------------------------------------------------------------------------------------------------------------------------------------------------------------------------------------------------------------------------------------------------------------------------------------------------------------------------------------------------------------------------------------------------------+\n",
      "|repeated_score|text                                                                                                                                                                                                                                                                                                                                                                                                                                                                                                                                                                                                                                                                                                          |\n",
      "+--------------+--------------------------------------------------------------------------------------------------------------------------------------------------------------------------------------------------------------------------------------------------------------------------------------------------------------------------------------------------------------------------------------------------------------------------------------------------------------------------------------------------------------------------------------------------------------------------------------------------------------------------------------------------------------------------------------------------------------+\n",
      "|0.20408164    |Someone who doesn't fit in that scheme makes them afraid, because they can't handle this deviation from their norm. \\n\\nIt's socially demanded of them to listen to some kind of music, much like having a favorite sport(-team) or anything that people usually talk about during so called \"small\" talk. \\nMost of these people actually don't have much appreciation for sports, or music at all, they just do it... and since most of them are kind of intelligent, they do it well enough (getting some knowledge about their favorite artists, learning abit about music in general => all to be able to participate in conversation)\\n\\nThat's also why bad music is 'popular' and makes all the money.|\n",
      "|0.30555555    |\\n\\nDoes anyone have any past experience of this, and if they did, did the 'love' end up just being a young romance? I am her first boyfriend and because of the way I am (very pessimistic) I cant help but think this is just a girl in her first relationship thinking its true love but if what she is saying is true and it is true love then surely a 3 year break would be okay? \\n\\nAny help is apprecaited,\\n\\nThanks.                                                                                                                                                                                                                                                                               |\n",
      "|0.26086956    |Is this silent treatment damaging behavior on his part and if so, how can I get him to stop it? I want to get through to him so badly, it frustrates me to the point of tears. \\n\\nSincere thanks to all in advance for reading & any advice offered!                                                                                                                                                                                                                                                                                                                                                                                                                                                         |\n",
      "|0.4           | Now think about how clearly you can make out a car in Google Earth, and this is just what is publicly available.                                                                                                                                                                                                                                                                                                                                                                                                                                                                                                                                                                                             |\n",
      "|0.5714286     | Such a simplistic way of looking at it which completely ignores my point.                                                                                                                                                                                                                                                                                                                                                                                                                                                                                                                                                                                                                                    |\n",
      "|0.23076923    |\\n\\nNow, I do think still about what I did, and I do have bouts of shame. Normally I do not talk to my SO about these feelings. He knows I have them, but this is a personal issue for me to manage on my own, and I’m not about to start a pity party over something that I did, to myself, to our relationship, and to him.                                                                                                                                                                                                                                                                                                                                                                                 |\n",
      "|0.28          |I have a feeling this stems from a previous relationship. When \\nwe were at three months, I asked him what we were and he said \"Were just having fun\" and that he had his heart broken in his last relationship which is why he hasn't had a girlfriend in two years. \\n\\n\\nI decided to lay off, I didn't want to be pushy after all.                                                                                                                                                                                                                                                                                                                                                                        |\n",
      "|0.2173913     |we Regulate who can drive a vehicle (and which kind of vehicles), we regulate what constitutes Free Speech, and it is not tyranny of the US. It is simply making it harder to abuse whatever you are buying/using. If you look around the world at other countries with far stricter gun laws, and you see that they do not have the same gun violence issues as American's does.                                                                                                                                                                                                                                                                                                                             |\n",
      "|0.3043478     |But then I started getting invited to things and I made myself go and I started being more social. Now I have a great little group of friends with similar interests and a wonderful boyfriend because of it. \\n\\n**TL;DR** it's not easy if you're not used to it.                                                                                                                                                                                                                                                                                                                                                                                                                                           |\n",
      "|1.0           |https://challonge.com/q8xrb5tl [View Poll](https://www.reddit.com/poll/jmejc0)                                                                                                                                                                                                                                                                                                                                                                                                                                                                                                                                                                                                                                |\n",
      "|0.5           |The most used and at the same time the most reliable crypto exchange platform is Binance.                                                                                                                                                                                                                                                                                                                                                                                                                                                                                                                                                                                                                     |\n",
      "|0.35714287    |Mind you, this isn't exclusive to drugs. No matter what it is, I'll always push it to the limit. \\n\\nI'm never really content.                                                                                                                                                                                                                                                                                                                                                                                                                                                                                                                                                                                |\n",
      "|0.8           |We can find a lot of smart copy-trading features on the Tycoon platform.                                                                                                                                                                                                                                                                                                                                                                                                                                                                                                                                                                                                                                      |\n",
      "|0.25          |Thankfully though, having played the game for so long, I got to know the developers and get a rapport with them, and when they decided they no longer wanted to maintain their company, Samu Games, I quickly bought the company from them and now I own and manage Artifact, the game I grew up on. \\nTLDR; played an online RTS for a decade, got to know the indie developers, bought the company in 09, now run and develop the game I played religiously.                                                                                                                                                                                                                                                |\n",
      "|0.2           |So my gf and I have been seeing each other for about 5 months now. I wasn't really anticipating any relationships this year considering that I'm in my senior year of college, however we clicked very well upon meeting and on our first few dates and have developed a pretty sound relationship up to this point.                                                                                                                                                                                                                                                                                                                                                                                          |\n",
      "|0.1904762     |Another best friend admitted to being a pathological liar after being friends for 3 years when I cornered him. Everything about his life was a lie. My sister died when I was very young in a flash flood accident on a camping trip.                                                                                                                                                                                                                                                                                                                                                                                                                                                                         |\n",
      "|0.33333334    |I know he felt bad. He hates leaving me frustrated actually more than I hate being frustrated. \\n\\nLast night, we had sex.                                                                                                                                                                                                                                                                                                                                                                                                                                                                                                                                                                                    |\n",
      "|0.5           |The most used and at the same time the most reliable crypto exchange platform is Binance.                                                                                                                                                                                                                                                                                                                                                                                                                                                                                                                                                                                                                     |\n",
      "|0.35714287    |College student here cannot even begin to afford that. \\n\\nI love being tall. However, buying close is a pain.                                                                                                                                                                                                                                                                                                                                                                                                                                                                                                                                                                                                |\n",
      "|0.24242425    |I decided to call her to get some closure/information about this guy...\\n\\nShe tells me that he is 29(she's 21) and that she kissed him on new years and had been out on two dates with him before that. This was extremely upsetting because we hadn't even been officially broken up for 2 weeks. \\n\\nI get the sense that she was getting impatient with me not moving on with my life quick enough, and wants an older man who has his life more together.                                                                                                                                                                                                                                                |\n",
      "+--------------+--------------------------------------------------------------------------------------------------------------------------------------------------------------------------------------------------------------------------------------------------------------------------------------------------------------------------------------------------------------------------------------------------------------------------------------------------------------------------------------------------------------------------------------------------------------------------------------------------------------------------------------------------------------------------------------------------------------+\n",
      "only showing top 20 rows\n",
      "\n",
      "+--------------+--------------------------------------------------------------------------------------------------------------------------------------------------------------------------------------------------------------------------------------------------------------------------------------------------------------------------------------------------------------------------------------------------------------------------------------------------------------------------------------------------------------------------------------------------------------------------------------------------------------------------------------------------------------------------------------------------------------+\n",
      "|repeated_score|text                                                                                                                                                                                                                                                                                                                                                                                                                                                                                                                                                                                                                                                                                                          |\n",
      "+--------------+--------------------------------------------------------------------------------------------------------------------------------------------------------------------------------------------------------------------------------------------------------------------------------------------------------------------------------------------------------------------------------------------------------------------------------------------------------------------------------------------------------------------------------------------------------------------------------------------------------------------------------------------------------------------------------------------------------------+\n",
      "|0.79424906    |Someone who doesn't fit in that scheme makes them afraid, because they can't handle this deviation from their norm. \\n\\nIt's socially demanded of them to listen to some kind of music, much like having a favorite sport(-team) or anything that people usually talk about during so called \"small\" talk. \\nMost of these people actually don't have much appreciation for sports, or music at all, they just do it... and since most of them are kind of intelligent, they do it well enough (getting some knowledge about their favorite artists, learning abit about music in general => all to be able to participate in conversation)\\n\\nThat's also why bad music is 'popular' and makes all the money.|\n",
      "|1.0949641     |\\n\\nDoes anyone have any past experience of this, and if they did, did the 'love' end up just being a young romance? I am her first boyfriend and because of the way I am (very pessimistic) I cant help but think this is just a girl in her first relationship thinking its true love but if what she is saying is true and it is true love then surely a 3 year break would be okay? \\n\\nAny help is apprecaited,\\n\\nThanks.                                                                                                                                                                                                                                                                               |\n",
      "|0.817955      |Is this silent treatment damaging behavior on his part and if so, how can I get him to stop it? I want to get through to him so badly, it frustrates me to the point of tears. \\n\\nSincere thanks to all in advance for reading & any advice offered!                                                                                                                                                                                                                                                                                                                                                                                                                                                         |\n",
      "|0.92103404    | Now think about how clearly you can make out a car in Google Earth, and this is just what is publicly available.                                                                                                                                                                                                                                                                                                                                                                                                                                                                                                                                                                                             |\n",
      "|1.1119486     | Such a simplistic way of looking at it which completely ignores my point.                                                                                                                                                                                                                                                                                                                                                                                                                                                                                                                                                                                                                                    |\n",
      "|0.7518684     |\\n\\nNow, I do think still about what I did, and I do have bouts of shame. Normally I do not talk to my SO about these feelings. He knows I have them, but this is a personal issue for me to manage on my own, and I’m not about to start a pity party over something that I did, to myself, to our relationship, and to him.                                                                                                                                                                                                                                                                                                                                                                                 |\n",
      "|0.90128523    |I have a feeling this stems from a previous relationship. When \\nwe were at three months, I asked him what we were and he said \"Were just having fun\" and that he had his heart broken in his last relationship which is why he hasn't had a girlfriend in two years. \\n\\n\\nI decided to lay off, I didn't want to be pushy after all.                                                                                                                                                                                                                                                                                                                                                                        |\n",
      "|0.6816292     |we Regulate who can drive a vehicle (and which kind of vehicles), we regulate what constitutes Free Speech, and it is not tyranny of the US. It is simply making it harder to abuse whatever you are buying/using. If you look around the world at other countries with far stricter gun laws, and you see that they do not have the same gun violence issues as American's does.                                                                                                                                                                                                                                                                                                                             |\n",
      "|0.95428085    |But then I started getting invited to things and I made myself go and I started being more social. Now I have a great little group of friends with similar interests and a wonderful boyfriend because of it. \\n\\n**TL;DR** it's not easy if you're not used to it.                                                                                                                                                                                                                                                                                                                                                                                                                                           |\n",
      "|0.0           |https://challonge.com/q8xrb5tl [View Poll](https://www.reddit.com/poll/jmejc0)                                                                                                                                                                                                                                                                                                                                                                                                                                                                                                                                                                                                                                |\n",
      "|1.0397208     |The most used and at the same time the most reliable crypto exchange platform is Binance.                                                                                                                                                                                                                                                                                                                                                                                                                                                                                                                                                                                                                     |\n",
      "|0.9425205     |Mind you, this isn't exclusive to drugs. No matter what it is, I'll always push it to the limit. \\n\\nI'm never really content.                                                                                                                                                                                                                                                                                                                                                                                                                                                                                                                                                                                |\n",
      "|1.2875503     |We can find a lot of smart copy-trading features on the Tycoon platform.                                                                                                                                                                                                                                                                                                                                                                                                                                                                                                                                                                                                                                      |\n",
      "|0.89587975    |Thankfully though, having played the game for so long, I got to know the developers and get a rapport with them, and when they decided they no longer wanted to maintain their company, Samu Games, I quickly bought the company from them and now I own and manage Artifact, the game I grew up on. \\nTLDR; played an online RTS for a decade, got to know the indie developers, bought the company in 09, now run and develop the game I played religiously.                                                                                                                                                                                                                                                |\n",
      "|0.64377517    |So my gf and I have been seeing each other for about 5 months now. I wasn't really anticipating any relationships this year considering that I'm in my senior year of college, however we clicked very well upon meeting and on our first few dates and have developed a pretty sound relationship up to this point.                                                                                                                                                                                                                                                                                                                                                                                          |\n",
      "|0.579909      |Another best friend admitted to being a pathological liar after being friends for 3 years when I cornered him. Everything about his life was a lie. My sister died when I was very young in a flash flood accident on a camping trip.                                                                                                                                                                                                                                                                                                                                                                                                                                                                         |\n",
      "|0.9026834     |I know he felt bad. He hates leaving me frustrated actually more than I hate being frustrated. \\n\\nLast night, we had sex.                                                                                                                                                                                                                                                                                                                                                                                                                                                                                                                                                                                    |\n",
      "|1.0397208     |The most used and at the same time the most reliable crypto exchange platform is Binance.                                                                                                                                                                                                                                                                                                                                                                                                                                                                                                                                                                                                                     |\n",
      "|0.9425205     |College student here cannot even begin to afford that. \\n\\nI love being tall. However, buying close is a pain.                                                                                                                                                                                                                                                                                                                                                                                                                                                                                                                                                                                                |\n",
      "|0.8476382     |I decided to call her to get some closure/information about this guy...\\n\\nShe tells me that he is 29(she's 21) and that she kissed him on new years and had been out on two dates with him before that. This was extremely upsetting because we hadn't even been officially broken up for 2 weeks. \\n\\nI get the sense that she was getting impatient with me not moving on with my life quick enough, and wants an older man who has his life more together.                                                                                                                                                                                                                                                |\n",
      "+--------------+--------------------------------------------------------------------------------------------------------------------------------------------------------------------------------------------------------------------------------------------------------------------------------------------------------------------------------------------------------------------------------------------------------------------------------------------------------------------------------------------------------------------------------------------------------------------------------------------------------------------------------------------------------------------------------------------------------------+\n",
      "only showing top 20 rows\n",
      "\n"
     ]
    }
   ],
   "source": [
    "# can we find documents that have an unusual amount of repeated words?\n",
    "# the naive way would be to explode the count vectorizer, and find one where the mass of the words is concentrated in a few words\n",
    "import numpy as np\n",
    "import pandas as pd\n",
    "from pyspark.sql import functions as F\n",
    "\n",
    "\n",
    "@F.pandas_udf(\"float\")\n",
    "def repeated_score(counts: pd.Series) -> pd.Series:\n",
    "    k = 3\n",
    "    arr = np.stack(counts.values, axis=0)\n",
    "    total = arr.sum(axis=1) + 1\n",
    "    topk = np.sort(arr, axis=1)[:, -k:].sum(axis=1) + 1\n",
    "    return pd.Series(topk / total)\n",
    "\n",
    "\n",
    "@F.pandas_udf(\"float\")\n",
    "def repeated_score_modified(counts: pd.Series) -> pd.Series:\n",
    "    k = 3\n",
    "    arr = np.stack(counts.values, axis=0)\n",
    "    total = arr.sum(axis=1) + 1\n",
    "    topk = np.sort(arr, axis=1)[:, -k:].sum(axis=1) + 1\n",
    "    return pd.Series((topk / total) * np.log(total))\n",
    "\n",
    "\n",
    "df.select(repeated_score(\"counttf\").alias(\"repeated_score\"), \"text\").show(\n",
    "    truncate=False\n",
    ")\n",
    "\n",
    "df.select(repeated_score_modified(\"counttf\").alias(\"repeated_score\"), \"text\").show(\n",
    "    truncate=False\n",
    ")"
   ]
  },
  {
   "cell_type": "code",
   "execution_count": 9,
   "metadata": {},
   "outputs": [
    {
     "name": "stdout",
     "output_type": "stream",
     "text": [
      "+------------+------------------+--------------------+\n",
      "|       docid|             score|                text|\n",
      "+------------+------------------+--------------------+\n",
      "|   52118_1_2|0.7942490404307401|Someone who doesn...|\n",
      "| 249565_0_10|1.0949641200838114|\\n\\nDoes anyone h...|\n",
      "| 431404_1_32|0.8179550128510825|Is this silent tr...|\n",
      "|s_1463_688_2|0.9210340371976184| Now think about ...|\n",
      "|s_1030_652_0| 1.111948656603036| Such a simplisti...|\n",
      "|  277184_0_6|0.7518684318511113|\\n\\nNow, I do thi...|\n",
      "|  377940_0_2|0.9012852309630962|I have a feeling ...|\n",
      "|  535145_0_3|0.6816291773759021|we Regulate who c...|\n",
      "|  390061_0_7| 0.954280848326263|But then I starte...|\n",
      "|s_1697_168_5|               0.0|https://challonge...|\n",
      "|s_1233_571_2|1.0397207708399179|The most used and...|\n",
      "| 346571_0_60|0.9425204748625923|Mind you, this is...|\n",
      "|s_978_1716_0|1.2875503299472804|We can find a lot...|\n",
      "|  124489_0_6|0.8958797346140275|Thankfully though...|\n",
      "|   18301_0_0|0.6437751649736402|So my gf and I ha...|\n",
      "| 141331_4_21|0.5799090357568425|Another best frie...|\n",
      "|365891_13_31|0.9026834003674034|I know he felt ba...|\n",
      "|s_3101_487_1|1.0397207708399179|The most used and...|\n",
      "|  52052_0_14|0.9425204748625923|College student h...|\n",
      "| 361303_0_10|0.8476381967191468|I decided to call...|\n",
      "+------------+------------------+--------------------+\n",
      "only showing top 20 rows\n",
      "\n"
     ]
    }
   ],
   "source": [
    "# let's try the scores again, but using pure spark constructs\n",
    "from functools import reduce\n",
    "\n",
    "scored = (\n",
    "    df.withColumn(\"sorted_counttf\", F.reverse(F.array_sort(\"counttf\")))\n",
    "    .withColumn(\n",
    "        \"total\", F.expr(\"AGGREGATE(sorted_counttf, 0D, (acc, x) -> acc + x)\") + 1\n",
    "    )\n",
    "    .withColumn(\n",
    "        \"topk\",\n",
    "        reduce(\n",
    "            lambda x, y: x + y, [F.col(\"sorted_counttf\").getItem(i) for i in range(3)]\n",
    "        )\n",
    "        + 1,\n",
    "    )\n",
    "    .withColumn(\"score\", F.expr(\"topk / total * log(total)\"))\n",
    "    .select(\"docid\", \"score\", \"text\")\n",
    ")\n",
    "scored.show()"
   ]
  },
  {
   "cell_type": "code",
   "execution_count": 27,
   "metadata": {},
   "outputs": [
    {
     "name": "stderr",
     "output_type": "stream",
     "text": [
      "24/04/01 06:47:46 WARN CacheManager: Asked to cache already cached data.\n",
      "[Stage 53:====================================================>  (96 + 4) / 100]\r"
     ]
    },
    {
     "name": "stdout",
     "output_type": "stream",
     "text": [
      "+------------+-----------------+--------------------------------------------------------------------------------------------------------------------------------------------------------------------------------------------------------+\n",
      "|       docid|            score|                                                                                                                                                                                                    text|\n",
      "+------------+-----------------+--------------------------------------------------------------------------------------------------------------------------------------------------------------------------------------------------------+\n",
      "|s_1721_303_1|8.987321812850125|fuck fuck fuck fuck fuck fuck fuck fuck fuck fuck fuck fuck fuck fuck fuck fuck fuck fuck fuck fuck fuck fuck fuck fuck fuck fuck fuck fuck fuck fuck fuck fuck fuck fuck fuck fuck fuck fuck fuck fu...|\n",
      "|   35552_0_2| 8.77855097543215|but you cant get more boners. \\n\\nBONER BONER BONER BONER BONER BONER BONER BONER BONER BONER BONER BONER BONER BONER BONER BONER BONER BONER BONER BONER BONER BONER BONER BONER BONER BONER BONER B...|\n",
      "|   35552_0_1| 8.77855097543215|but you cant get more boners. \\n\\nBONER BONER BONER BONER BONER BONER BONER BONER BONER BONER BONER BONER BONER BONER BONER BONER BONER BONER BONER BONER BONER BONER BONER BONER BONER BONER BONER B...|\n",
      "|s_1721_301_0|8.502891406705377|fuck fuck fuck fuck fuck fuck fuck fuck fuck fuck fuck fuck fuck fuck fuck fuck fuck fuck fuck fuck fuck fuck fuck fuck fuck fuck fuck fuck fuck fuck fuck fuck fuck fuck fuck fuck fuck fuck fuck fu...|\n",
      "| 503650_0_22|7.990821082090005|\\n                                                                                                                                                                                                   ...|\n",
      "| 503650_0_20|7.984909251348568|\\n\\nSo, Reddit, what can I do to help his situation? I am willing to do whatever I can to help him and his current situation! \\n                                                                     ...|\n",
      "| 503650_0_21|7.983891468132409|I am willing to do whatever I can to help him and his current situation! \\n                                                                                                                          ...|\n",
      "| s_694_152_0|7.784057002639929|He better Vik Vik Vik Vik Vik Vik Vik Vik Vik Vik Vik Vik Vik Vik Vik Vik Vik Vik Vik Vik Vik Vik Vik Vik Vik Vik Vik Vik Vik Vik Vik Vik Vik Vik Vik Vik Vik Vik Vik Vik Vik Vik Vik Vik Vik Vik Vik...|\n",
      "| s_694_162_0|7.783640596221253|Vik Vik Vik Vik Vik Vik Vik Vik Vik Vik Vik Vik Vik Vik Vik Vik Vik Vik Vik Vik Vik Vik Vik Vik Vik Vik Vik Vik Vik Vik Vik Vik Vik Vik Vik Vik Vik Vik Vik Vik Vik Vik Vik Vik Vik Vik Vik Vik Vik V...|\n",
      "| s_694_172_0|7.783640596221253|Vik Vik Vik Vik Vik Vik Vik Vik Vik Vik Vik Vik Vik Vik Vik Vik Vik Vik Vik Vik Vik Vik Vik Vik Vik Vik Vik Vik Vik Vik Vik Vik Vik Vik Vik Vik Vik Vik Vik Vik Vik Vik Vik Vik Vik Vik Vik Vik Vik V...|\n",
      "| s_694_164_0|7.783640596221253|Vik Vik Vik Vik Vik Vik Vik Vik Vik Vik Vik Vik Vik Vik Vik Vik Vik Vik Vik Vik Vik Vik Vik Vik Vik Vik Vik Vik Vik Vik Vik Vik Vik Vik Vik Vik Vik Vik Vik Vik Vik Vik Vik Vik Vik Vik Vik Vik Vik V...|\n",
      "| s_694_177_0|7.783640596221253|Vik Vik Vik Vik Vik Vik Vik Vik Vik Vik Vik Vik Vik Vik Vik Vik Vik Vik Vik Vik Vik Vik Vik Vik Vik Vik Vik Vik Vik Vik Vik Vik Vik Vik Vik Vik Vik Vik Vik Vik Vik Vik Vik Vik Vik Vik Vik Vik Vik V...|\n",
      "| s_694_175_0|7.783640596221253|Vik Vik Vik Vik Vik Vik Vik Vik Vik Vik Vik Vik Vik Vik Vik Vik Vik Vik Vik Vik Vik Vik Vik Vik Vik Vik Vik Vik Vik Vik Vik Vik Vik Vik Vik Vik Vik Vik Vik Vik Vik Vik Vik Vik Vik Vik Vik Vik Vik V...|\n",
      "| s_694_141_0|7.783640596221253|Vik Vik Vik Vik Vik Vik Vik Vik Vik Vik Vik Vik Vik Vik Vik Vik Vik Vik Vik Vik Vik Vik Vik Vik Vik Vik Vik Vik Vik Vik Vik Vik Vik Vik Vik Vik Vik Vik Vik Vik Vik Vik Vik Vik Vik Vik Vik Vik Vik V...|\n",
      "| s_694_184_0|7.783640596221253|Vik Vik Vik Vik Vik Vik Vik Vik Vik Vik Vik Vik Vik Vik Vik Vik Vik Vik Vik Vik Vik Vik Vik Vik Vik Vik Vik Vik Vik Vik Vik Vik Vik Vik Vik Vik Vik Vik Vik Vik Vik Vik Vik Vik Vik Vik Vik Vik Vik V...|\n",
      "| s_694_161_0|7.783640596221253|Vik Vik Vik Vik Vik Vik Vik Vik Vik Vik Vik Vik Vik Vik Vik Vik Vik Vik Vik Vik Vik Vik Vik Vik Vik Vik Vik Vik Vik Vik Vik Vik Vik Vik Vik Vik Vik Vik Vik Vik Vik Vik Vik Vik Vik Vik Vik Vik Vik V...|\n",
      "| s_694_150_0|7.783640596221253|Vik Vik Vik Vik Vik Vik Vik Vik Vik Vik Vik Vik Vik Vik Vik Vik Vik Vik Vik Vik Vik Vik Vik Vik Vik Vik Vik Vik Vik Vik Vik Vik Vik Vik Vik Vik Vik Vik Vik Vik Vik Vik Vik Vik Vik Vik Vik Vik Vik V...|\n",
      "| s_694_170_0|7.783640596221253|Vik Vik Vik Vik Vik Vik Vik Vik Vik Vik Vik Vik Vik Vik Vik Vik Vik Vik Vik Vik Vik Vik Vik Vik Vik Vik Vik Vik Vik Vik Vik Vik Vik Vik Vik Vik Vik Vik Vik Vik Vik Vik Vik Vik Vik Vik Vik Vik Vik V...|\n",
      "| s_694_153_0|7.783640596221253|Vik Vik Vik Vik Vik Vik Vik Vik Vik Vik Vik Vik Vik Vik Vik Vik Vik Vik Vik Vik Vik Vik Vik Vik Vik Vik Vik Vik Vik Vik Vik Vik Vik Vik Vik Vik Vik Vik Vik Vik Vik Vik Vik Vik Vik Vik Vik Vik Vik V...|\n",
      "| s_694_174_0|7.783640596221253|Vik Vik Vik Vik Vik Vik Vik Vik Vik Vik Vik Vik Vik Vik Vik Vik Vik Vik Vik Vik Vik Vik Vik Vik Vik Vik Vik Vik Vik Vik Vik Vik Vik Vik Vik Vik Vik Vik Vik Vik Vik Vik Vik Vik Vik Vik Vik Vik Vik V...|\n",
      "+------------+-----------------+--------------------------------------------------------------------------------------------------------------------------------------------------------------------------------------------------------+\n",
      "\n"
     ]
    },
    {
     "name": "stderr",
     "output_type": "stream",
     "text": [
      "                                                                                \r"
     ]
    }
   ],
   "source": [
    "sorted_scores = scored.select(\"docid\", \"score\").orderBy(F.desc(\"score\")).cache()\n",
    "(\n",
    "    df.join(sorted_scores.limit(20), \"docid\")\n",
    "    .orderBy(F.desc(\"score\"))\n",
    "    .select(\"docid\", \"score\", \"text\")\n",
    ").show(truncate=200)"
   ]
  },
  {
   "cell_type": "code",
   "execution_count": 16,
   "metadata": {},
   "outputs": [
    {
     "name": "stderr",
     "output_type": "stream",
     "text": [
      "                                                                                \r"
     ]
    }
   ],
   "source": [
    "# write sorted scores to disk\n",
    "sorted_scores.repartition(32).write.parquet(\n",
    "    f\"{local_prefix}/task1/processed/data/count_scores/v1\", mode=\"overwrite\"\n",
    ")\n",
    "sorted_scores = spark.read.parquet(\n",
    "    f\"{local_prefix}/task1/processed/data/count_scores/v1\"\n",
    ")"
   ]
  },
  {
   "cell_type": "code",
   "execution_count": 22,
   "metadata": {},
   "outputs": [
    {
     "name": "stdout",
     "output_type": "stream",
     "text": [
      "gcloud storage rsync -r --delete-unmatched-destination-objects /mnt/data/erisk/task1/processed/data/count_scores/v1 gs://dsgt-clef-erisk-2024/task1/processed/data/count_scores/v1\n"
     ]
    }
   ],
   "source": [
    "! echo gcloud storage rsync -r --delete-unmatched-destination-objects {local_prefix}/task1/processed/data/count_scores/v1 {gcs_prefix}/task1/processed/data/count_scores/v1"
   ]
  },
  {
   "cell_type": "code",
   "execution_count": 29,
   "metadata": {},
   "outputs": [
    {
     "name": "stderr",
     "output_type": "stream",
     "text": [
      "[Stage 65:====================================================>  (96 + 4) / 100]\r"
     ]
    },
    {
     "name": "stdout",
     "output_type": "stream",
     "text": [
      "+-------------+------------------+--------------------------------------------------------------------------------------------------------------------------------------------------------------------------------------------------------+\n",
      "|        docid|             score|                                                                                                                                                                                                    text|\n",
      "+-------------+------------------+--------------------------------------------------------------------------------------------------------------------------------------------------------------------------------------------------------+\n",
      "| s_1721_301_0| 8.502891406705377|fuck fuck fuck fuck fuck fuck fuck fuck fuck fuck fuck fuck fuck fuck fuck fuck fuck fuck fuck fuck fuck fuck fuck fuck fuck fuck fuck fuck fuck fuck fuck fuck fuck fuck fuck fuck fuck fuck fuck fu...|\n",
      "|  503650_0_21| 7.983891468132409|I am willing to do whatever I can to help him and his current situation! \\n                                                                                                                          ...|\n",
      "|  s_694_176_0| 7.783640596221253|Vik Vik Vik Vik Vik Vik Vik Vik Vik Vik Vik Vik Vik Vik Vik Vik Vik Vik Vik Vik Vik Vik Vik Vik Vik Vik Vik Vik Vik Vik Vik Vik Vik Vik Vik Vik Vik Vik Vik Vik Vik Vik Vik Vik Vik Vik Vik Vik Vik V...|\n",
      "|  s_694_167_0| 7.783640596221253|Vik Vik Vik Vik Vik Vik Vik Vik Vik Vik Vik Vik Vik Vik Vik Vik Vik Vik Vik Vik Vik Vik Vik Vik Vik Vik Vik Vik Vik Vik Vik Vik Vik Vik Vik Vik Vik Vik Vik Vik Vik Vik Vik Vik Vik Vik Vik Vik Vik V...|\n",
      "|  s_1799_85_0| 7.280008252884188| SAFE DRIVING SAFE DRIVING SAFE DRIVING SAFE DRIVING SAFE DRIVING SAFE DRIVING SAFE DRIVING SAFE DRIVING SAFE DRIVING SAFE DRIVING SAFE DRIVING SAFE DRIVING SAFE DRIVING SAFE DRIVING SAFE DRIVING S...|\n",
      "| s_1073_646_0| 7.194436851100335| 100 100 100 100 100 100 100 100 100 100 \\n100 100 100 100 100 100 100 100 100 100 \\n100 100 100 100 100 100 100 100 100 100 \\n100 100 100 100 100 100 100 100 100 100 \\n100 100 100 100 100 100 100 ...|\n",
      "| s_1073_863_0|  6.90975328164481| 100,000 100,000 100,000 100,000 100,000 100,000 100,000 100,000 100,000 100,000 100,000 100,000 100,000 100,000 100,000 100,000 100,000 100,000 100,000 100,000 100,000 100,000 100,000 100,000 100,...|\n",
      "|  s_694_125_0|  6.90875477931522|Vik Vik Vik Vik Vik Vik Vik Vik Vik Vik Vik Vik Vik Vik Vik Vik Vik Vik Vik Vik Vik Vik Vik Vik Vik Vik Vik Vik Vik Vik Vik Vik Vik Vik Vik Vik Vik Vik Vik Vik Vik Vik Vik Vik Vik Vik Vik Vik Vik V...|\n",
      "| s_989_1083_1|6.2594594324507495| I miss the old Darnielle                                    \\nFidelity is low Darnielle                                       \\nThe \"Downtown Seoul\" Darnielle                               \\n\"Gold...|\n",
      "|s_435_1804_20| 6.142114109845145|\\n\\n**Updated cart 2 based on feedback** ([Screenshot of updated cart](http://i.imgur.com/LV6r4X6.jpg))\\n\\nProduct Name                                                                       | Qty |...|\n",
      "|s_435_1804_18|6.0563309486118175|\\n\\n\\n**Updated cart 1 based on feedback** ([Screenshot of updated cart](http://i.imgur.com/LV6r4X6.jpg))\\n\\nProduct Name                                                                       | Qty...|\n",
      "|   382092_4_2| 5.963285990466096|\\n>we somehow manage to remove and rotate the sleeping bag so he doesn't notice we both have our pants down                       \\n>no idea how we did that                               \\n>\"We wer...|\n",
      "|  143209_0_15| 5.853081012411149|\\n\\nMaybe you could just get a freebie query run for you once every X times someone replies so that your unreads could sometimes be in a cache or query cache. \\n\\n\\n\\n    495\\tdef get_inbox(user):\\...|\n",
      "|  445940_0_13|5.5063035617450025|\\n                                                                                                    \\n**Last Month**                                                                               ...|\n",
      "|   425112_1_1| 5.305315371835697|\\n\\nPython 2.x\\n\\n    print \"lol\"\\n\\nPython 3.x\\n\\n    print(\"lol\")\\n\\nPerl\\n\\n    print \"lol\\n\";\\n\\nC\\n\\n    #include <stdio.h>\\n    int main(void){\\n        printf(\"lol\\n\");\\n    }\\n\\nAssembly (x...|\n",
      "| s_1767_404_0| 5.198497031265826|EXACTLY EXACTLY EXACTLY EXACTLY EXACTLY EXACTLY EXACTLY EXACTLY EXACTLY EXACTLY EXACTLY EXACTLY EXACTLY EXACTLY EXACTLY EXACTLY EXACTLY EXACTLY EXACTLY EXACTLY EXACTLY EXACTLY EXACTLY EXACTLY EXACT...|\n",
      "|   473490_3_6| 5.183355936684291|Now this is calculated using percentages to make for easier math, so the third column is assuming a US population of 100. \\n\\nIncome Range | Percent of Population | Revenue Under Model\\n---------|-...|\n",
      "|   473490_3_7| 5.174856668465105|\\n\\nIncome Range | Percent of Population | Revenue Under Model\\n---------|---------|---------\\nUnder $50,000       | 49.94%\\t      | -$599,280\\n$50,000 to $54,999  | 4.27%      | $0\\n$55,000 to $59...|\n",
      "|   326436_0_8| 5.134977151238968|i got up, grabbed my backpack and got on my way. true story                                                                                                 \\n                                       ...|\n",
      "|    72182_0_7| 4.903467125668747|\\nMom: Well, she was having sex with you. \\nEVERYTHING WENT BETTER THAN EXPECTED! \\n                                                                                                                 ...|\n",
      "|   274852_0_5|4.8677124770079505|Please help I have a video project due soon for my school  and I want it to be in HD. I would highly appreciate any help\\n                                                                           ...|\n",
      "|   434477_0_7|  4.78198509643418|\\n                                                                                          \\n                                                      \\n**Some background on me:** I am from a large mi...|\n",
      "|   195268_2_2| 4.745865031208438|\\n* The time he chucked the keys to the only car into a pile of debris while trying to leave the Hurricane Katrina disaster zone. \\n* When he took me to watch Bruno as a teenager and refused to let...|\n",
      "|  485391_0_24| 4.738961382093156|Below table shows the coefficients. This is one possibility, probably there are many. \\n\\n          An   Bn   Cn   Dn   En   Fn   Gn   Kn\\n    n=0:  -1   -1   -1   -1   -1   -1   -1   0\\n    n=1:  ...|\n",
      "|   321318_0_2| 4.716450871777033|\\n                                                                                                           My craving for advise mostly focus about  medication , in france adhd treatment and adhd...|\n",
      "|  299069_0_14| 4.685009648946386|Seeking ideas for revenge.** \\n           \\n            \\n                                                                                                                . We work in an office with...|\n",
      "| s_289_1920_5| 4.657748726103395|WSDLGenerator\"\\n          classpathref=\"gen.wsdl.classpath\"  fork=\"true\" failonerror=\"true\" dir=\"${wsdl.dir}\"\\n          arg line=\"${opargs}\"/\\n       /java\\n    /target\\n\\nI'm trying to do this in...|\n",
      "|   434477_0_1| 4.632881599502967|I have been dating this man for about 4-5 months now. \\n                                                  \\n                                                                            \\n**Some back...|\n",
      "|  436446_1_18| 4.622585593219708|\\n\\n\\nSo I tallied them up (yes, i TALLIED them up, this was like \"late\" night) and put it down on paper and gave it to my teacher the next day, told her I have no idea how it works. \\n\\n\\n        ...|\n",
      "|  s_1809_29_3| 4.609636918251261|                                                           \\n                                                                          \\n  While the gun has no more bullets for another quality reload!|\n",
      "|   434477_0_3| 4.606825152136383|\\n                                                  \\n                                                                            \\n**Some background on him:** He is an only child who has lived in ...|\n",
      "| s_304_1367_4| 4.580994568580419|\\n\\n#Units      |     Responses in Range\\n\\n[1 thru 5]         20 \\n\\n[6 thru 10]         8 \\n\\n[Over 10]           1 \\n  \\n\\n**Demographics** \\n\\nGender  \\n\\nFemale 17 \\n\\nMale 22 \\n\\n  \\n**Age Ra...|\n",
      "|   497614_0_9| 4.579878364468399|I thought I simply was, and that I had been this, and will always be this forever. \\n                                                                   \\n                                           ...|\n",
      "|  228182_0_26| 4.567993868889085|\\n\\nMe: Sweet. Let me know if you have any more problems. \\n \\n\\n--End Call--\\n\\nTL;DR \\n\\n                     Such power\\n     \\n    Many work                                 Compute\\n\\n         ...|\n",
      "| s_1122_583_1| 4.527958835366313|Company Name | Title | City --|--|--|--|--|-- [McDonald's](https://redejobs.com/job.php?j=a7718fa amp;p=13 amp;s1=reddit amp;s2=AlabamaJobs) | [Team Member](https://redejobs.com/job.php?j=a7718fa a...|\n",
      "|  162991_0_18| 4.513722869633214|I'd also love to get some advice on how to get the most out of this from people who have been there and done that. \\n&nbsp;   \\n                                                                     ...|\n",
      "|  s_1355_85_2|4.5059413453731665|                                             \\n            ( ) ; ' )\\n            ')_,_)_(`\\n             [_____]\\n              \\_ _/\\n               |_|_\\n          __.-'(__ )\\n           '-. \\___ )|\n",
      "| s_912_1101_1| 4.496085645181056| NCAA Football: **Week 6**  \\n  \\n[](/kentucky) Kentucky   ( 1 -  3  ) @ [](/southcarolina) South Carolina  #15 ( 3 -  1  )   \\n  \\nKick-Off: 1:00am EDT  -  10/05/2013  \\n  \\nVenue: [Williams Brice...|\n",
      "|     6444_0_2| 4.479185336994636|I'm going to indicate the engine with a \"penis\" emoticon, 8===|). \\n\\nInitially, the engines were head-to-head, like this:\\n\\n    8===|)(|===8\\n\\nAnd he wanted them to be back-to-back, like so:\\n\\n...|\n",
      "|  429873_0_18|  4.43154918128205|+091.3340101614\\n\\nCreation Date: 12-Aug-2009  \\nExpiration Date: 12-Aug-2012\\n\\nDomain servers in listed order:\\n    pdns.sifytech.net\\n    sdns.sifytech.net\\n\\n\\nAdministrative Contact:\\n    Onli...|\n",
      "|  248855_0_10| 4.427576915670718|Needless to say, she got hers and I had to wait until the next night..I locked that fucker out of the bedroom for round 2 dammit                                                                     ...|\n",
      "|   314856_0_4| 4.425018351481056|When I got back to my apartment, we found out the heat had caused a power outage, so I didn't have fans, or a friend with a working refrigerator, or the internet to take my mind off all this. \\n   ...|\n",
      "|  445940_0_14| 4.423592691839151|It's not her job. I agree that it's not her job, but it's still frustrating. \\n                                                                                                    \\nI asked for a re...|\n",
      "|s_1017_1136_2| 4.412345078094815|     \\n\\nAnyways, ten movies I have seen that should be released on Blu-ray:         \\n\\n* Erosu purasu Gyakusatsu (1969)   \\n* La maman et la putain (1973)   \\n* Mujo (1970)   \\n* Pisma myortvogo ...|\n",
      "| s_1180_164_8| 4.395782674685982|Minnesota Timberwolves - Pick 1** * Anthony Edwards * LaMelo Ball * Deni Advija **Golden State Warriors - Pick 2** * Deni Advija * James Wiseman * Onyeka Okongwu **Charlotte Hornets - Pick 3** * Ja...|\n",
      "|  445940_0_18| 4.392705495263679|She loves her job and isn't planning on moving. This would be a permanent change. \\n                                                                                                    \\nI also aske...|\n",
      "|   539264_2_5| 4.387198484377809|\\n\\nIn math terms:\\n\\n    n^2=[(n-1)(n+1)]+1\\n\\nProof:\\n\\n    [(n-1)(n+1)]+1=n^2\\n\\n    n^2+n-n-1+1=n^2\\n\\n    n^2+0+0=n^2\\n\\n    n^2=n^2\\n\\n    n=n\\n\\nAn example with 10, 11, and 12:\\n\\n    n^2=[(...|\n",
      "|   302940_6_7| 4.364928991402968|landed edge down length wise on my finger and blew out the end of it like stepping on a grape. The x-ray looked like the chewed end of a toothpick. \\n                                               ...|\n",
      "| s_989_1083_3|  4.36479561852128|                               \\n\\n\\nThat's all it was Darnielle                                         \\nWe still love Darnielle                                  \\nAnd I love you like Darnielle l...|\n",
      "|  445940_0_19| 4.362288044573877|This would be a permanent change. \\n                                                                                                    \\nI also asked if she didn't enjoy sex. She said she does, bu...|\n",
      "| s_2889_797_1| 4.341609119600585|Company Name | Title | City --|--|--|--|--|-- [Altus Motosports](https://redejobs.com/job.php?j=c10ed12 amp;p=13 amp;s1=reddit amp;s2=OklahomaJobsForAll) | [Powersports Freight Assistant](https://r...|\n",
      "|   142800_1_4| 4.337355775260884|My only complaint is the size of it. \\n                                                                                                        I have got to say it was one of the best impulse decis...|\n",
      "| s_2823_266_0| 4.330733340286331|                                                                                                                  / \\\\n         \\o/        \\n          |          \\n         /o\\       \\n         \\ /\\n |\n",
      "|   21715_2_10| 4.300055514857678|\\n      - 1% of all sales to conservation efforts (started in 1985)\\n      - 100% organic cotton in all cotton containing products (they started this in 1996!) \\n      - Recycled plastic soda bottl...|\n",
      "|  136284_0_17| 4.298573025019046|\\n                                                                                                              \\nI understand that there could be an issue with future partners but I figure I'll cr...|\n",
      "| s_2889_458_1| 4.253571940561706|Company Name | Title | City --|--|--|--|--|-- [West Side Transport](https://redejobs.com/job.php?j=6484047142 amp;p=14 amp;s1=reddit amp;s2=OklahomaJobsForAll) | [Class A truck Driver - CDL Operato...|\n",
      "| s_2889_441_1| 4.250644659359616|Company Name | Title | City --|--|--|--|--|-- [Amazon Workforce Staffing](https://redejobs.com/job.php?j=180066 amp;p=17 amp;s1=reddit amp;s2=Oregonjobs) | [Warehouse jobs](https://redejobs.com/job...|\n",
      "|   321318_0_5|4.2488636850268655|\\n                                                                                                        My question is what dose should i take , how , when ... By not knowing i just totally loose...|\n",
      "|   404599_1_0|4.2462293972480305|* Spilling your seed, \\n* shakin the bacon, \\n* beatin your meat, \\n* touching yourself, \\n* beat the beaver\\n* buttonhole,\\n* clap your clit,\\n* cook cucumbers,\\n* grease the gash,\\n* beat the bis...|\n",
      "|   511499_0_7| 4.240574883293178|\\n  just wait a second  \\n  I realize......  \\n  i dont feel so good  \\n  uh uh  \\n1:21 PM me: lolol  \\n [Brother]: no good  \\n  at ALL  \\n  .......  \\n me: lolololol  \\n [Brother]: plane is taxi-i...|\n",
      "| s_2889_460_1| 4.240481984918205|Company Name | Title | City --|--|--|--|--|-- [MARQUIS COMPANIES](https://redejobs.com/job.php?j=6569818067 amp;p=14 amp;s1=reddit amp;s2=Oregonjobs) | [CNA](https://redejobs.com/job.php?j=65698180...|\n",
      "|  196933_7_19| 4.239663612693653|\\n        * **Check in on me? \\n        * **Small Start** -\\n        * **Reward** -\\n        * **Something fun you want to do this week** -\\n        * **Daily Habit** -\\n\\n\\n***\\n**Daily List**\\n\\n...|\n",
      "|   349261_0_5| 4.223797033962098|However this was not before he cut up his hands attempting to punch through the glass. After he was convicted he sued X for damages and won...                                                       ...|\n",
      "| s_1017_303_0| 4.219372009988429| Here's fifteen recommendations you just have to watch:    \\n\\n* A Woman Under the Influence (1974) *(John Cassavetes)*   \\n* Akai satsui (1964) *(Shhei Imamura)*          \\n* Angst vor der Angst (...|\n",
      "|  s_188_984_0| 4.204671194444315| In Java, you can use System.getenv() to obtain some useful values, for example:\\n\\n    APPDATA = C:\\Users\\GNARF\\AppData\\Roaming\\n    USERNAME = GNARF\\n    HOMEPATH = \\Users\\GNARF\\n    USERPROFILE ...|\n",
      "| s_982_1208_1| 4.202642132294255| /r/yugioh101\\n\\nhttp://www.reddit.com/r/yugioh101/about/stylesheet\\n\\nh3{\\n  height:16px;\\n  font-size:18px;\\n  font-weight:bold;\\n  color:white;\\n  display:block;\\n  background:#606;\\n  border-ra...|\n",
      "| s_1017_573_2| 4.183529043108266|    \\n\\nSome other ones that are very good:       \\n\\n* Der letzte Mann (1924)         \\n* Despair (1978)          \\n* Die Ehe der Maria Braun (1979)       \\n* Die dritte Generation (1979)      \\n*...|\n",
      "|   490009_0_4| 4.172063849854693|\\n \\n    If the label says:\\n\\n    0g sugar              it can have up to 0.49g of sugar per serving\\n    \"Less than 1g\"      it can have 0.50g to 0.99g\\n    1g sugar              it can have 1.00...|\n",
      "| s_2889_228_1| 4.158631407287512|Company Name | Title | City --|--|--|--|--|-- [BatteriesPlus Bulbs Franchisee, dba The Battery Source, Inc.](https://redejobs.com/job.php?j=06f222d amp;p=13 amp;s1=reddit amp;s2=Oregonjobs) | [Reta...|\n",
      "|   11264_1_32| 4.147085704629888|\\n\\nDread Pirate Roberts:\\n\\n            I would as soon destroy a stained-glass window as an\\n            artist like yourself. However, since I can't have\\n            you following me either.......|\n",
      "| s_2868_647_1| 4.143134726391533|                                                                                                                        \\n\\n                         Sincerely,\\n                                  A man|\n",
      "| s_2889_512_1|4.1351457625187775|Company Name | Title | City --|--|--|--|--|-- [Instacart](https://redejobs.com/job.php?j=ac2160 amp;p=17 amp;s1=reddit amp;s2=Oregonjobs) | [Grocery shopper](https://redejobs.com/job.php?j=ac2160 a...|\n",
      "| s_1122_239_1| 4.127242591665375|Company Name | Title | City --|--|--|--|--|-- [McDonald's](https://redejobs.com/job.php?j=664d528 amp;p=13 amp;s1=reddit amp;s2=LAJobsForAll) | [McDonald's Crew Memeber](https://redejobs.com/job.ph...|\n",
      "|    94314_0_6|4.1186762006239235|Usually because my attraction to the girl isnt that strong to suggest pursuing a relationship and im guessing the same could be said from her perceptive. I simply havent meet the right girl yet. \\n...|\n",
      "| s_2742_807_1|  4.11644854516026|Company Name | Title | City --|--|--|--|--|-- [Zia Therapy Center, Inc.](https://redejobs.com/job.php?j=c0df80e amp;p=13 amp;s1=reddit amp;s2=NewMexicoJobs) | [Job Billing Specialist](https://redej...|\n",
      "|  s_818_291_0| 4.110873864173311|Help Help Help Help Help Help Help Help Help Help Help Help Help Help Help Help Help Help Help Help Help Help Help Help Help Help Help Help Help Help Help Help Help Help Help Help Help Help Help He...|\n",
      "| s_2889_422_1| 4.104951557270233|Company Name | Title | City --|--|--|--|--|-- [West Hills Health  amp; Rehabilitation](https://redejobs.com/job.php?j=6509770023 amp;p=14 amp;s1=reddit amp;s2=Oregonjobs) | [CNA](https://redejobs.c...|\n",
      "|   429942_1_7| 4.101872096282029|\\n\\nLet's take a look at what the Users table would look like:\\n\\n     userid   username   password  regdate\\n     1        phuzion    abc123    1/1/2011\\n     2        usertwo    cba213    4/2/201...|\n",
      "| s_2742_622_1| 4.084430060280172|Company Name | Title | City --|--|--|--|--|-- [McDonald's](https://redejobs.com/job.php?j=f1781e0 amp;p=13 amp;s1=reddit amp;s2=MichiganJobsForAll) | [Crew Member](https://redejobs.com/job.php?j=f1...|\n",
      "| s_1725_548_0| 4.082367158648466| **October 2016**\\n\\n10/01 - [The Storage Unit](https://reddit.com/r/shortscarystories/comments/55dpk4/the_storage_unit/) - /r/shortscarystories\\n\\n10/02 - [Lily](https://reddit.com/r/shortscarysto...|\n",
      "|   393342_0_4| 4.070340000782039|Trust in my experience. \\n                                                                                                       L> (I did like the Ted talks uplifting nature)\\nAlso, please learn m...|\n",
      "| s_2889_843_1|4.0633822237613195|Company Name | Title | City --|--|--|--|--|-- [Ascent Software Group LLC](https://redejobs.com/job.php?j=7b372f4 amp;p=13 amp;s1=reddit amp;s2=UtahJobsforAll) | [Technical Writer](https://redejobs....|\n",
      "|  s_1122_72_1| 4.052946115816883|Company Name | Title | City --|--|--|--|--|-- [Walmart](https://redejobs.com/job.php?j=6411667910 amp;p=14 amp;s1=reddit amp;s2=IndianaJobsForAll) | [Freight Handler](https://redejobs.com/job.php?j...|\n",
      "|  196933_8_20| 4.051234118796157|\\n        * **Small Start** -\\n        * **Reward** -\\n        * **Something fun you want to do this week** -\\n        * **Daily Habit** -\\n\\n\\n***\\n**Daily List**\\n\\n\\n        ## Monday --  \\n    ...|\n",
      "|  196933_4_20| 4.051234118796157|\\n        * **Small Start** -\\n        * **Reward** -\\n        * **Something fun you want to do this week** -\\n        * **Daily Habit** -\\n\\n\\n***\\n**Daily List**\\n\\n\\n        ## Monday --  \\n    ...|\n",
      "|  s_989_983_1|  4.04305126783455|                                                                                                                                                                                        \\n\\nJesus Christ|\n",
      "| s_2742_704_1|4.0425678794065645|Company Name | Title | City --|--|--|--|--|-- [Cardinal Logistics](https://redejobs.com/job.php?j=425a7ae amp;p=13 amp;s1=reddit amp;s2=MarylandJobsForAll) | [CDL A Truck Driver](https://redejobs.c...|\n",
      "|  272722_0_46|4.0320106784993515|\\n\\n    \\nWhat can I do to move on and get over her since she has already done so? \\nJust deal with it and eventually it'll be ok or just be a lot more proactive about meeting people and it will co...|\n",
      "| s_1122_285_1| 4.030211962134859|Company Name | Title | City --|--|--|--|--|-- [Amazon Workforce Staffing](https://redejobs.com/job.php?j=6d05b0 amp;p=17 amp;s1=reddit amp;s2=IowaJobsForAll) | [Warehouse jobs](https://redejobs.com...|\n",
      "| s_2742_874_1| 4.030211962134859|Company Name | Title | City --|--|--|--|--|-- [Moby-Consulting](https://redejobs.com/job.php?j=906c2a2 amp;p=13 amp;s1=reddit amp;s2=northdakotajobs) | [Wireless Sales Consultant](https://redejobs....|\n",
      "| s_1122_419_3| 4.027313083722535|Lead Line Cook) Full Time - $1,500 Hiring Bonus](https://redejobs.com/job.php?j=3838f27 amp;p=13 amp;s1=reddit amp;s2=LAJobsForAll) | [Lafitte](https://redejobs.com/job.php?j=3838f27 amp;p=13 amp;s...|\n",
      "|  s_2765_34_1|4.0230618564445715| EIA Natural Gas report for week end 2/3/2017\\n\\n(Still Working on DDs)\\n\\nWeek  |   Mar  (2016)   |  Mar  (2017)\\n:-:|:-:|:-:\\nCDD    |            |       \\nHDD    |          |     \\n\\nICE Storage...|\n",
      "| s_2889_436_1| 4.009443521675992|Company Name | Title | City --|--|--|--|--|-- [Iron Vine Security](https://redejobs.com/job.php?j=6487570447 amp;p=14 amp;s1=reddit amp;s2=WestVirginiaJobs) | [Cyber Defense Analyst (JR)](https://r...|\n",
      "| s_1122_812_1| 4.001623848999325|Company Name | Title | City --|--|--|--|--|-- [McDonald's](https://redejobs.com/job.php?j=29fa101 amp;p=13 amp;s1=reddit amp;s2=LAJobsForAll) | [McDonald's Crew Team Member](https://redejobs.com/jo...|\n",
      "| s_2889_449_1|3.9967141648359674|Company Name | Title | City --|--|--|--|--|-- [Amazon Workforce Staffing](https://redejobs.com/job.php?j=4bd35d amp;p=17 amp;s1=reddit amp;s2=UtahJobsforAll) | [Warehouse jobs](https://redejobs.com...|\n",
      "|  s_2765_95_1|3.9950197548433946| EIA Natural Gas report for week end 11/25/2016\\n\\n(Still Working on DDs)\\nWeek  |   Nov  (2016)   |  Nov  (2015)\\n:-:|:-:|:-:\\nCDD    |            |       \\nHDD    |          |     \\n\\nICE Storage...|\n",
      "|  199806_0_15|3.9929282600571674|I'll never forget that feeling. \\n\\nTL;DR - On a lark, tackled guy that tried to dine and dash - cops helped, I was cheered. \\n\\n                      Wow\\n\\n                                       ...|\n",
      "| s_1122_714_1| 3.991527669191514|Company Name | Title | City --|--|--|--|--|-- [Teddy Bs Restaurant](https://redejobs.com/job.php?j=eda7303 amp;p=13 amp;s1=reddit amp;s2=connecticutjobs) | [Dishwasher/Food Prep](https://redejobs.c...|\n",
      "| s_2889_411_1| 3.971499817903269|Company Name | Title | City --|--|--|--|--|-- [Good Earth Markets](https://redejobs.com/job.php?j=7851fe9 amp;p=13 amp;s1=reddit amp;s2=UtahJobsforAll) | [Administrative Assistant](https://redejobs...|\n",
      "| s_2742_799_1|3.9623767016265994|Company Name | Title | City --|--|--|--|--|-- [Placement Partners MN, Inc](https://redejobs.com/job.php?j=e88fd89 amp;p=13 amp;s1=reddit amp;s2=MinneapolisJobsForAll) | [Employment Specialist/DSP -...|\n",
      "+-------------+------------------+--------------------------------------------------------------------------------------------------------------------------------------------------------------------------------------------------------+\n",
      "\n"
     ]
    },
    {
     "name": "stderr",
     "output_type": "stream",
     "text": [
      "                                                                                \r"
     ]
    }
   ],
   "source": [
    "(\n",
    "    df.join(sorted_scores.sample(0.1).limit(100), \"docid\")\n",
    "    .orderBy(F.desc(\"score\"))\n",
    "    .select(\"docid\", \"score\", \"text\")\n",
    ").show(n=100, truncate=200)"
   ]
  },
  {
   "cell_type": "code",
   "execution_count": 25,
   "metadata": {},
   "outputs": [
    {
     "name": "stderr",
     "output_type": "stream",
     "text": [
      "                                                                                \r"
     ]
    },
    {
     "name": "stdout",
     "output_type": "stream",
     "text": [
      "+-------+--------+------------------+\n",
      "|summary|   docid|             score|\n",
      "+-------+--------+------------------+\n",
      "|  count|19802903|          19806893|\n",
      "|   mean|    NULL|0.8918288414078448|\n",
      "| stddev|    NULL|0.2744943296143926|\n",
      "|    min|   0_0_0|               0.0|\n",
      "|    max|s_9_99_7| 8.987321812850125|\n",
      "+-------+--------+------------------+\n",
      "\n"
     ]
    },
    {
     "name": "stderr",
     "output_type": "stream",
     "text": [
      "[Stage 41:==========================================>             (24 + 8) / 32]\r"
     ]
    },
    {
     "name": "stdout",
     "output_type": "stream",
     "text": [
      "+-----------+--------+\n",
      "|score_round|   count|\n",
      "+-----------+--------+\n",
      "|        0.0|  532047|\n",
      "|        1.0|18929558|\n",
      "|        2.0|  334028|\n",
      "|        3.0|    7761|\n",
      "|        4.0|    2959|\n",
      "|        5.0|     352|\n",
      "|        6.0|      67|\n",
      "|        7.0|      64|\n",
      "|        8.0|      53|\n",
      "|        9.0|       4|\n",
      "+-----------+--------+\n",
      "\n"
     ]
    },
    {
     "name": "stderr",
     "output_type": "stream",
     "text": [
      "                                                                                \r"
     ]
    }
   ],
   "source": [
    "# what is the score distribution?\n",
    "sorted_scores.describe().show()\n",
    "sorted_scores.groupBy(F.round(\"score\", 0).alias(\"score_round\")).count().orderBy(\n",
    "    \"score_round\"\n",
    ").show()"
   ]
  },
  {
   "cell_type": "code",
   "execution_count": 30,
   "metadata": {},
   "outputs": [
    {
     "name": "stderr",
     "output_type": "stream",
     "text": [
      "[Stage 71:====================================================>  (95 + 5) / 100]\r"
     ]
    },
    {
     "name": "stdout",
     "output_type": "stream",
     "text": [
      "+-------------+------------------+-------------------------------------------------------------------------------------------------------------------------------------------------------------------------------------------------------------------------------------------------------------------+\n",
      "|        docid|             score|                                                                                                                                                                                                                                                               text|\n",
      "+-------------+------------------+-------------------------------------------------------------------------------------------------------------------------------------------------------------------------------------------------------------------------------------------------------------------+\n",
      "|  503650_0_20| 7.984909251348568|                                                           \\n\\nSo, Reddit, what can I do to help his situation? I am willing to do whatever I can to help him and his current situation! \\n                                                                     ...|\n",
      "|  s_694_181_0| 7.783640596221253|                                                           Vik Vik Vik Vik Vik Vik Vik Vik Vik Vik Vik Vik Vik Vik Vik Vik Vik Vik Vik Vik Vik Vik Vik Vik Vik Vik Vik Vik Vik Vik Vik Vik Vik Vik Vik Vik Vik Vik Vik Vik Vik Vik Vik Vik Vik Vik Vik Vik Vik V...|\n",
      "| s_1073_648_0| 7.194436851100335|                                                            100 100 100 100 100 100 100 100 100 100 \\n100 100 100 100 100 100 100 100 100 100 \\n100 100 100 100 100 100 100 100 100 100 \\n100 100 100 100 100 100 100 100 100 100 \\n100 100 100 100 100 100 100 ...|\n",
      "| s_1073_649_0| 7.194436851100335|                                                            100 100 100 100 100 100 100 100 100 100 \\n100 100 100 100 100 100 100 100 100 100 \\n100 100 100 100 100 100 100 100 100 100 \\n100 100 100 100 100 100 100 100 100 100 \\n100 100 100 100 100 100 100 ...|\n",
      "| s_3016_240_0| 7.179307969504034|                                                           Ha ha ha ha ha ha ha ha ha ha ha ha ha ha ha ha ha ha ha ha ha ha ha ha ha ha Ha ha ha ha ha ha ha ha ha ha ha ha ha ha ha ha ha ha ha ha ha ha ha ha ha ha Ha ha ha ha ha ha ha ha ha ha ha ha ha ha...|\n",
      "|  244480_0_10| 7.117438158726422|                                                           \\n\\n&nbsp;\\n\\n| Medication  | Dosage      |                                                                                                                                                          ...|\n",
      "| s_1073_861_0|  6.90975328164481|                                                            100,000 100,000 100,000 100,000 100,000 100,000 100,000 100,000 100,000 100,000 100,000 100,000 100,000 100,000 100,000 100,000 100,000 100,000 100,000 100,000 100,000 100,000 100,000 100,000 100,...|\n",
      "| s_2696_345_0|  6.90875477931522|                                                           comments comments comments comments comments comments comments comments comments comments comments comments comments comments comments comments comments comments comments comments comments comments...|\n",
      "|  s_694_131_0|  6.90875477931522|                                                           Vik Vik Vik Vik Vik Vik Vik Vik Vik Vik Vik Vik Vik Vik Vik Vik Vik Vik Vik Vik Vik Vik Vik Vik Vik Vik Vik Vik Vik Vik Vik Vik Vik Vik Vik Vik Vik Vik Vik Vik Vik Vik Vik Vik Vik Vik Vik Vik Vik V...|\n",
      "|  s_694_125_0|  6.90875477931522|                                                           Vik Vik Vik Vik Vik Vik Vik Vik Vik Vik Vik Vik Vik Vik Vik Vik Vik Vik Vik Vik Vik Vik Vik Vik Vik Vik Vik Vik Vik Vik Vik Vik Vik Vik Vik Vik Vik Vik Vik Vik Vik Vik Vik Vik Vik Vik Vik Vik Vik V...|\n",
      "|  s_694_130_0|  6.90875477931522|                                                           Vik Vik Vik Vik Vik Vik Vik Vik Vik Vik Vik Vik Vik Vik Vik Vik Vik Vik Vik Vik Vik Vik Vik Vik Vik Vik Vik Vik Vik Vik Vik Vik Vik Vik Vik Vik Vik Vik Vik Vik Vik Vik Vik Vik Vik Vik Vik Vik Vik V...|\n",
      "|  s_694_119_0|  6.90875477931522|                                                           Vik Vik Vik Vik Vik Vik Vik Vik Vik Vik Vik Vik Vik Vik Vik Vik Vik Vik Vik Vik Vik Vik Vik Vik Vik Vik Vik Vik Vik Vik Vik Vik Vik Vik Vik Vik Vik Vik Vik Vik Vik Vik Vik Vik Vik Vik Vik Vik Vik V...|\n",
      "|  s_694_124_0|  6.90875477931522|                                                           Vik Vik Vik Vik Vik Vik Vik Vik Vik Vik Vik Vik Vik Vik Vik Vik Vik Vik Vik Vik Vik Vik Vik Vik Vik Vik Vik Vik Vik Vik Vik Vik Vik Vik Vik Vik Vik Vik Vik Vik Vik Vik Vik Vik Vik Vik Vik Vik Vik V...|\n",
      "|s_3015_1063_0| 6.505784060128229|                                                            ew2lsbiltrph5zcz50wqmyzr5yhf2ztr7c0k187g4cdwnopzbtivzm2ccunj\\n                       w51qrwdfjei2ta7rcfaailbbtacwdcw2oq3yieb0lb2ohj5k3hv8l33bwe7g\\n                       xouh02zgc7ushlmso38sdywti1...|\n",
      "|  s_989_581_4| 6.377907409087679|                                                                                                    \\n- Surf's Up (always preferred the Smile Sessions version)                                                          \\n- Summer Means New Love              ...|\n",
      "|s_2440_1552_3| 6.352292685650422|                                                           \\n\\n\\n    /* Put stuff at bottom of comments */\\n    .entry {\\n        display: -webkit-flex;\\n        display: -ms-flexbox;\\n        display: flex;\\n        -webkit-flex-direction: column;\\n      ...|\n",
      "|s_435_1804_21| 6.065477474838568|                                                           \\n\\n**Updated cart 2a based on feedback** ([Screenshot of updated cart](http://i.imgur.com/UckSwVo.jpg))\\n\\nProduct Name                                                                       | Qty ...|\n",
      "|  s_494_174_2| 5.683035904886293|                                                           \\n\\n; To assemble and run:\\n\\n;\\n\\n;     nasm -felf64 hello.asm    ld hello.o    ./a.out\\n\\n; ----------------------------------------------------------------------------------------\\n\\n        glo...|\n",
      "|  s_790_888_0|5.5254529391317835|                                                               __                   __                              ___      \\n  /\\ \\                 /\\ \\                            /\\_ \\     \\n  \\_\\ \\     __      ___\\ \\ \\/'\\   _____     ___     ___\\//\\ \\ ...|\n",
      "|  s_738_607_6| 5.469683917363493|                                                           \\n\\nThe code running in the Arduino is as follows:\\n\\n    #include Adafruit_PWMServoDriver.h\\n    \\n    #define BUFFER_SIZE 200\\n    \\n    // Init both adafruit boards\\n    Adafruit_PWMServoDriver ...|\n",
      "|   122062_7_0|5.3718700379302975|                                                           Best in the world at becoming the best in the world at other stuff that isn't being the best in the world at becoming the best in the world at other stuff that isn't being the best in the world at ...|\n",
      "|  127931_0_15| 5.362251226613102|                                                           Others weren't put on the tray correctly, they had to be placed in a very specific way:  \\n                                                                                        [][][]    [][][]\\n...|\n",
      "|   252056_0_6| 5.312578142405972|                                                           My boyfriend is struggling to put on his pants and my mom stops at my doorway, both of us with red faces and him still halfway dressed asked                                                         ...|\n",
      "|  295171_3_21| 5.147004787679913|                                                           \\n\\nThe numbers:\\n\\n* Date:                    12/4/12            1/3/13\\n* Weight :                354.8               348\\n* (Gym scale)\\n* **Body fat %:        53.9%             49.7%**\\n* Chest...|\n",
      "|  325730_6_27|  5.06270595653805|                                                           \\n\\n\\n\\n\\n\\n\\n\\n| Test  | Reference    | May 2013    | March 2014|\\n|:-----------|:------------:|:------------:|:------------:|\\n| Cholesterol, Total        |       125-200|     317   | 189\\n| HDL ...|\n",
      "| s_1072_331_3| 5.051046987508218|                                                           \\n\\n    class Foo\\n      % for i in [1, 2, 3] %\\n        def foo_%= i %\\n          %= \"puts #{i}\" %\\n        end\\n      % end %\\n    end\\n\\nYields:\\n\\n    class Foo\\n    \\n        def foo_1\\n      ...|\n",
      "|   376661_0_3| 5.006883927371197|                                                           \\nAt some point the teachers noticed that I was missing and went back to the park. There I was with this homeless man, playing. The teacher grabbed me and then I said \"Det är ingen fara han gillar ...|\n",
      "|s_188_1131_13| 4.991008528911147|                                                           MAXIMIZED_BOTH);\\n            screen.setContentPane(contentPane);\\n\\n            screen.setVisible(true);\\n        }\\n\\n        final private static class MyContentPane extends JPanel {\\n\\n        ...|\n",
      "|   125616_0_3| 4.944970919520554|                                                           It follows as thus word for word. \\n\\n(M) hey stranger\\n\\n                                                                                       (GF) hi :)\\n(M)it was so nice seeing you tonight\\n  ...|\n",
      "|    72182_0_7| 4.903467125668747|                                                           \\nMom: Well, she was having sex with you. \\nEVERYTHING WENT BETTER THAN EXPECTED! \\n                                                                                                                 ...|\n",
      "| s_2606_136_1| 4.899168409550305|                                                           \\n\\n\\nFrom 1 July 2014:\\n\\n                     | Road          | Road         | Fixed Wing | Helicopter\\n---------------------|---------------|--------------|------------|----------\\n             ...|\n",
      "|  s_989_868_1|4.8401422841340365|                                                           Lmao                        \\n- I love the VHS aesthetic                                   \\n- That music sounds nuts                                                  \\n- I like making lists       ...|\n",
      "|   136978_0_9| 4.832908125126254|                                                           instant cocoa mix\\n                         1/2 c. Crisco              1 1/2 c. sugar\\n                         2 eggs                        1 c. buttermilk\\n                         1 teas. vanil...|\n",
      "|  325730_4_24| 4.828666197320387|                                                           \\n\\nNote: These results are 10, 20 and 30 months into a ketogenic diet, with a 6 month break between month 10 and month 16. I sadly don't have any pre-weight loss/keto blood results with me. \\n\\n\\n...|\n",
      "|  229381_0_23|4.8283820804716955|                                                           tl:dr-we are a smart and unique species capable of the unthinkable                                                                                       -we are already in someone else's future    ...|\n",
      "|  314856_0_10| 4.810629221425902|                                                           After about four minutes, he says \"Fuck dis Shit. Y'all crazy\" and books it. \\n                                                                                                                      ...|\n",
      "| s_2456_224_0| 4.806043881053405|                                                                                           wow\\n                                          so compression\\n                 artifacts\\n      can't read               \\n                                     amazing|\n",
      "| s_1978_426_0| 4.797898717213768|                                                                     wow\\n                         such brave\\n           much edgy\\n                              snapchat2teenage4me\\n       #boycottsnapchat2013\\n                                           wow|\n",
      "| s_2259_248_0| 4.742417883950839|                                                           This isn't complete (some boroughs  amp; a lot of sets missed out), but it covers most groups active in UK Drill: # # Lambeth * **RSG**'**s** | SE5 * **Harlem** | SE11 * **Kuku** | SE11 * **19** | ...|\n",
      "|  488589_2_24|  4.71054711039396|                                                           I did a fat fast as an experiment, and it permanently put me off cream in coffee, but hey it was worth it. I didn't keep a log right from the beginning. \\n\\nStart 18/5/12: 130kgs - 286lbs - 20st 6l...|\n",
      "|   210415_0_4|  4.68504369580532|                                                           \\nWe discussed this hundreds of times and I am sick of going to the toilet and finding that I have to hobble to the cupboard and get more. \\n\\nHe says he doesn't have enough time to get another rol...|\n",
      "| s_1799_242_1| 4.652780672776668|                                                            (_/ )_/ hail the bernie \\_(\\_) - (_/ )_/ feel the sanders  \\_(\\_)(_/ )_/ hail the bernie \\_(\\_) - (_/ )_/ feel the sanders  \\_(\\_)(_/ )_/ hail the bernie \\_(\\_) - (_/ )_/ feel the sanders  \\_(\\_)(...|\n",
      "|  503163_1_25| 4.633774618112292|某人，我等你好久了，你再不表白，我要相亲去了                                                                                                                       \\n>不能有任何解释,不准不发不准赖皮,纯文字,至少保持一天,愿玩服输。速度更新状态[偷笑]\\n\\n**tl;d...|\n",
      "|  435126_1_16| 4.633550845177096|                                                           \\n                                                                                                                                                      \\nEdit: Thank you all for making this such an...|\n",
      "|   252056_0_5| 4.616294693330067|                                                           Well needless to say we tried to put our clothes on quickly and I sat on the floor and grabbed wrapping paper and the closest thing, I think it was a shoe box. My boyfriend is struggling to put on ...|\n",
      "|  s_1809_29_3| 4.609636918251261|                                                                                                                      \\n                                                                          \\n  While the gun has no more bullets for another quality reload!|\n",
      "|   434477_0_3| 4.606825152136383|                                                           \\n                                                  \\n                                                                            \\n**Some background on him:** He is an only child who has lived in ...|\n",
      "|   s_235_90_9| 4.582245601276866|                                                                       \\n\\n\\n\\n        \\n                            \\n\\n              \\n            \\n           \\n               ***\\n\\n\\n\\n\\n\\n\\n\\nHe slipped his cock out of her throat and unplugged her nose.|\n",
      "|   497614_0_9| 4.579878364468399|                                                           I thought I simply was, and that I had been this, and will always be this forever. \\n                                                                   \\n                                           ...|\n",
      "| s_1017_592_0| 4.557982749947317|                                                            Some of the better ones working today:   \\n\\n* Abbas Kiarostami          \\n* Aki Kaurismki\\t      \\n* Aleksandr Sokurov         \\n* Apichatpong Weerasethakul      \\n* David Lynch      \\n* Hirokazu...|\n",
      "+-------------+------------------+-------------------------------------------------------------------------------------------------------------------------------------------------------------------------------------------------------------------------------------------------------------------+\n",
      "\n"
     ]
    },
    {
     "name": "stderr",
     "output_type": "stream",
     "text": [
      "                                                                                \r"
     ]
    }
   ],
   "source": [
    "(\n",
    "    df.join(sorted_scores.where(\"score > 2\").sample(0.1).limit(50), \"docid\")\n",
    "    .orderBy(F.desc(\"score\"))\n",
    "    .select(\"docid\", \"score\", \"text\")\n",
    ").show(n=50, truncate=200)"
   ]
  },
  {
   "cell_type": "code",
   "execution_count": 32,
   "metadata": {},
   "outputs": [
    {
     "name": "stderr",
     "output_type": "stream",
     "text": [
      "[Stage 83:====================================================>  (96 + 4) / 100]\r"
     ]
    },
    {
     "name": "stdout",
     "output_type": "stream",
     "text": [
      "+-------------+------------------+-----------+------------+--------------------------------------------------------------------------------------------------------------------------------------------------------------------------------------------------------+\n",
      "|        docid|             score|text_length|words_length|                                                                                                                                                                                                    text|\n",
      "+-------------+------------------+-----------+------------+--------------------------------------------------------------------------------------------------------------------------------------------------------------------------------------------------------+\n",
      "|    35552_0_2|  8.77855097543215|      39969|       39969|but you cant get more boners. \\n\\nBONER BONER BONER BONER BONER BONER BONER BONER BONER BONER BONER BONER BONER BONER BONER BONER BONER BONER BONER BONER BONER BONER BONER BONER BONER BONER BONER B...|\n",
      "|  503650_0_22| 7.990821082090005|       3193|        3193|\\n                                                                                                                                                                                                   ...|\n",
      "|  503650_0_20| 7.984909251348568|       3240|        3240|\\n\\nSo, Reddit, what can I do to help his situation? I am willing to do whatever I can to help him and his current situation! \\n                                                                     ...|\n",
      "|  s_694_157_0| 7.783640596221253|       9599|        9599|Vik Vik Vik Vik Vik Vik Vik Vik Vik Vik Vik Vik Vik Vik Vik Vik Vik Vik Vik Vik Vik Vik Vik Vik Vik Vik Vik Vik Vik Vik Vik Vik Vik Vik Vik Vik Vik Vik Vik Vik Vik Vik Vik Vik Vik Vik Vik Vik Vik V...|\n",
      "|  s_694_173_0| 7.783640596221253|       9599|        9599|Vik Vik Vik Vik Vik Vik Vik Vik Vik Vik Vik Vik Vik Vik Vik Vik Vik Vik Vik Vik Vik Vik Vik Vik Vik Vik Vik Vik Vik Vik Vik Vik Vik Vik Vik Vik Vik Vik Vik Vik Vik Vik Vik Vik Vik Vik Vik Vik Vik V...|\n",
      "|  s_694_147_0| 7.783640596221253|       9599|        9599|Vik Vik Vik Vik Vik Vik Vik Vik Vik Vik Vik Vik Vik Vik Vik Vik Vik Vik Vik Vik Vik Vik Vik Vik Vik Vik Vik Vik Vik Vik Vik Vik Vik Vik Vik Vik Vik Vik Vik Vik Vik Vik Vik Vik Vik Vik Vik Vik Vik V...|\n",
      "|  s_694_167_0| 7.783640596221253|       9599|        9599|Vik Vik Vik Vik Vik Vik Vik Vik Vik Vik Vik Vik Vik Vik Vik Vik Vik Vik Vik Vik Vik Vik Vik Vik Vik Vik Vik Vik Vik Vik Vik Vik Vik Vik Vik Vik Vik Vik Vik Vik Vik Vik Vik Vik Vik Vik Vik Vik Vik V...|\n",
      "|  s_694_149_0| 7.783640596221253|       9599|        9599|Vik Vik Vik Vik Vik Vik Vik Vik Vik Vik Vik Vik Vik Vik Vik Vik Vik Vik Vik Vik Vik Vik Vik Vik Vik Vik Vik Vik Vik Vik Vik Vik Vik Vik Vik Vik Vik Vik Vik Vik Vik Vik Vik Vik Vik Vik Vik Vik Vik V...|\n",
      "|  s_790_280_0| 7.268920128193722|       1472|        1472|                                                                                                                                                                                                     ...|\n",
      "| s_1073_647_0| 7.194436851100335|       4932|        4930| 100 100 100 100 100 100 100 100 100 100 \\n100 100 100 100 100 100 100 100 100 100 \\n100 100 100 100 100 100 100 100 100 100 \\n100 100 100 100 100 100 100 100 100 100 \\n100 100 100 100 100 100 100 ...|\n",
      "| s_3016_244_0| 7.179307969504034|       3932|        3932|Ha ha ha ha ha ha ha ha ha ha ha ha ha ha ha ha ha ha ha ha ha ha ha ha ha ha Ha ha ha ha ha ha ha ha ha ha ha ha ha ha ha ha ha ha ha ha ha ha ha ha ha ha Ha ha ha ha ha ha ha ha ha ha ha ha ha ha...|\n",
      "| s_3016_242_0| 7.179307969504034|       3932|        3932|Ha ha ha ha ha ha ha ha ha ha ha ha ha ha ha ha ha ha ha ha ha ha ha ha ha ha Ha ha ha ha ha ha ha ha ha ha ha ha ha ha ha ha ha ha ha ha ha ha ha ha ha ha Ha ha ha ha ha ha ha ha ha ha ha ha ha ha...|\n",
      "| s_1073_858_0|  6.90975328164481|       8000|        8000| 100,000 100,000 100,000 100,000 100,000 100,000 100,000 100,000 100,000 100,000 100,000 100,000 100,000 100,000 100,000 100,000 100,000 100,000 100,000 100,000 100,000 100,000 100,000 100,000 100,...|\n",
      "|  s_694_124_0|  6.90875477931522|       3999|        3999|Vik Vik Vik Vik Vik Vik Vik Vik Vik Vik Vik Vik Vik Vik Vik Vik Vik Vik Vik Vik Vik Vik Vik Vik Vik Vik Vik Vik Vik Vik Vik Vik Vik Vik Vik Vik Vik Vik Vik Vik Vik Vik Vik Vik Vik Vik Vik Vik Vik V...|\n",
      "| s_1721_289_0| 6.424869023905388|       3079|        3079|fuck fuck fuck fuck fuck fuck fuck fuck fuck fuck fuck fuck fuck fuck fuck fuck fuck fuck fuck fuck fuck fuck fuck fuck fuck fuck fuck fuck fuck fuck fuck fuck fuck fuck fuck fuck fuck fuck fuck fu...|\n",
      "| s_1721_295_0| 6.424869023905388|       3079|        3079|fuck fuck fuck fuck fuck fuck fuck fuck fuck fuck fuck fuck fuck fuck fuck fuck fuck fuck fuck fuck fuck fuck fuck fuck fuck fuck fuck fuck fuck fuck fuck fuck fuck fuck fuck fuck fuck fuck fuck fu...|\n",
      "|s_2440_1552_3| 6.352292685650422|       1886|        1886|\\n\\n\\n    /* Put stuff at bottom of comments */\\n    .entry {\\n        display: -webkit-flex;\\n        display: -ms-flexbox;\\n        display: flex;\\n        -webkit-flex-direction: column;\\n      ...|\n",
      "|   382092_4_0| 5.973655202637171|       2612|        2612|>be me                                  \\n>be eighteen                                                \\n>me and random girl I'm friends with are the only seniors on a Church Mission trip (building ...|\n",
      "|   489626_0_1| 5.733341276897746|       4976|        4975|Made all your subscriptions clickable. \\n\\n* /r/30daysit\\n* /r/90daysgoal\\n* /r/AbandonedPorn\\n* /r/AcademicPhilosophy\\n* /r/AcademicPsychology\\n* /r/academicpublishing\\n* /r/AdPorn\\n* /r/Adrenalin...|\n",
      "|   161821_0_4| 5.448165711346118|       1094|        1094|Here is a list of what the materials cost at local grocery chain:\\n *Pre-cooked and pre-seasoned chicken fajita strip: $8.00\\n *Taco Shells:                                                     $.79...|\n",
      "|   297340_0_9| 5.440713442738068|       2099|        2099|\\n\\nAnd God blah blah blah blah blah blah blah blah blah blah blah blah blah blah blah blah blah blah blah blah blah blah blah blah blah blah blah blah blah blah blah blah blah blah blah blah blah ...|\n",
      "|   297340_0_8| 5.436213886975203|       2187|        2187|\\n\\nAnd God said, Let there be a firmament in the midst of the waters, and let it divide the waters from the waters. \\n\\nAnd God blah blah blah blah blah blah blah blah blah blah blah blah blah bla...|\n",
      "|  s_543_107_0| 5.365698799404266|        954|         952| Internal4-WAN\\n\\nset name \"FPA-WAN\"\\n\\n        set uuid e1a7c35c-08ce-51e7-3cad-2b8274b73688\\n\\n        set srcintf \"internal4\"\\n\\n        set dstintf \"wan1\"\\n\\n        set srcaddr \"all\"\\n\\n      ...|\n",
      "|  127931_0_15| 5.362251226613102|        718|         718|Others weren't put on the tray correctly, they had to be placed in a very specific way:  \\n                                                                                        [][][]    [][][]\\n...|\n",
      "|  s_1047_21_0| 5.267858159063328|       1920|        1920| GET OUT OF THE FIRE GET OUT OF THE FIRE GET OUT OF THE FIRE GET OUT OF THE FIRE GET OUT OF THE FIRE GET OUT OF THE FIRE GET OUT OF THE FIRE GET OUT OF THE FIRE GET OUT OF THE FIRE GET OUT OF THE F...|\n",
      "| s_738_607_21| 5.253935711889004|        660|         660|Serial(port, 9600, timeout=120)\\n            time.sleep(2) # serial docs recommend a wait just after connection\\n            self.ser.flush(); self.ser.flushInput(); self.ser.flushOutput();\\n    \\n...|\n",
      "|   497614_0_8| 5.147261192131883|        515|         515|\\n                                                                      \\n          \\nNext, I was unaware of being human, or even existing. I thought I simply was, and that I had been this, and wil...|\n",
      "|s_1072_203_31| 5.137842988731708|        466|         466|Something like this:\\n\\n    rooms: [\\n      {\\n        name: 'lounge',\\n        commands: [\\n          {\\n            input: 'look chair',\\n            result: function() {\\n              // do stu...|\n",
      "| s_738_607_22| 5.132407697214222|        904|         904|See the dict motors'''\\n    \\n            shield, pin = self.motors[motor_code]\\n            command = \"A%d P%d S%d\\n\" % ( shield, pin, speed )\\n            self.ser.write(command.encode())\\n    \\n...|\n",
      "|   446262_7_0| 5.067150465605317|        968|         968|oh oh oh oh oh oh oh oh oh oh oh oh oh oh oh oh oh oh oh aww aww aww aww aww aww aww aww oh oh oh oh oh oh oh oh oh oh omighod omigod omigod omigod oh oh oh oh oh oh oh oh oh oh oh oh oh oh oh oh o...|\n",
      "|   153242_0_0| 5.049789824019858|       1042|        1042|Because in America people feel the need for identity , they are all immigrants to the country aside from the Native american's and they need   something to differentiate themselves from other group...|\n",
      "|   445940_0_0| 5.006909911387894|        322|         322|**Our History**                                                                                     \\n                                                                                               ...|\n",
      "|  506975_0_21|4.9899433874151695|        555|         555|\\n                                                                                                                                                                                                   ...|\n",
      "|s_1017_1084_0| 4.962158768628424|        858|         852| I'll give you my favourites:     \\n\\n\\n* Banshun (1949)     \\n* Un condamn  mort s'est chapp ou Le vent souffle o il veut (1956)       \\n* Smultronstllet (1957)     \\n* Jalsaghar (1958)     \\n* Hi...|\n",
      "|   125616_0_3| 4.944970919520554|        639|         639|It follows as thus word for word. \\n\\n(M) hey stranger\\n\\n                                                                                       (GF) hi :)\\n(M)it was so nice seeing you tonight\\n  ...|\n",
      "|  506975_0_19|4.9269194659298785|        585|         585|\\n\\n  \\n\\nMy questions to you:\\n\\n1. If two regular people who drink are in a relationship, and one goes to a bar and gets drunk without their partner, how does the other person stay home and trust...|\n",
      "|    10732_1_7| 4.920911520472518|        579|         579|(Coders will notice that I ditched \"keymap\" and we just go with 26.) Here's the script:\\n\\n    function OnEvent(event, arg)\\n        if event == \"G_PRESSED\" then\\n            if arg == 26 then\\n   ...|\n",
      "|  519968_0_11|4.9015191228800665|        432|         432|\\n\\n\\nWed 10:16 pm \\n  You have any ideas what we should do on Saturday\\n                                                                                 -seen 9:30Am\\n\\n\\n\\nThursday 11:04am\\nHey, ...|\n",
      "|  302940_3_29|4.9010125433466305|        516|         516|I'm tempted to upbraid the author, director and producers of ''Moose Murders,'' but surely the American Society for the Prevention of Cruelty to Animals will be after them soon enough. Paging the A...|\n",
      "|   362824_2_9|  4.77186934227127|        373|         373|\\n\\nEdit: Also, The Last True Story I'll Ever Tell is a pretty amazing book, if you ever get a chance to read it. Its written by John Crawford. \\n                                                   ...|\n",
      "|  292065_0_12| 4.749937581113704|        526|         526|\\n\\n    struct X {\\n            int values[3];\\n    };\\n    struct X a(int c) {\\n            struct X X;\\n            X.values[0] = 1;\\n            X.values[1] = 2;\\n            X.values[2] = c;\\n ...|\n",
      "|   195268_2_2| 4.745865031208438|        722|         722|\\n* The time he chucked the keys to the only car into a pile of debris while trying to leave the Hurricane Katrina disaster zone. \\n* When he took me to watch Bruno as a teenager and refused to let...|\n",
      "|   92272_0_54| 4.733121040873373|        400|         400|You will have around thirty seconds of worry before they knock you out, but then you'll wake up almost as good as new. Good luck and I hope everything works out for you. \\n\\n                       ...|\n",
      "|  s_1739_20_0| 4.703671848986179|        119|         119|                                                                                 im                                                                                                                11 :D|\n",
      "|  435126_1_14| 4.684659409631584|        384|         384|\\n\\n\\n**TL;DR - 30 years old and considering a life without relationships. For those of you have taken this path, please share you stories/advice for a fulfilling existence.** \\n                   ...|\n",
      "|   492049_0_2| 4.677101629218084|        925|         925|So anyway I asked my mum for some lasagna and anyway as lunch time comes around I am keen for my lasagna and I look around and there was nothing there.. After looking around I found out this really...|\n",
      "|  281930_4_22| 4.676625533229359|        292|         292|When order of operations is ignored (2*10)/2 + 4 can become 33.33 instead of 104...           \\nEDIT:  forgot a statement. \\n                                                                        ...|\n",
      "|  462105_0_12| 4.651520254215965|        450|         450|I realize I had to high expectations and wanted him to take care of me as he wasn’t as new as I was in the city. \\n\\n&nbsp;\\n\\n\\n                                                                    ...|\n",
      "|   274962_7_0| 4.624673801288688|        558|         558|NOPE NOPE NOPE NOPE NOPE NOPE NOPE NOPE NOPE NOPE NOPE NOPE NOPE NOPE NOPE NOPE NOPE NOPE NOPE NOPE NOPE NOPE NOPE NOPE NOPE NOPE NOPE NOPE NOPE NOPE NOPE NOPE NOPE NOPE NOPE NOPE NOPE NOPE NOPE NO...|\n",
      "|  436446_1_18| 4.622585593219708|        450|         450|\\n\\n\\nSo I tallied them up (yes, i TALLIED them up, this was like \"late\" night) and put it down on paper and gave it to my teacher the next day, told her I have no idea how it works. \\n\\n\\n        ...|\n",
      "+-------------+------------------+-----------+------------+--------------------------------------------------------------------------------------------------------------------------------------------------------------------------------------------------------+\n",
      "\n"
     ]
    },
    {
     "name": "stderr",
     "output_type": "stream",
     "text": [
      "                                                                                \r"
     ]
    }
   ],
   "source": [
    "# and what about filtering out stuff that suffered in the tokenization process?\n",
    "\n",
    "(\n",
    "    df.join(sorted_scores.where(\"score > 2\").sample(0.1).limit(50), \"docid\")\n",
    "    .orderBy(F.desc(\"score\"))\n",
    "    .select(\n",
    "        \"docid\",\n",
    "        \"score\",\n",
    "        F.length(\"text\").alias(\"text_length\"),\n",
    "        F.length(F.concat_ws(\" \", \"words\")).alias(\"words_length\"),\n",
    "        \"text\",\n",
    "    )\n",
    ").show(n=50, truncate=200)"
   ]
  }
 ],
 "metadata": {
  "kernelspec": {
   "display_name": "Python 3",
   "language": "python",
   "name": "python3"
  },
  "language_info": {
   "codemirror_mode": {
    "name": "ipython",
    "version": 3
   },
   "file_extension": ".py",
   "mimetype": "text/x-python",
   "name": "python",
   "nbconvert_exporter": "python",
   "pygments_lexer": "ipython3",
   "version": "3.11.6"
  }
 },
 "nbformat": 4,
 "nbformat_minor": 2
}
