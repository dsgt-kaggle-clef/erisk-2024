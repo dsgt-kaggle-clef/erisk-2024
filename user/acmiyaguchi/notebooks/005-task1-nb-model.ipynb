{
 "cells": [
  {
   "cell_type": "code",
   "execution_count": 1,
   "metadata": {},
   "outputs": [],
   "source": [
    "%load_ext autoreload\n",
    "%autoreload 2"
   ]
  },
  {
   "cell_type": "code",
   "execution_count": 2,
   "metadata": {},
   "outputs": [
    {
     "name": "stderr",
     "output_type": "stream",
     "text": [
      "Setting default log level to \"WARN\".\n",
      "To adjust logging level use sc.setLogLevel(newLevel). For SparkR, use setLogLevel(newLevel).\n",
      "24/03/24 17:01:35 WARN NativeCodeLoader: Unable to load native-hadoop library for your platform... using builtin-java classes where applicable\n",
      "24/03/24 17:01:36 WARN SparkConf: Note that spark.local.dir will be overridden by the value set by the cluster manager (via SPARK_LOCAL_DIRS in mesos/standalone/kubernetes and LOCAL_DIRS in YARN).\n"
     ]
    },
    {
     "data": {
      "text/html": [
       "\n",
       "            <div>\n",
       "                <p><b>SparkSession - in-memory</b></p>\n",
       "                \n",
       "        <div>\n",
       "            <p><b>SparkContext</b></p>\n",
       "\n",
       "            <p><a href=\"http://erisk-dev.us-central1-a.c.dsgt-clef-2024.internal:4040\">Spark UI</a></p>\n",
       "\n",
       "            <dl>\n",
       "              <dt>Version</dt>\n",
       "                <dd><code>v3.5.0</code></dd>\n",
       "              <dt>Master</dt>\n",
       "                <dd><code>local[*]</code></dd>\n",
       "              <dt>AppName</dt>\n",
       "                <dd><code>pyspark-shell</code></dd>\n",
       "            </dl>\n",
       "        </div>\n",
       "        \n",
       "            </div>\n",
       "        "
      ],
      "text/plain": [
       "<pyspark.sql.session.SparkSession at 0x7514e8312b60>"
      ]
     },
     "execution_count": 2,
     "metadata": {},
     "output_type": "execute_result"
    }
   ],
   "source": [
    "from erisk.utils import get_spark\n",
    "\n",
    "bucket = \"gs://dsgt-clef-erisk-2024\"\n",
    "spark = get_spark(cores=2, memory=\"4g\")\n",
    "spark"
   ]
  },
  {
   "cell_type": "code",
   "execution_count": 4,
   "metadata": {},
   "outputs": [
    {
     "name": "stdout",
     "output_type": "stream",
     "text": [
      "+-----+---+-------------+---+\n",
      "|query| q0|        docid|rel|\n",
      "+-----+---+-------------+---+\n",
      "|    1|  0|s_405_1279_15|  1|\n",
      "|    1|  0| s_2519_356_0|  0|\n",
      "|    1|  0|  s_2038_51_7|  1|\n",
      "|    1|  0|   s_975_61_2|  0|\n",
      "|    1|  0|  s_577_923_1|  1|\n",
      "+-----+---+-------------+---+\n",
      "only showing top 5 rows\n",
      "\n"
     ]
    }
   ],
   "source": [
    "rels_consensus = spark.read.csv(\n",
    "    f\"{bucket}/task1/training/t1_training/TRAINING DATA (2023 COLLECTION)/g_rels_consenso.csv\",\n",
    "    header=True,\n",
    "    inferSchema=True,\n",
    ")\n",
    "rels_consensus.show(5)"
   ]
  },
  {
   "cell_type": "code",
   "execution_count": 9,
   "metadata": {},
   "outputs": [
    {
     "name": "stdout",
     "output_type": "stream",
     "text": [
      "+---+-----+\n",
      "| q0|count|\n",
      "+---+-----+\n",
      "|  0|21580|\n",
      "+---+-----+\n",
      "\n"
     ]
    }
   ],
   "source": [
    "rels_consensus.groupBy(\"q0\").count().show()"
   ]
  },
  {
   "cell_type": "code",
   "execution_count": 8,
   "metadata": {},
   "outputs": [
    {
     "name": "stdout",
     "output_type": "stream",
     "text": [
      "+-----+---+-----+\n",
      "|query|rel|count|\n",
      "+-----+---+-----+\n",
      "|    1|  0|  931|\n",
      "|    1|  1|  179|\n",
      "|    2|  1|  105|\n",
      "|    2|  0| 1045|\n",
      "|    3|  1|  161|\n",
      "|    3|  0|  812|\n",
      "|    4|  0|  916|\n",
      "|    4|  1|   97|\n",
      "|    5|  0|  746|\n",
      "|    5|  1|   83|\n",
      "|    6|  1|   21|\n",
      "|    6|  0| 1058|\n",
      "|    7|  1|  158|\n",
      "|    7|  0|  847|\n",
      "|    8|  1|   76|\n",
      "|    8|  0|  996|\n",
      "|    9|  1|  260|\n",
      "|    9|  0|  693|\n",
      "|   10|  1|  231|\n",
      "|   10|  0|  752|\n",
      "|   11|  1|   69|\n",
      "|   11|  0| 1011|\n",
      "|   12|  1|   71|\n",
      "|   12|  0| 1006|\n",
      "|   13|  0| 1049|\n",
      "|   13|  1|   61|\n",
      "|   14|  0|  996|\n",
      "|   14|  1|   71|\n",
      "|   15|  1|  130|\n",
      "|   15|  0|  952|\n",
      "|   16|  0|  735|\n",
      "|   16|  1|  203|\n",
      "|   17|  1|   94|\n",
      "|   17|  0|  953|\n",
      "|   18|  1|  103|\n",
      "|   18|  0|  881|\n",
      "|   19|  1|   83|\n",
      "|   19|  0|  941|\n",
      "|   20|  0|  910|\n",
      "|   20|  1|  123|\n",
      "|   21|  0|  874|\n",
      "|   21|  1|   97|\n",
      "+-----+---+-----+\n",
      "\n"
     ]
    }
   ],
   "source": [
    "rels_consensus.groupBy(\"query\", \"rel\").count().orderBy(\"query\").show(n=50)"
   ]
  },
  {
   "cell_type": "code",
   "execution_count": 18,
   "metadata": {},
   "outputs": [
    {
     "name": "stdout",
     "output_type": "stream",
     "text": [
      "+---------+-----+\n",
      "|rel_count|count|\n",
      "+---------+-----+\n",
      "|        1|13535|\n",
      "|        2| 1636|\n",
      "|        3|  471|\n",
      "|        4|  199|\n",
      "|        5|   90|\n",
      "|        7|   45|\n",
      "|        6|   43|\n",
      "|        8|   29|\n",
      "|        9|   25|\n",
      "|       10|   16|\n",
      "|       20|    9|\n",
      "|       11|    8|\n",
      "|       14|    8|\n",
      "|       19|    5|\n",
      "|       12|    5|\n",
      "|       13|    5|\n",
      "|       18|    5|\n",
      "|       17|    4|\n",
      "|       15|    4|\n",
      "|       16|    4|\n",
      "+---------+-----+\n",
      "only showing top 20 rows\n",
      "\n"
     ]
    }
   ],
   "source": [
    "from pyspark.sql import functions as F\n",
    "\n",
    "(\n",
    "    rels_consensus.groupBy(\"docid\")\n",
    "    .count()\n",
    "    .withColumnRenamed(\"count\", \"rel_count\")\n",
    "    .groupBy(\"rel_count\")\n",
    "    .count()\n",
    "    .orderBy(F.desc(\"count\"))\n",
    ").show()"
   ]
  },
  {
   "cell_type": "code",
   "execution_count": 19,
   "metadata": {},
   "outputs": [
    {
     "name": "stderr",
     "output_type": "stream",
     "text": [
      "[Stage 46:>                                                         (0 + 1) / 1]\r"
     ]
    },
    {
     "name": "stdout",
     "output_type": "stream",
     "text": [
      "root\n",
      " |-- DOCNO: string (nullable = true)\n",
      " |-- TEXT: string (nullable = true)\n",
      " |-- filename: string (nullable = true)\n",
      " |-- dataset: string (nullable = true)\n",
      " |-- words: array (nullable = true)\n",
      " |    |-- element: string (containsNull = true)\n",
      " |-- hashingtf: array (nullable = true)\n",
      " |    |-- element: double (containsNull = true)\n",
      " |-- tfidf: array (nullable = true)\n",
      " |    |-- element: double (containsNull = true)\n",
      "\n"
     ]
    },
    {
     "name": "stderr",
     "output_type": "stream",
     "text": [
      "                                                                                \r"
     ]
    }
   ],
   "source": [
    "# build the tfidf model\n",
    "tfidf_df = spark.read.parquet(f\"{bucket}/task1/parquet/combined_tfidf\")\n",
    "tfidf_df.printSchema()"
   ]
  },
  {
   "cell_type": "code",
   "execution_count": 23,
   "metadata": {},
   "outputs": [
    {
     "name": "stdout",
     "output_type": "stream",
     "text": [
      "+-------+--------+\n",
      "|  DOCNO|filename|\n",
      "+-------+--------+\n",
      "|s_0_0_0|s_0.trec|\n",
      "|s_0_1_0|s_0.trec|\n",
      "|s_0_2_0|s_0.trec|\n",
      "|s_0_3_0|s_0.trec|\n",
      "|s_0_3_1|s_0.trec|\n",
      "+-------+--------+\n",
      "only showing top 5 rows\n",
      "\n"
     ]
    }
   ],
   "source": [
    "# join the tfidf with the relevance judgements\n",
    "tfidf_df.select(\"DOCNO\", \"filename\").where(\"dataset = 'train'\").show(n=5)"
   ]
  },
  {
   "cell_type": "code",
   "execution_count": 29,
   "metadata": {},
   "outputs": [
    {
     "name": "stdout",
     "output_type": "stream",
     "text": [
      "root\n",
      " |-- DOCNO: string (nullable = true)\n",
      " |-- TEXT: string (nullable = true)\n",
      " |-- filename: string (nullable = true)\n",
      " |-- dataset: string (nullable = true)\n",
      " |-- words: array (nullable = true)\n",
      " |    |-- element: string (containsNull = true)\n",
      " |-- hashingtf: array (nullable = true)\n",
      " |    |-- element: double (containsNull = true)\n",
      " |-- tfidf: array (nullable = true)\n",
      " |    |-- element: double (containsNull = true)\n",
      " |-- query: integer (nullable = true)\n",
      " |-- q0: integer (nullable = true)\n",
      " |-- docid: string (nullable = true)\n",
      " |-- rel: integer (nullable = true)\n",
      "\n"
     ]
    },
    {
     "name": "stderr",
     "output_type": "stream",
     "text": [
      "                                                                                \r"
     ]
    },
    {
     "name": "stdout",
     "output_type": "stream",
     "text": [
      "+----------+--------------------+---------+-------+--------------------+--------------------+--------------------+-----+---+----------+---+\n",
      "|     DOCNO|                TEXT| filename|dataset|               words|           hashingtf|               tfidf|query| q0|     docid|rel|\n",
      "+----------+--------------------+---------+-------+--------------------+--------------------+--------------------+-----+---+----------+---+\n",
      "|  s_0_25_0|yalnz hissediyor ...| s_0.trec|  train|[yalnz, hissediyo...|[0.0, 0.0, 0.0, 0...|[0.0, 0.0, 0.0, 0...|   11|  0|  s_0_25_0|  0|\n",
      "| s_0_115_0|akar yakarm zn ya...| s_0.trec|  train|[akar, yakarm, zn...|[0.0, 0.0, 0.0, 0...|[0.0, 0.0, 0.0, 0...|   10|  0| s_0_115_0|  0|\n",
      "|s_10_277_0|       kill yourself|s_10.trec|  train|    [kill, yourself]|[0.0, 0.0, 0.0, 0...|[0.0, 0.0, 0.0, 0...|    9|  0|s_10_277_0|  0|\n",
      "|s_10_465_3|He eats all the time|s_10.trec|  train|[he, eats, all, t...|[0.0, 0.0, 0.0, 0...|[0.0, 0.0, 0.0, 0...|   18|  0|s_10_465_3|  0|\n",
      "|s_10_473_0|What are you curr...|s_10.trec|  train|[what, are, you, ...|[0.0, 0.0, 0.0, 0...|[0.0, 0.0, 0.0, 0...|   20|  0|s_10_473_0|  0|\n",
      "+----------+--------------------+---------+-------+--------------------+--------------------+--------------------+-----+---+----------+---+\n",
      "only showing top 5 rows\n",
      "\n"
     ]
    },
    {
     "name": "stderr",
     "output_type": "stream",
     "text": [
      "                                                                                \r"
     ]
    },
    {
     "data": {
      "text/plain": [
       "21580"
      ]
     },
     "execution_count": 29,
     "metadata": {},
     "output_type": "execute_result"
    }
   ],
   "source": [
    "from pyspark.ml.functions import array_to_vector\n",
    "\n",
    "train_df = tfidf_df.join(\n",
    "    rels_consensus,\n",
    "    tfidf_df.DOCNO == rels_consensus.docid,\n",
    "    how=\"inner\",\n",
    ")\n",
    "train_df.printSchema()\n",
    "train_df.show(5)\n",
    "train_df.count()"
   ]
  },
  {
   "cell_type": "code",
   "execution_count": 59,
   "metadata": {},
   "outputs": [
    {
     "name": "stderr",
     "output_type": "stream",
     "text": [
      "                                                                                \r"
     ]
    },
    {
     "name": "stdout",
     "output_type": "stream",
     "text": [
      "root\n",
      " |-- docid: string (nullable = true)\n",
      " |-- hashingtf: vector (nullable = true)\n",
      " |-- tfidf: vector (nullable = true)\n",
      " |-- q1: integer (nullable = true)\n",
      " |-- q10: integer (nullable = true)\n",
      " |-- q11: integer (nullable = true)\n",
      " |-- q12: integer (nullable = true)\n",
      " |-- q13: integer (nullable = true)\n",
      " |-- q14: integer (nullable = true)\n",
      " |-- q15: integer (nullable = true)\n",
      " |-- q16: integer (nullable = true)\n",
      " |-- q17: integer (nullable = true)\n",
      " |-- q18: integer (nullable = true)\n",
      " |-- q19: integer (nullable = true)\n",
      " |-- q2: integer (nullable = true)\n",
      " |-- q20: integer (nullable = true)\n",
      " |-- q21: integer (nullable = true)\n",
      " |-- q3: integer (nullable = true)\n",
      " |-- q4: integer (nullable = true)\n",
      " |-- q5: integer (nullable = true)\n",
      " |-- q6: integer (nullable = true)\n",
      " |-- q7: integer (nullable = true)\n",
      " |-- q8: integer (nullable = true)\n",
      " |-- q9: integer (nullable = true)\n",
      " |-- sampleid: long (nullable = true)\n",
      "\n",
      "+-------------+--------------------+--------------------+----+----+----+----+----+----+----+----+----+----+----+----+----+----+----+----+----+----+----+----+----+--------+\n",
      "|        docid|           hashingtf|               tfidf|  q1| q10| q11| q12| q13| q14| q15| q16| q17| q18| q19|  q2| q20| q21|  q3|  q4|  q5|  q6|  q7|  q8|  q9|sampleid|\n",
      "+-------------+--------------------+--------------------+----+----+----+----+----+----+----+----+----+----+----+----+----+----+----+----+----+----+----+----+----+--------+\n",
      "| s_1008_142_1|[0.0,0.0,0.0,0.0,...|[0.0,0.0,0.0,0.0,...|NULL|NULL|NULL|NULL|NULL|NULL|NULL|   0|NULL|NULL|NULL|NULL|NULL|NULL|NULL|NULL|NULL|NULL|NULL|NULL|NULL|      52|\n",
      "| s_1008_145_0|[0.0,0.0,0.0,0.0,...|[0.0,0.0,0.0,0.0,...|NULL|NULL|NULL|NULL|NULL|NULL|NULL|NULL|NULL|NULL|NULL|NULL|   0|NULL|NULL|NULL|NULL|NULL|NULL|NULL|NULL|      83|\n",
      "| s_100_1833_7|[0.0,0.0,0.0,0.0,...|[0.0,0.0,0.0,0.0,...|NULL|NULL|NULL|NULL|NULL|NULL|NULL|NULL|NULL|NULL|NULL|   0|NULL|NULL|NULL|NULL|NULL|NULL|NULL|NULL|NULL|      63|\n",
      "|  s_100_670_1|[0.0,0.0,0.0,0.0,...|[0.0,0.0,0.0,0.0,...|NULL|NULL|NULL|   0|NULL|NULL|NULL|NULL|NULL|NULL|NULL|NULL|NULL|NULL|NULL|NULL|NULL|NULL|NULL|NULL|NULL|      72|\n",
      "| s_1011_109_2|[0.0,0.0,0.0,0.0,...|[0.0,0.0,0.0,0.0,...|NULL|NULL|NULL|NULL|NULL|NULL|NULL|NULL|NULL|NULL|NULL|NULL|NULL|NULL|NULL|NULL|NULL|NULL|NULL|NULL|   0|      53|\n",
      "| s_1012_222_1|[0.0,0.0,0.0,0.0,...|[0.0,0.0,0.0,0.0,...|NULL|NULL|NULL|NULL|NULL|NULL|NULL|NULL|NULL|NULL|NULL|NULL|   0|NULL|NULL|NULL|NULL|NULL|NULL|NULL|NULL|      16|\n",
      "|  s_1013_22_3|[0.0,0.0,0.0,0.0,...|[0.0,0.0,0.0,0.0,...|NULL|NULL|NULL|NULL|NULL|NULL|NULL|NULL|NULL|NULL|NULL|NULL|NULL|NULL|NULL|NULL|NULL|   0|NULL|NULL|NULL|      97|\n",
      "| s_1013_348_1|[0.0,0.0,0.0,0.0,...|[0.0,0.0,0.0,0.0,...|NULL|NULL|NULL|NULL|NULL|NULL|NULL|NULL|NULL|NULL|NULL|NULL|NULL|NULL|   0|NULL|NULL|NULL|NULL|NULL|NULL|      66|\n",
      "|s_1014_1455_0|[0.0,0.0,0.0,0.0,...|[0.0,0.0,0.0,0.0,...|NULL|NULL|NULL|NULL|NULL|NULL|NULL|NULL|NULL|NULL|NULL|NULL|NULL|   0|NULL|NULL|NULL|NULL|NULL|NULL|NULL|      28|\n",
      "| s_1014_919_9|[0.0,0.0,0.0,0.0,...|[0.0,0.0,0.0,0.0,...|NULL|NULL|NULL|NULL|NULL|NULL|NULL|NULL|NULL|NULL|   0|NULL|NULL|NULL|NULL|NULL|NULL|NULL|NULL|NULL|NULL|      18|\n",
      "| s_1014_945_0|[0.0,0.0,0.0,0.0,...|[0.0,0.0,0.0,0.0,...|NULL|NULL|NULL|NULL|NULL|NULL|NULL|NULL|NULL|NULL|NULL|NULL|NULL|NULL|NULL|   0|NULL|NULL|NULL|NULL|NULL|      44|\n",
      "|  s_1016_87_0|[0.0,0.0,0.0,0.0,...|[0.0,0.0,0.0,0.0,...|NULL|NULL|NULL|NULL|NULL|NULL|NULL|NULL|   0|NULL|NULL|NULL|NULL|NULL|NULL|NULL|NULL|NULL|NULL|NULL|NULL|      71|\n",
      "| s_1017_816_1|[0.0,0.0,0.0,0.0,...|[0.0,0.0,0.0,0.0,...|NULL|NULL|NULL|   0|NULL|NULL|NULL|NULL|NULL|NULL|NULL|NULL|NULL|NULL|NULL|NULL|NULL|NULL|NULL|NULL|NULL|      20|\n",
      "|s_1018_1489_1|[0.0,0.0,0.0,0.0,...|[0.0,0.0,0.0,0.0,...|NULL|NULL|NULL|NULL|NULL|NULL|   0|NULL|NULL|NULL|NULL|NULL|NULL|NULL|NULL|NULL|NULL|NULL|NULL|NULL|NULL|      28|\n",
      "|s_1018_1596_7|[0.0,0.0,0.0,0.0,...|[0.0,0.0,0.0,0.0,...|NULL|NULL|   0|NULL|NULL|NULL|NULL|   0|NULL|NULL|NULL|NULL|   0|NULL|NULL|NULL|NULL|NULL|NULL|NULL|NULL|      81|\n",
      "| s_1018_385_4|[0.0,0.0,0.0,0.0,...|[0.0,0.0,0.0,0.0,...|NULL|NULL|NULL|   0|NULL|NULL|NULL|NULL|NULL|NULL|NULL|NULL|NULL|   0|NULL|NULL|NULL|NULL|NULL|NULL|NULL|      52|\n",
      "| s_1019_540_1|[0.0,0.0,0.0,0.0,...|[0.0,0.0,0.0,0.0,...|NULL|   0|NULL|NULL|NULL|NULL|NULL|NULL|NULL|NULL|NULL|NULL|NULL|NULL|NULL|NULL|NULL|NULL|NULL|NULL|NULL|      88|\n",
      "| s_1019_797_2|[0.0,0.0,0.0,0.0,...|[0.0,0.0,0.0,0.0,...|NULL|NULL|NULL|NULL|NULL|NULL|NULL|NULL|NULL|NULL|NULL|NULL|NULL|NULL|NULL|NULL|NULL|   1|NULL|NULL|NULL|      86|\n",
      "|s_1021_34_127|[0.0,0.0,0.0,0.0,...|[0.0,0.0,0.0,0.0,...|NULL|NULL|   1|NULL|NULL|NULL|NULL|NULL|   0|NULL|NULL|   0|NULL|NULL|NULL|NULL|NULL|NULL|NULL|NULL|NULL|      28|\n",
      "|s_1021_34_188|[0.0,0.0,0.0,0.0,...|[0.0,0.0,0.0,0.0,...|NULL|NULL|NULL|NULL|NULL|NULL|NULL|NULL|NULL|NULL|NULL|NULL|NULL|NULL|NULL|NULL|NULL|NULL|NULL|NULL|   0|      39|\n",
      "+-------------+--------------------+--------------------+----+----+----+----+----+----+----+----+----+----+----+----+----+----+----+----+----+----+----+----+----+--------+\n",
      "only showing top 20 rows\n",
      "\n"
     ]
    }
   ],
   "source": [
    "# group by pivot so that we have one row per document with relevance scores\n",
    "def pivot_training(df, feature_columns):\n",
    "    scores = (\n",
    "        df.withColumn(\"query\", F.concat(F.lit(\"q\"), F.col(\"query\").cast(\"string\")))\n",
    "        .groupBy(\"docid\")\n",
    "        .pivot(\"query\")\n",
    "        .agg(F.first(\"rel\"))\n",
    "    )\n",
    "    # hash the docid to make it easy to split test train\n",
    "    return (\n",
    "        df.groupBy(\"docid\")\n",
    "        .agg(*[array_to_vector(F.first(c)).alias(c) for c in feature_columns])\n",
    "        .join(scores, \"docid\", how=\"inner\")\n",
    "        .withColumn(\"sampleid\", F.crc32(F.col(\"docid\")) % 100)\n",
    "    )\n",
    "\n",
    "\n",
    "prep_df = pivot_training(train_df, [\"hashingtf\", \"tfidf\"]).cache()\n",
    "prep_df.printSchema()\n",
    "prep_df.show()"
   ]
  },
  {
   "cell_type": "code",
   "execution_count": 60,
   "metadata": {},
   "outputs": [
    {
     "name": "stdout",
     "output_type": "stream",
     "text": [
      "Pipeline_eb7b9275d943\n"
     ]
    },
    {
     "name": "stderr",
     "output_type": "stream",
     "text": [
      "[Stage 728:==========================================>              (3 + 1) / 4]\r"
     ]
    },
    {
     "name": "stdout",
     "output_type": "stream",
     "text": [
      "+------------+--------------------+--------------------+----+----+----+----+----+----+----+----+----+----+----+----+----+----+----+----+----+----+----+----+----+--------+--------------------+--------------------+--------------------+-------------+--------------------+--------------------+--------------+--------------------+--------------------+--------------+--------------------+--------------------+--------------+--------------------+--------------------+--------------+--------------------+--------------------+--------------+--------------------+--------------------+--------------+--------------------+--------------------+--------------+--------------------+--------------------+--------------+--------------------+--------------------+--------------+--------------------+--------------------+--------------+--------------------+--------------------+-------------+--------------------+--------------------+--------------+--------------------+--------------------+--------------+--------------------+--------------------+-------------+--------------------+--------------------+-------------+--------------------+--------------------+-------------+--------------------+--------------------+-------------+--------------------+--------------------+-------------+--------------------+--------------------+-------------+--------------------+--------------------+-------------+\n",
      "|       docid|           hashingtf|               tfidf|  q1| q10| q11| q12| q13| q14| q15| q16| q17| q18| q19|  q2| q20| q21|  q3|  q4|  q5|  q6|  q7|  q8|  q9|sampleid|        tfidf_scaled|              q1_raw|      q1_probability|q1_prediction|             q10_raw|     q10_probability|q10_prediction|             q11_raw|     q11_probability|q11_prediction|             q12_raw|     q12_probability|q12_prediction|             q13_raw|     q13_probability|q13_prediction|             q14_raw|     q14_probability|q14_prediction|             q15_raw|     q15_probability|q15_prediction|             q16_raw|     q16_probability|q16_prediction|             q17_raw|     q17_probability|q17_prediction|             q18_raw|     q18_probability|q18_prediction|             q19_raw|     q19_probability|q19_prediction|              q2_raw|      q2_probability|q2_prediction|             q20_raw|     q20_probability|q20_prediction|             q21_raw|     q21_probability|q21_prediction|              q3_raw|      q3_probability|q3_prediction|              q4_raw|      q4_probability|q4_prediction|              q5_raw|      q5_probability|q5_prediction|              q6_raw|      q6_probability|q6_prediction|              q7_raw|      q7_probability|q7_prediction|              q8_raw|      q8_probability|q8_prediction|              q9_raw|      q9_probability|q9_prediction|\n",
      "+------------+--------------------+--------------------+----+----+----+----+----+----+----+----+----+----+----+----+----+----+----+----+----+----+----+----+----+--------+--------------------+--------------------+--------------------+-------------+--------------------+--------------------+--------------+--------------------+--------------------+--------------+--------------------+--------------------+--------------+--------------------+--------------------+--------------+--------------------+--------------------+--------------+--------------------+--------------------+--------------+--------------------+--------------------+--------------+--------------------+--------------------+--------------+--------------------+--------------------+--------------+--------------------+--------------------+--------------+--------------------+--------------------+-------------+--------------------+--------------------+--------------+--------------------+--------------------+--------------+--------------------+--------------------+-------------+--------------------+--------------------+-------------+--------------------+--------------------+-------------+--------------------+--------------------+-------------+--------------------+--------------------+-------------+--------------------+--------------------+-------------+--------------------+--------------------+-------------+\n",
      "|s_1008_142_1|[0.0,0.0,0.0,0.0,...|[0.0,0.0,0.0,0.0,...|NULL|NULL|NULL|NULL|NULL|NULL|NULL|   0|NULL|NULL|NULL|NULL|NULL|NULL|NULL|NULL|NULL|NULL|NULL|NULL|NULL|      52|(256,[6,16,19,35,...|[-7.6251004350296...|[0.99205744956283...|          0.0|[-7.6251487100437...|[0.99228800740457...|           0.0|[-7.6198578407804...|[0.99673027006030...|           0.0|[-7.6200472754109...|[0.99665006116999...|           0.0|[-7.6198334992789...|[0.99746729076243...|           0.0|[-7.6207160016360...|[0.99680869947697...|           0.0|[-7.6256114305940...|[0.99317144209710...|           0.0|[-7.6248786034878...|[0.99231301193387...|           0.0|[-7.6215550488412...|[0.99567616912456...|           0.0|[-7.6220890398722...|[0.99497853261241...|           0.0|[-7.6197102811680...|[0.99670375821868...|           0.0|[-7.6227115190153...|[0.99500310114088...|          0.0|[-7.6240432599012...|[0.99440792923176...|           0.0|[-7.6205957378551...|[0.99580371953674...|           0.0|[-7.6247720100452...|[0.99282392160946...|          0.0|[-7.6229364004580...|[0.99512996071117...|          0.0|[-7.6219504922088...|[0.99593151602598...|          0.0|[-7.6186973292350...|[0.99889964276653...|          0.0|[-7.6264246060533...|[0.99235873450855...|          0.0|[-7.6211087569031...|[0.99637551348866...|          0.0|[-7.6310697303819...|[0.98770077624898...|          0.0|\n",
      "|s_1008_145_0|[0.0,0.0,0.0,0.0,...|[0.0,0.0,0.0,0.0,...|NULL|NULL|NULL|NULL|NULL|NULL|NULL|NULL|NULL|NULL|NULL|NULL|   0|NULL|NULL|NULL|NULL|NULL|NULL|NULL|NULL|      83|(256,[5,12,29,46,...|[-7.4128707667077...|[0.99178485941519...|          0.0|[-7.4125706771716...|[0.99142182243473...|           0.0|[-7.4076526324658...|[0.99655192782417...|           0.0|[-7.4081777459503...|[0.99607712771693...|           0.0|[-7.4064212118932...|[0.99744762530269...|           0.0|[-7.4077576987612...|[0.99652466043804...|           0.0|[-7.4115573263074...|[0.99392439917500...|           0.0|[-7.4130790836709...|[0.99059309142757...|           0.0|[-7.4081242286933...|[0.99577530932714...|           0.0|[-7.4122209816837...|[0.99454511520997...|           0.0|[-7.4068849576722...|[0.99668647447826...|           0.0|[-7.4119499333739...|[0.99384517811576...|          0.0|[-7.4085097918510...|[0.99516159810879...|           0.0|[-7.4076788761708...|[0.99590922185918...|           0.0|[-7.4153987162420...|[0.99084888054705...|          0.0|[-7.4071606353679...|[0.99567067310054...|          0.0|[-7.4073766874174...|[0.99619802293260...|          0.0|[-7.4056539378606...|[0.99882951024093...|          0.0|[-7.4158483542956...|[0.99157638256162...|          0.0|[-7.4070770909236...|[0.99635817316148...|          0.0|[-7.4193344060635...|[0.98684506062762...|          0.0|\n",
      "|s_100_1833_7|[0.0,0.0,0.0,0.0,...|[0.0,0.0,0.0,0.0,...|NULL|NULL|NULL|NULL|NULL|NULL|NULL|NULL|NULL|NULL|NULL|   0|NULL|NULL|NULL|NULL|NULL|NULL|NULL|NULL|NULL|      63|(256,[61,89,92,14...|[-0.5311056820919...|[0.98902357337608...|          0.0|[-0.5323820201434...|[0.98808543725928...|           0.0|[-0.5241623938924...|[0.99562877918248...|           0.0|[-0.5245223133961...|[0.99531055427675...|           0.0|[-0.5231779765898...|[0.99660306349087...|           0.0|[-0.5240870631657...|[0.99579705875705...|           0.0|[-0.5281994567963...|[0.99179734159393...|           0.0|[-0.5317450406221...|[0.98842935152817...|           0.0|[-0.5256830652523...|[0.99422254050476...|           0.0|[-0.5264099190262...|[0.99350837034423...|           0.0|[-0.5243510939140...|[0.99546168611455...|           0.0|[-0.5263770396245...|[0.99351317903036...|          0.0|[-0.5271521435851...|[0.99278638869829...|           0.0|[-0.5252264395450...|[0.99453785229693...|           0.0|[-0.5294439052707...|[0.99063065869046...|          0.0|[-0.5257805233164...|[0.99407003751848...|          0.0|[-0.5247727668368...|[0.99505611525963...|          0.0|[-0.5211228145917...|[0.99857452381641...|          0.0|[-0.5297153283080...|[0.99043695291786...|          0.0|[-0.5244889558599...|[0.99538596503964...|          0.0|[-0.5352819629056...|[0.98515018590949...|          0.0|\n",
      "| s_100_670_1|[0.0,0.0,0.0,0.0,...|[0.0,0.0,0.0,0.0,...|NULL|NULL|NULL|   0|NULL|NULL|NULL|NULL|NULL|NULL|NULL|NULL|NULL|NULL|NULL|NULL|NULL|NULL|NULL|NULL|NULL|      72|(256,[6,11,28,35,...|[-4.8853004545439...|[0.98752776436706...|          0.0|[-4.8808682922891...|[0.98807682109325...|           0.0|[-4.8728775912214...|[0.99557528845817...|           0.0|[-4.8730163132686...|[0.99532968753756...|           0.0|[-4.8726245282749...|[0.99653120102361...|           0.0|[-4.8730347396255...|[0.99569016056803...|           0.0|[-4.8762717081465...|[0.99197331273239...|           0.0|[-4.8798857299281...|[0.98858917384400...|           0.0|[-4.8746379553119...|[0.99427897748743...|           0.0|[-4.8746238975851...|[0.99360878632963...|           0.0|[-4.8725247062682...|[0.99552546249107...|           0.0|[-4.8759610362098...|[0.99324390936157...|          0.0|[-4.8755886879591...|[0.99275683859674...|           0.0|[-4.8742531653342...|[0.99437602230460...|           0.0|[-4.8787619839401...|[0.99008703604285...|          0.0|[-4.8727621530491...|[0.99445923946328...|          0.0|[-4.8774265012160...|[0.99446955031033...|          0.0|[-4.8699718369562...|[0.99857068300014...|          0.0|[-4.8769845400877...|[0.99090912561200...|          0.0|[-4.8750431648260...|[0.99506325224775...|          0.0|[-4.8870549562061...|[0.98461876292987...|          0.0|\n",
      "|s_1011_109_2|[0.0,0.0,0.0,0.0,...|[0.0,0.0,0.0,0.0,...|NULL|NULL|NULL|NULL|NULL|NULL|NULL|NULL|NULL|NULL|NULL|NULL|NULL|NULL|NULL|NULL|NULL|NULL|NULL|NULL|   0|      53|(256,[12,26,57,76...|[-3.5412340490755...|[0.98922246656648...|          0.0|[-3.5417881096665...|[0.98830100068338...|           0.0|[-3.5339346108853...|[0.99578140677546...|           0.0|[-3.5349407716475...|[0.99532291827598...|           0.0|[-3.5342566917224...|[0.99656008846945...|           0.0|[-3.5352043177037...|[0.99566857151425...|           0.0|[-3.5389086174721...|[0.99169666802165...|           0.0|[-3.5517801671773...|[0.98717800310414...|           0.0|[-3.5354204493343...|[0.99458683737842...|           0.0|[-3.5371201374547...|[0.99373645474800...|           0.0|[-3.5348831921586...|[0.99532088964179...|           0.0|[-3.5381824776614...|[0.99316565073983...|          0.0|[-3.5376497740864...|[0.99288472075073...|           0.0|[-3.5347153483119...|[0.99478206656617...|           0.0|[-3.5389609407384...|[0.99094873180798...|          0.0|[-3.5353607287458...|[0.99436242733110...|          0.0|[-3.5365464522965...|[0.99467395715271...|          0.0|[-3.5317690859082...|[0.99857811374293...|          0.0|[-3.5404700353076...|[0.98999252746502...|          0.0|[-3.5353888978182...|[0.99528187824955...|          0.0|[-3.5599006803813...|[0.98080041438523...|          0.0|\n",
      "+------------+--------------------+--------------------+----+----+----+----+----+----+----+----+----+----+----+----+----+----+----+----+----+----+----+----+----+--------+--------------------+--------------------+--------------------+-------------+--------------------+--------------------+--------------+--------------------+--------------------+--------------+--------------------+--------------------+--------------+--------------------+--------------------+--------------+--------------------+--------------------+--------------+--------------------+--------------------+--------------+--------------------+--------------------+--------------+--------------------+--------------------+--------------+--------------------+--------------------+--------------+--------------------+--------------------+--------------+--------------------+--------------------+-------------+--------------------+--------------------+--------------+--------------------+--------------------+--------------+--------------------+--------------------+-------------+--------------------+--------------------+-------------+--------------------+--------------------+-------------+--------------------+--------------------+-------------+--------------------+--------------------+-------------+--------------------+--------------------+-------------+--------------------+--------------------+-------------+\n",
      "only showing top 5 rows\n",
      "\n"
     ]
    },
    {
     "name": "stderr",
     "output_type": "stream",
     "text": [
      "                                                                                \r"
     ]
    }
   ],
   "source": [
    "# build a naive bayes model pipeline after removing mean\n",
    "from pyspark.ml.classification import NaiveBayes\n",
    "from pyspark.ml import Pipeline\n",
    "\n",
    "# normalize the data\n",
    "from pyspark.ml.feature import StandardScaler, MinMaxScaler\n",
    "\n",
    "\n",
    "def build_nb_model_pipeline(feature, targets):\n",
    "    pipeline = Pipeline(\n",
    "        stages=[MinMaxScaler(inputCol=feature, outputCol=f\"{feature}_scaled\")]\n",
    "        + [\n",
    "            NaiveBayes(\n",
    "                labelCol=target,\n",
    "                featuresCol=f\"{feature}_scaled\",\n",
    "                predictionCol=f\"{target}_prediction\",\n",
    "                probabilityCol=f\"{target}_probability\",\n",
    "                rawPredictionCol=f\"{target}_raw\",\n",
    "                smoothing=1.0,\n",
    "            )\n",
    "            for target in targets\n",
    "        ]\n",
    "    )\n",
    "    return pipeline\n",
    "\n",
    "\n",
    "# 80/20 split\n",
    "prep_train_df = prep_df.where(\"sampleid < 80\")\n",
    "prep_test_df = prep_df.where(\"sampleid >= 80\")\n",
    "\n",
    "pipeline = build_nb_model_pipeline(\n",
    "    \"tfidf\", [c for c in prep_df.columns if c.startswith(\"q\")]\n",
    ")\n",
    "print(pipeline)\n",
    "model = pipeline.fit(prep_train_df.fillna(0))\n",
    "predictions = model.transform(prep_df).cache()\n",
    "predictions.show(5)"
   ]
  },
  {
   "cell_type": "code",
   "execution_count": 73,
   "metadata": {},
   "outputs": [
    {
     "name": "stderr",
     "output_type": "stream",
     "text": [
      "  0%|          | 0/21 [00:00<?, ?it/s]"
     ]
    },
    {
     "name": "stderr",
     "output_type": "stream",
     "text": [
      "100%|██████████| 21/21 [00:23<00:00,  1.14s/it]\n"
     ]
    },
    {
     "data": {
      "text/plain": [
       "({'f1': {'train': {'q1': 0.7592790332115835,\n",
       "    'q10': 0.6800105020926964,\n",
       "    'q11': 0.8941352334446162,\n",
       "    'q12': 0.8911831235315125,\n",
       "    'q13': 0.9214151523953786,\n",
       "    'q14': 0.900883164875774,\n",
       "    'q15': 0.8174762156880939,\n",
       "    'q16': 0.6915598425686754,\n",
       "    'q17': 0.8597728725713107,\n",
       "    'q18': 0.8337573105044516,\n",
       "    'q19': 0.8850642345787977,\n",
       "    'q2': 0.8579017264276229,\n",
       "    'q20': 0.8259058914747465,\n",
       "    'q21': 0.8598780660809872,\n",
       "    'q3': 0.7490735746968458,\n",
       "    'q4': 0.856196757600225,\n",
       "    'q5': 0.8480137985873437,\n",
       "    'q6': 0.9645801448541502,\n",
       "    'q7': 0.7580131745426064,\n",
       "    'q8': 0.891757264723261,\n",
       "    'q9': 0.6193349130161816},\n",
       "   'test': {'q1': 0.7825068332682547,\n",
       "    'q10': 0.5964566210045663,\n",
       "    'q11': 0.938453529812197,\n",
       "    'q12': 0.9493227855687402,\n",
       "    'q13': 0.9060134477946463,\n",
       "    'q14': 0.8932390411587967,\n",
       "    'q15': 0.8511712873415002,\n",
       "    'q16': 0.676581877712397,\n",
       "    'q17': 0.8970823341326939,\n",
       "    'q18': 0.8947101255677264,\n",
       "    'q19': 0.8598687664041995,\n",
       "    'q2': 0.8864238815708982,\n",
       "    'q20': 0.8194199243379572,\n",
       "    'q21': 0.8241285780240073,\n",
       "    'q3': 0.7852579852579852,\n",
       "    'q4': 0.865217320074051,\n",
       "    'q5': 0.8585526315789472,\n",
       "    'q6': 0.9851200510273816,\n",
       "    'q7': 0.8114102847053631,\n",
       "    'q8': 0.9081315081315082,\n",
       "    'q9': 0.5857390472775087}},\n",
       "  'accuracy': {'train': {'q1': 0.8324205914567361,\n",
       "    'q10': 0.774869109947644,\n",
       "    'q11': 0.9262295081967213,\n",
       "    'q12': 0.9265212399540758,\n",
       "    'q13': 0.9471316085489314,\n",
       "    'q14': 0.9308755760368663,\n",
       "    'q15': 0.8755656108597285,\n",
       "    'q16': 0.785809906291834,\n",
       "    'q17': 0.9049338146811071,\n",
       "    'q18': 0.8869123252858958,\n",
       "    'q19': 0.9223300970873787,\n",
       "    'q2': 0.9015151515151515,\n",
       "    'q20': 0.8806682577565632,\n",
       "    'q21': 0.9050064184852374,\n",
       "    'q3': 0.8247011952191236,\n",
       "    'q4': 0.9016786570743405,\n",
       "    'q5': 0.8938714499252616,\n",
       "    'q6': 0.9739336492890995,\n",
       "    'q7': 0.8304455445544554,\n",
       "    'q8': 0.9269141531322506,\n",
       "    'q9': 0.7324503311258278},\n",
       "   'test': {'q1': 0.8477157360406091,\n",
       "    'q10': 0.7123287671232876,\n",
       "    'q11': 0.9557522123893806,\n",
       "    'q12': 0.9660194174757282,\n",
       "    'q13': 0.9366515837104072,\n",
       "    'q14': 0.9246231155778895,\n",
       "    'q15': 0.898989898989899,\n",
       "    'q16': 0.774869109947644,\n",
       "    'q17': 0.9305555555555556,\n",
       "    'q18': 0.9289340101522843,\n",
       "    'q19': 0.905,\n",
       "    'q2': 0.9203539823008849,\n",
       "    'q20': 0.8769230769230769,\n",
       "    'q21': 0.8802083333333334,\n",
       "    'q3': 0.85,\n",
       "    'q4': 0.9050279329608939,\n",
       "    'q5': 0.9,\n",
       "    'q6': 0.9872340425531915,\n",
       "    'q7': 0.868020304568528,\n",
       "    'q8': 0.9380952380952381,\n",
       "    'q9': 0.7070707070707071}}},\n",
       " 0.836895612464349,\n",
       " 0.8863987154651684,\n",
       " 0.826913904641279,\n",
       " 0.8802278188773445)"
      ]
     },
     "execution_count": 73,
     "metadata": {},
     "output_type": "execute_result"
    }
   ],
   "source": [
    "from pyspark.ml.evaluation import MulticlassClassificationEvaluator\n",
    "import tqdm\n",
    "import numpy as np\n",
    "\n",
    "\n",
    "def run_evaluation(df, targets):\n",
    "    results = {\n",
    "        \"f1\": {\n",
    "            \"train\": {},\n",
    "            \"test\": {},\n",
    "        },\n",
    "        \"accuracy\": {\"train\": {}, \"test\": {}},\n",
    "    }\n",
    "    for c in tqdm.tqdm(targets):\n",
    "        f1_evaluator = MulticlassClassificationEvaluator(\n",
    "            labelCol=c, predictionCol=f\"{c}_prediction\", metricName=\"f1\"\n",
    "        )\n",
    "        acc_evaluator = MulticlassClassificationEvaluator(\n",
    "            labelCol=c, predictionCol=f\"{c}_prediction\", metricName=\"accuracy\"\n",
    "        )\n",
    "        subset = df.where(f\"{c} is not null\")\n",
    "        test_subset = subset.where(\"sampleid >= 80\")\n",
    "        train_subset = subset.where(\"sampleid < 80\")\n",
    "        results[\"f1\"][\"train\"][c] = f1_evaluator.evaluate(train_subset)\n",
    "        results[\"f1\"][\"test\"][c] = f1_evaluator.evaluate(test_subset)\n",
    "        results[\"accuracy\"][\"train\"][c] = acc_evaluator.evaluate(train_subset)\n",
    "        results[\"accuracy\"][\"test\"][c] = acc_evaluator.evaluate(test_subset)\n",
    "    return results\n",
    "\n",
    "\n",
    "results = run_evaluation(predictions, [c for c in prep_df.columns if c.startswith(\"q\")])\n",
    "# summarize all the results\n",
    "(\n",
    "    results,\n",
    "    np.mean(list(results[\"f1\"][\"test\"].values())),\n",
    "    np.mean(list(results[\"accuracy\"][\"test\"].values())),\n",
    "    np.mean(list(results[\"f1\"][\"train\"].values())),\n",
    "    np.mean(list(results[\"accuracy\"][\"train\"].values())),\n",
    ")"
   ]
  },
  {
   "cell_type": "code",
   "execution_count": 77,
   "metadata": {},
   "outputs": [
    {
     "name": "stderr",
     "output_type": "stream",
     "text": [
      "[Stage 3760:==========================================>             (3 + 1) / 4]\r"
     ]
    },
    {
     "name": "stdout",
     "output_type": "stream",
     "text": [
      "+------------+--------------------+--------------------+----+----+----+----+----+----+----+----+----+----+----+----+----+----+----+----+----+----+----+----+----+--------+--------------------+--------------------+-------------+--------------------+--------------------+--------------+--------------------+--------------------+--------------+--------------------+--------------------+--------------+--------------------+--------------------+--------------+--------------------+--------------------+--------------+--------------------+--------------------+--------------+--------------------+--------------------+--------------+--------------------+--------------------+--------------+--------------------+--------------------+--------------+--------------------+--------------------+--------------+--------------------+--------------------+-------------+--------------------+--------------------+--------------+--------------------+--------------------+--------------+--------------------+--------------------+-------------+--------------------+--------------------+-------------+--------------------+--------------------+-------------+--------------------+--------------------+-------------+--------------------+--------------------+-------------+--------------------+--------------------+-------------+--------------------+--------------------+-------------+\n",
      "|       docid|           hashingtf|               tfidf|  q1| q10| q11| q12| q13| q14| q15| q16| q17| q18| q19|  q2| q20| q21|  q3|  q4|  q5|  q6|  q7|  q8|  q9|sampleid|              q1_raw|      q1_probability|q1_prediction|             q10_raw|     q10_probability|q10_prediction|             q11_raw|     q11_probability|q11_prediction|             q12_raw|     q12_probability|q12_prediction|             q13_raw|     q13_probability|q13_prediction|             q14_raw|     q14_probability|q14_prediction|             q15_raw|     q15_probability|q15_prediction|             q16_raw|     q16_probability|q16_prediction|             q17_raw|     q17_probability|q17_prediction|             q18_raw|     q18_probability|q18_prediction|             q19_raw|     q19_probability|q19_prediction|              q2_raw|      q2_probability|q2_prediction|             q20_raw|     q20_probability|q20_prediction|             q21_raw|     q21_probability|q21_prediction|              q3_raw|      q3_probability|q3_prediction|              q4_raw|      q4_probability|q4_prediction|              q5_raw|      q5_probability|q5_prediction|              q6_raw|      q6_probability|q6_prediction|              q7_raw|      q7_probability|q7_prediction|              q8_raw|      q8_probability|q8_prediction|              q9_raw|      q9_probability|q9_prediction|\n",
      "+------------+--------------------+--------------------+----+----+----+----+----+----+----+----+----+----+----+----+----+----+----+----+----+----+----+----+----+--------+--------------------+--------------------+-------------+--------------------+--------------------+--------------+--------------------+--------------------+--------------+--------------------+--------------------+--------------+--------------------+--------------------+--------------+--------------------+--------------------+--------------+--------------------+--------------------+--------------+--------------------+--------------------+--------------+--------------------+--------------------+--------------+--------------------+--------------------+--------------+--------------------+--------------------+--------------+--------------------+--------------------+-------------+--------------------+--------------------+--------------+--------------------+--------------------+--------------+--------------------+--------------------+-------------+--------------------+--------------------+-------------+--------------------+--------------------+-------------+--------------------+--------------------+-------------+--------------------+--------------------+-------------+--------------------+--------------------+-------------+--------------------+--------------------+-------------+\n",
      "|s_1008_142_1|[0.0,0.0,0.0,0.0,...|[0.0,0.0,0.0,0.0,...|NULL|NULL|NULL|NULL|NULL|NULL|NULL|   0|NULL|NULL|NULL|NULL|NULL|NULL|NULL|NULL|NULL|NULL|NULL|NULL|NULL|      52|[-29.054079071206...|[0.99103247777993...|          0.0|[-23.727050721340...|[0.95263198221172...|           0.0|[-28.074390540611...|[0.99360838012252...|           0.0|[-27.285711223695...|[0.92203913208066...|           0.0|[-37.559950609346...|[0.96460050101346...|           0.0|[-27.795030828341...|[0.98237746555608...|           0.0|[-36.631032887320...|[0.91185370673234...|           0.0|[-38.752869635112...|[0.94792216230350...|           0.0|[-25.581921190489...|[0.96021867457129...|           0.0|[-34.103880501122...|[0.99473718493275...|           0.0|[-48.493565287057...|[0.99678545854947...|           0.0|[-27.557681698015...|[0.78395426450826...|          0.0|[-26.252764808081...|[0.90516544064134...|           0.0|[-40.849997505756...|[0.97797664139552...|           0.0|[-21.942678431623...|[0.94495401894014...|          0.0|[-22.644870778469...|[0.90112482057270...|          0.0|[-34.124493125498...|[0.94941386344454...|          0.0|[-26.505213722426...|[0.98841500856102...|          0.0|[-34.070320518416...|[0.84041232118432...|          0.0|[-28.244887557742...|[0.99140950328040...|          0.0|[-50.813097146875...|[0.96447462222110...|          0.0|\n",
      "|s_1008_145_0|[0.0,0.0,0.0,0.0,...|[0.0,0.0,0.0,0.0,...|NULL|NULL|NULL|NULL|NULL|NULL|NULL|NULL|NULL|NULL|NULL|NULL|   0|NULL|NULL|NULL|NULL|NULL|NULL|NULL|NULL|      83|[-40.169373850279...|[0.97753976094125...|          0.0|[-28.388834554282...|[0.93723814097708...|           0.0|[-22.637214725094...|[0.96776405528004...|           0.0|[-42.663089588194...|[0.92351061440663...|           0.0|[-55.275287848314...|[0.99829006650750...|           0.0|[-33.724868713807...|[0.96640989122519...|           0.0|[-37.566110354886...|[0.94604909856450...|           0.0|[-41.594703136866...|[0.75341663313887...|           0.0|[-23.502924019020...|[0.92109966188572...|           0.0|[-40.327768371268...|[0.90314005936109...|           0.0|[-44.119570740652...|[0.96408798750929...|           0.0|[-27.284483366889...|[0.85112921034643...|          0.0|[-24.547011484098...|[0.96649600491110...|           0.0|[-31.845207248234...|[0.95666353545558...|           0.0|[-19.283607849490...|[0.83710261351005...|          0.0|[-29.188450563414...|[0.94960227635416...|          0.0|[-35.831747139875...|[0.98007769962030...|          0.0|[-30.248894057222...|[0.99410110737284...|          0.0|[-45.526789993788...|[0.94579510826121...|          0.0|[-36.703590165233...|[0.87716631818783...|          0.0|[-49.810724979779...|[0.73403743117827...|          0.0|\n",
      "|s_100_1833_7|[0.0,0.0,0.0,0.0,...|[0.0,0.0,0.0,0.0,...|NULL|NULL|NULL|NULL|NULL|NULL|NULL|NULL|NULL|NULL|NULL|   0|NULL|NULL|NULL|NULL|NULL|NULL|NULL|NULL|NULL|      63|[-2.3432217519132...|[0.87177467945490...|          0.0|[-1.5729968766816...|[0.78558297732919...|           0.0|[-1.3961529539804...|[0.93185492122051...|           0.0|[-3.5065463129582...|[0.93884708734148...|           0.0|[-4.3653927476273...|[0.96568581335645...|           0.0|[-1.4183297877325...|[0.93240581687945...|           0.0|[-3.6514959993846...|[0.88668370168896...|           0.0|[-5.0584327459146...|[0.77308884963914...|           0.0|[-1.7649794456110...|[0.90785021207993...|           0.0|[-2.4508492289362...|[0.88824492829964...|           0.0|[-3.7976985885604...|[0.94977077357133...|           0.0|[-1.6644512764503...|[0.91510067128008...|          0.0|[-1.7453354319023...|[0.88963434331855...|           0.0|[-4.1067164006836...|[0.93262423942591...|           0.0|[-1.9944581310135...|[0.83351027617356...|          0.0|[-1.7251744591183...|[0.90432789808421...|          0.0|[-1.9815841765311...|[0.90677121371610...|          0.0|[-1.6169260513821...|[0.97815450077631...|          0.0|[-2.4897333894650...|[0.84216345292926...|          0.0|[-2.0857796157551...|[0.94059780530146...|          0.0|[-3.7987796772989...|[0.72974849586038...|          0.0|\n",
      "| s_100_670_1|[0.0,0.0,0.0,0.0,...|[0.0,0.0,0.0,0.0,...|NULL|NULL|NULL|   0|NULL|NULL|NULL|NULL|NULL|NULL|NULL|NULL|NULL|NULL|NULL|NULL|NULL|NULL|NULL|NULL|NULL|      72|[-26.297300575480...|[0.92245318811210...|          0.0|[-20.311208276937...|[0.93027390107708...|           0.0|[-18.785187359854...|[0.96973923007456...|           0.0|[-27.658934618936...|[0.98400269482690...|           0.0|[-27.805894133147...|[0.96093260082851...|           0.0|[-23.330951859859...|[0.91443760870562...|           0.0|[-26.359123551279...|[0.95075973127869...|           0.0|[-25.775852535215...|[0.80060679790084...|           0.0|[-19.430932273124...|[0.88413461210670...|           0.0|[-32.033946645811...|[0.84152188880890...|           0.0|[-32.564625119463...|[0.99140707547795...|           0.0|[-19.991868511139...|[0.90608858207205...|          0.0|[-20.945573115029...|[0.93450328554792...|           0.0|[-29.988716495748...|[0.88125050194893...|           0.0|[-14.267106153095...|[0.86572258641766...|          0.0|[-18.303077474821...|[0.96588788376248...|          0.0|[-25.502685715192...|[0.93637553481811...|          0.0|[-16.304285895953...|[0.98521242243037...|          0.0|[-37.427784796219...|[0.97370651061834...|          0.0|[-21.729306927397...|[0.98191892839787...|          0.0|[-29.123513802117...|[0.87599482689769...|          0.0|\n",
      "|s_1011_109_2|[0.0,0.0,0.0,0.0,...|[0.0,0.0,0.0,0.0,...|NULL|NULL|NULL|NULL|NULL|NULL|NULL|NULL|NULL|NULL|NULL|NULL|NULL|NULL|NULL|NULL|NULL|NULL|NULL|NULL|   0|      53|[-19.970365642180...|[0.92103167275232...|          0.0|[-11.130700352210...|[0.85916268384398...|           0.0|[-15.254702347095...|[0.99147269519759...|           0.0|[-18.656458192603...|[0.90848017031988...|           0.0|[-22.977201361652...|[0.96651437401528...|           0.0|[-18.564692033358...|[0.93553400095792...|           0.0|[-19.865617258395...|[0.92083630410290...|           0.0|[-28.373413223250...|[0.88648214487133...|           0.0|[-18.062458895222...|[0.95191783416558...|           0.0|[-16.698053230418...|[0.97261181997324...|           0.0|[-17.984541108140...|[0.93011432239942...|           0.0|[-16.965816577871...|[0.97095878528673...|          0.0|[-14.438557494562...|[0.92963261313342...|           0.0|[-21.963299566080...|[0.96789190975340...|           0.0|[-7.7156983066329...|[0.90727635950693...|          0.0|[-10.157471067416...|[0.91472327917006...|          0.0|[-18.335974042423...|[0.92706814565513...|          0.0|[-16.216425077824...|[0.99629326721386...|          0.0|[-21.101935199347...|[0.94726770842288...|          0.0|[-16.134803140169...|[0.95945571243644...|          0.0|[-20.473911032955...|[0.95512408151457...|          0.0|\n",
      "+------------+--------------------+--------------------+----+----+----+----+----+----+----+----+----+----+----+----+----+----+----+----+----+----+----+----+----+--------+--------------------+--------------------+-------------+--------------------+--------------------+--------------+--------------------+--------------------+--------------+--------------------+--------------------+--------------+--------------------+--------------------+--------------+--------------------+--------------------+--------------+--------------------+--------------------+--------------+--------------------+--------------------+--------------+--------------------+--------------------+--------------+--------------------+--------------------+--------------+--------------------+--------------------+--------------+--------------------+--------------------+-------------+--------------------+--------------------+--------------+--------------------+--------------------+--------------+--------------------+--------------------+-------------+--------------------+--------------------+-------------+--------------------+--------------------+-------------+--------------------+--------------------+-------------+--------------------+--------------------+-------------+--------------------+--------------------+-------------+--------------------+--------------------+-------------+\n",
      "only showing top 5 rows\n",
      "\n"
     ]
    },
    {
     "name": "stderr",
     "output_type": "stream",
     "text": [
      "                                                                                \r"
     ]
    }
   ],
   "source": [
    "# let's try an alternative of training a new pipeline for each query\n",
    "def build_fit_nb_model_pipelines(df, feature, targets):\n",
    "    pipelines = []\n",
    "    for target in targets:\n",
    "        pipeline = Pipeline(\n",
    "            stages=[MinMaxScaler(inputCol=feature, outputCol=f\"{feature}_scaled\")]\n",
    "            + [\n",
    "                NaiveBayes(\n",
    "                    labelCol=target,\n",
    "                    featuresCol=f\"{feature}_scaled\",\n",
    "                    predictionCol=f\"{target}_prediction\",\n",
    "                    probabilityCol=f\"{target}_probability\",\n",
    "                    rawPredictionCol=f\"{target}_raw\",\n",
    "                    smoothing=1.0,\n",
    "                )\n",
    "            ]\n",
    "        )\n",
    "        model = pipeline.fit(df.where(f\"{target} is not null\"))\n",
    "        pipelines.append(model)\n",
    "    return pipelines\n",
    "\n",
    "\n",
    "# 80/20 split\n",
    "pipelines = build_fit_nb_model_pipelines(\n",
    "    prep_df.where(\"sampleid < 80\"),\n",
    "    \"tfidf\",\n",
    "    [c for c in prep_df.columns if c.startswith(\"q\")],\n",
    ")\n",
    "per_pred = prep_df\n",
    "for model in pipelines:\n",
    "    per_pred = model.transform(per_pred).drop(\"tfidf_scaled\")\n",
    "\n",
    "per_pred = per_pred.cache()\n",
    "per_pred.show(5)"
   ]
  },
  {
   "cell_type": "code",
   "execution_count": 78,
   "metadata": {},
   "outputs": [
    {
     "name": "stderr",
     "output_type": "stream",
     "text": [
      "100%|██████████| 21/21 [00:28<00:00,  1.38s/it]\n"
     ]
    },
    {
     "data": {
      "text/plain": [
       "({'f1': {'train': {'q1': 0.7803252360422663,\n",
       "    'q10': 0.7759897139214771,\n",
       "    'q11': 0.895632970691376,\n",
       "    'q12': 0.9124754520967219,\n",
       "    'q13': 0.9191618853086329,\n",
       "    'q14': 0.8997269158559481,\n",
       "    'q15': 0.8196281020769511,\n",
       "    'q16': 0.7612694886747505,\n",
       "    'q17': 0.8585709816708796,\n",
       "    'q18': 0.8384777313150609,\n",
       "    'q19': 0.900950444743558,\n",
       "    'q2': 0.8562740945865234,\n",
       "    'q20': 0.8281512311978254,\n",
       "    'q21': 0.8704188604452814,\n",
       "    'q3': 0.7477495266746426,\n",
       "    'q4': 0.8549978199258774,\n",
       "    'q5': 0.8540993241069872,\n",
       "    'q6': 0.9604012581095789,\n",
       "    'q7': 0.8036255552942118,\n",
       "    'q8': 0.8894348240677601,\n",
       "    'q9': 0.7311617151980775},\n",
       "   'test': {'q1': 0.7799639216344338,\n",
       "    'q10': 0.6262726895354542,\n",
       "    'q11': 0.938453529812197,\n",
       "    'q12': 0.9444457828422752,\n",
       "    'q13': 0.9060134477946463,\n",
       "    'q14': 0.8932390411587967,\n",
       "    'q15': 0.8600983092961703,\n",
       "    'q16': 0.6718450766416452,\n",
       "    'q17': 0.8947649572649573,\n",
       "    'q18': 0.8947101255677264,\n",
       "    'q19': 0.8598687664041995,\n",
       "    'q2': 0.8864238815708982,\n",
       "    'q20': 0.8168598524762909,\n",
       "    'q21': 0.8241285780240073,\n",
       "    'q3': 0.7852579852579852,\n",
       "    'q4': 0.865217320074051,\n",
       "    'q5': 0.8585526315789472,\n",
       "    'q6': 0.9829787234042553,\n",
       "    'q7': 0.8011379483460702,\n",
       "    'q8': 0.9057471264367817,\n",
       "    'q9': 0.6553549597027859}},\n",
       "  'accuracy': {'train': {'q1': 0.8400876232201533,\n",
       "    'q10': 0.8154450261780105,\n",
       "    'q11': 0.9250585480093677,\n",
       "    'q12': 0.9345579793340988,\n",
       "    'q13': 0.9426321709786277,\n",
       "    'q14': 0.9285714285714286,\n",
       "    'q15': 0.8755656108597285,\n",
       "    'q16': 0.8152610441767069,\n",
       "    'q17': 0.9025270758122743,\n",
       "    'q18': 0.8869123252858958,\n",
       "    'q19': 0.9283980582524272,\n",
       "    'q2': 0.8982683982683982,\n",
       "    'q20': 0.8806682577565632,\n",
       "    'q21': 0.9075738125802311,\n",
       "    'q3': 0.8220451527224436,\n",
       "    'q4': 0.8992805755395683,\n",
       "    'q5': 0.8953662182361734,\n",
       "    'q6': 0.9656398104265402,\n",
       "    'q7': 0.8477722772277227,\n",
       "    'q8': 0.9222737819025522,\n",
       "    'q9': 0.7735099337748345},\n",
       "   'test': {'q1': 0.8426395939086294,\n",
       "    'q10': 0.7031963470319634,\n",
       "    'q11': 0.9557522123893806,\n",
       "    'q12': 0.9563106796116505,\n",
       "    'q13': 0.9366515837104072,\n",
       "    'q14': 0.9246231155778895,\n",
       "    'q15': 0.898989898989899,\n",
       "    'q16': 0.7486910994764397,\n",
       "    'q17': 0.9259259259259259,\n",
       "    'q18': 0.9289340101522843,\n",
       "    'q19': 0.905,\n",
       "    'q2': 0.9203539823008849,\n",
       "    'q20': 0.8717948717948718,\n",
       "    'q21': 0.8802083333333334,\n",
       "    'q3': 0.85,\n",
       "    'q4': 0.9050279329608939,\n",
       "    'q5': 0.9,\n",
       "    'q6': 0.9829787234042553,\n",
       "    'q7': 0.8477157360406091,\n",
       "    'q8': 0.9333333333333333,\n",
       "    'q9': 0.7171717171717171}}},\n",
       " 0.840539745467837,\n",
       " 0.8826332903387795,\n",
       " 0.8456439586668756,\n",
       " 0.8860673861482737)"
      ]
     },
     "execution_count": 78,
     "metadata": {},
     "output_type": "execute_result"
    }
   ],
   "source": [
    "results = run_evaluation(per_pred, [c for c in prep_df.columns if c.startswith(\"q\")])\n",
    "# summarize all the results\n",
    "(\n",
    "    results,\n",
    "    np.mean(list(results[\"f1\"][\"test\"].values())),\n",
    "    np.mean(list(results[\"accuracy\"][\"test\"].values())),\n",
    "    np.mean(list(results[\"f1\"][\"train\"].values())),\n",
    "    np.mean(list(results[\"accuracy\"][\"train\"].values())),\n",
    ")"
   ]
  },
  {
   "cell_type": "code",
   "execution_count": 80,
   "metadata": {},
   "outputs": [
    {
     "name": "stderr",
     "output_type": "stream",
     "text": [
      "24/03/24 19:53:28 WARN DAGScheduler: Broadcasting large task binary with size 1003.3 KiB\n",
      "24/03/24 19:53:35 WARN DAGScheduler: Broadcasting large task binary with size 1018.1 KiB\n"
     ]
    },
    {
     "name": "stdout",
     "output_type": "stream",
     "text": [
      "+------------+--------------------+---+---+---+---+---+---+---+---+---+---+---+---+---+---+---+---+---+---+---+---+---+--------------------+--------------------+--------------------+-------------+--------------------+--------------------+--------------+--------------------+--------------------+--------------+--------------------+--------------------+--------------+--------------------+--------------------+--------------+--------------------+--------------------+--------------+--------------------+--------------------+--------------+--------------------+--------------------+--------------+--------------------+--------------------+--------------+--------------------+--------------------+--------------+--------------------+--------------------+--------------+--------------------+--------------------+-------------+--------------------+--------------------+--------------+--------------------+--------------------+--------------+--------------------+--------------------+-------------+--------------------+--------------------+-------------+--------------------+--------------------+-------------+--------------------+--------------------+-------------+--------------------+--------------------+-------------+--------------------+--------------------+-------------+--------------------+--------------------+-------------+\n",
      "|       docid|               tfidf| q1|q10|q11|q12|q13|q14|q15|q16|q17|q18|q19| q2|q20|q21| q3| q4| q5| q6| q7| q8| q9|        tfidf_scaled|              q1_raw|      q1_probability|q1_prediction|             q10_raw|     q10_probability|q10_prediction|             q11_raw|     q11_probability|q11_prediction|             q12_raw|     q12_probability|q12_prediction|             q13_raw|     q13_probability|q13_prediction|             q14_raw|     q14_probability|q14_prediction|             q15_raw|     q15_probability|q15_prediction|             q16_raw|     q16_probability|q16_prediction|             q17_raw|     q17_probability|q17_prediction|             q18_raw|     q18_probability|q18_prediction|             q19_raw|     q19_probability|q19_prediction|              q2_raw|      q2_probability|q2_prediction|             q20_raw|     q20_probability|q20_prediction|             q21_raw|     q21_probability|q21_prediction|              q3_raw|      q3_probability|q3_prediction|              q4_raw|      q4_probability|q4_prediction|              q5_raw|      q5_probability|q5_prediction|              q6_raw|      q6_probability|q6_prediction|              q7_raw|      q7_probability|q7_prediction|              q8_raw|      q8_probability|q8_prediction|              q9_raw|      q9_probability|q9_prediction|\n",
      "+------------+--------------------+---+---+---+---+---+---+---+---+---+---+---+---+---+---+---+---+---+---+---+---+---+--------------------+--------------------+--------------------+-------------+--------------------+--------------------+--------------+--------------------+--------------------+--------------+--------------------+--------------------+--------------+--------------------+--------------------+--------------+--------------------+--------------------+--------------+--------------------+--------------------+--------------+--------------------+--------------------+--------------+--------------------+--------------------+--------------+--------------------+--------------------+--------------+--------------------+--------------------+--------------+--------------------+--------------------+-------------+--------------------+--------------------+--------------+--------------------+--------------------+--------------+--------------------+--------------------+-------------+--------------------+--------------------+-------------+--------------------+--------------------+-------------+--------------------+--------------------+-------------+--------------------+--------------------+-------------+--------------------+--------------------+-------------+--------------------+--------------------+-------------+\n",
      "|s_1008_142_1|[0.0,0.0,0.0,0.0,...|0.0|0.0|0.0|0.0|0.0|0.0|0.0|0.0|0.0|0.0|0.0|0.0|0.0|0.0|0.0|0.0|0.0|0.0|0.0|0.0|0.0|(256,[6,16,19,35,...|[-7.6221946500333...|[0.99239401052435...|          0.0|[-7.6222385171051...|[0.99238005749218...|           0.0|[-7.6174414272608...|[0.99678755544202...|           0.0|[-7.6181319953241...|[0.99675275707922...|           0.0|[-7.6178577573547...|[0.99766165452625...|           0.0|[-7.6183122901364...|[0.99686294242890...|           0.0|[-7.6234459502355...|[0.99388344815849...|           0.0|[-7.6228813885477...|[0.99269776681546...|           0.0|[-7.6215822199181...|[0.99572937155466...|           0.0|[-7.6201721819157...|[0.99530792597887...|           0.0|[-7.6186442609222...|[0.99650339993944...|           0.0|[-7.6220352131491...|[0.99507304170686...|          0.0|[-7.6222352797170...|[0.99459777322069...|           0.0|[-7.6185939774783...|[0.99613332932887...|           0.0|[-7.6220667987795...|[0.99315021596779...|          0.0|[-7.6236463305682...|[0.99526764263671...|          0.0|[-7.6194505575097...|[0.99615532966590...|          0.0|[-7.6160281977550...|[0.99897456012267...|          0.0|[-7.6239094413842...|[0.99267298209761...|          0.0|[-7.6191246355649...|[0.99669281347701...|          0.0|[-7.6288878520512...|[0.98891130862573...|          0.0|\n",
      "|s_1008_145_0|[0.0,0.0,0.0,0.0,...|0.0|0.0|0.0|0.0|0.0|0.0|0.0|0.0|0.0|0.0|0.0|0.0|0.0|0.0|0.0|0.0|0.0|0.0|0.0|0.0|0.0|(256,[5,12,29,46,...|[-7.4106301974725...|[0.99168706004560...|          0.0|[-7.4103115681524...|[0.99112052734001...|           0.0|[-7.4020811028351...|[0.99680899113833...|           0.0|[-7.4050830455241...|[0.99634799036943...|           0.0|[-7.4043592769107...|[0.99747964701961...|           0.0|[-7.4022005082431...|[0.99688569593715...|           0.0|[-7.4095577782310...|[0.99405036655533...|           0.0|[-7.4109734971732...|[0.99101638981453...|           0.0|[-7.4021184979943...|[0.99618130469340...|           0.0|[-7.4091421175132...|[0.99499526175952...|           0.0|[-7.4015571492666...|[0.99690893876938...|           0.0|[-7.4057405281403...|[0.99477796066085...|          0.0|[-7.4042122755478...|[0.99543673918995...|           0.0|[-7.4055990994579...|[0.99595971523616...|           0.0|[-7.4109436444510...|[0.99180461976444...|          0.0|[-7.4074054982931...|[0.99585142434229...|          0.0|[-7.4028383047580...|[0.99646878711451...|          0.0|[-7.4033824145346...|[0.99886478152475...|          0.0|[-7.4112980060936...|[0.99210727788374...|          0.0|[-7.4050068507380...|[0.99651083774177...|          0.0|[-7.4173416007237...|[0.98785166820804...|          0.0|\n",
      "|s_100_1833_7|[0.0,0.0,0.0,0.0,...|0.0|0.0|0.0|0.0|0.0|0.0|0.0|0.0|0.0|0.0|0.0|0.0|0.0|0.0|0.0|0.0|0.0|0.0|0.0|0.0|0.0|(256,[61,89,92,14...|[-0.5306240266768...|[0.98911076613866...|          0.0|[-0.5319001028919...|[0.98813221307809...|           0.0|[-0.5248029228709...|[0.99543794535828...|           0.0|[-0.5251420807535...|[0.99501137225663...|           0.0|[-0.5231445322868...|[0.99641946675342...|           0.0|[-0.5247298820244...|[0.99561836901866...|           0.0|[-0.5282531225510...|[0.99164247468843...|           0.0|[-0.5317101679150...|[0.98838245869211...|           0.0|[-0.5268466018493...|[0.99378818650379...|           0.0|[-0.5270298958298...|[0.99322623479474...|           0.0|[-0.5248486878548...|[0.99510217237781...|           0.0|[-0.5270050986560...|[0.99329217514870...|          0.0|[-0.5276520475601...|[0.99255161289025...|           0.0|[-0.5251914250264...|[0.99439406311573...|           0.0|[-0.5294968918319...|[0.99052686630312...|          0.0|[-0.5263129983604...|[0.99387180939213...|          0.0|[-0.5247385687230...|[0.99499059202765...|          0.0|[-0.5205572019318...|[0.99854342203686...|          0.0|[-0.5296825008693...|[0.99042455055475...|          0.0|[-0.5244550384928...|[0.99522890699686...|          0.0|[-0.5353351214870...|[0.98509408576198...|          0.0|\n",
      "| s_100_670_1|[0.0,0.0,0.0,0.0,...|0.0|0.0|0.0|0.0|0.0|0.0|0.0|0.0|0.0|0.0|0.0|0.0|0.0|0.0|0.0|0.0|0.0|0.0|0.0|0.0|0.0|(256,[6,11,28,35,...|[-4.8844253163015...|[0.98825718306966...|          0.0|[-4.8799752637532...|[0.98861014377603...|           0.0|[-4.8722744738672...|[0.99562177895808...|           0.0|[-4.8719001713065...|[0.99541480223491...|           0.0|[-4.8709220785841...|[0.99670560944244...|           0.0|[-4.8724257151838...|[0.99575137347037...|           0.0|[-4.8744722727189...|[0.99243058026217...|           0.0|[-4.8781538589371...|[0.98924156847791...|           0.0|[-4.8729140234888...|[0.99435365011462...|           0.0|[-4.8735021573377...|[0.99380631422143...|           0.0|[-4.8696670276078...|[0.99571422482449...|           0.0|[-4.8751326635436...|[0.99344379160408...|          0.0|[-4.8734707284151...|[0.99314799216597...|           0.0|[-4.8725412464037...|[0.99472584820804...|           0.0|[-4.8774732712212...|[0.99058639109925...|          0.0|[-4.8718709948757...|[0.99455612182869...|          0.0|[-4.8763202919809...|[0.99491860368108...|          0.0|[-4.8691558741065...|[0.99862317436223...|          0.0|[-4.8757661835929...|[0.99127865503785...|          0.0|[-4.8733326503808...|[0.99535292215583...|          0.0|[-4.8852739337857...|[0.98565383023292...|          0.0|\n",
      "|s_1011_109_2|[0.0,0.0,0.0,0.0,...|0.0|0.0|0.0|0.0|0.0|0.0|0.0|0.0|0.0|0.0|0.0|0.0|0.0|0.0|0.0|0.0|0.0|0.0|0.0|0.0|0.0|(256,[12,26,57,76...|[-3.5416241655678...|[0.98927714172242...|          0.0|[-3.5421536137535...|[0.98803401995784...|           0.0|[-3.5327568455902...|[0.99576614663141...|           0.0|[-3.5337922201582...|[0.99523485071295...|           0.0|[-3.5340517011280...|[0.99641596004345...|           0.0|[-3.5340509309828...|[0.99579767567657...|           0.0|[-3.5386399972818...|[0.99168564453460...|           0.0|[-3.5516180727838...|[0.98724961412970...|           0.0|[-3.5336307381501...|[0.99451652403843...|           0.0|[-3.5359640445168...|[0.99371190026413...|           0.0|[-3.5334127412761...|[0.99529483881726...|           0.0|[-3.5370721192286...|[0.99343719685995...|          0.0|[-3.5367651907623...|[0.99281160440670...|           0.0|[-3.5344947383926...|[0.99467428323942...|           0.0|[-3.5386553522172...|[0.99085276025440...|          0.0|[-3.5347223582927...|[0.99438644210965...|          0.0|[-3.5363232554795...|[0.99477113042109...|          0.0|[-3.5322075801380...|[0.99852336050475...|          0.0|[-3.5402302530690...|[0.99018003750964...|          0.0|[-3.5351829973177...|[0.99521230294310...|          0.0|[-3.5598384309443...|[0.98199012445245...|          0.0|\n",
      "+------------+--------------------+---+---+---+---+---+---+---+---+---+---+---+---+---+---+---+---+---+---+---+---+---+--------------------+--------------------+--------------------+-------------+--------------------+--------------------+--------------+--------------------+--------------------+--------------+--------------------+--------------------+--------------+--------------------+--------------------+--------------+--------------------+--------------------+--------------+--------------------+--------------------+--------------+--------------------+--------------------+--------------+--------------------+--------------------+--------------+--------------------+--------------------+--------------+--------------------+--------------------+--------------+--------------------+--------------------+-------------+--------------------+--------------------+--------------+--------------------+--------------------+--------------+--------------------+--------------------+-------------+--------------------+--------------------+-------------+--------------------+--------------------+-------------+--------------------+--------------------+-------------+--------------------+--------------------+-------------+--------------------+--------------------+-------------+--------------------+--------------------+-------------+\n",
      "only showing top 5 rows\n",
      "\n"
     ]
    },
    {
     "name": "stderr",
     "output_type": "stream",
     "text": [
      "                                                                                \r"
     ]
    }
   ],
   "source": [
    "# let's try doing a semi-supervised approach\n",
    "def build_nb_model_pipeline(feature, targets):\n",
    "    pipeline = Pipeline(\n",
    "        stages=[MinMaxScaler(inputCol=feature, outputCol=f\"{feature}_scaled\")]\n",
    "        + [\n",
    "            NaiveBayes(\n",
    "                labelCol=target,\n",
    "                featuresCol=f\"{feature}_scaled\",\n",
    "                predictionCol=f\"{target}_prediction\",\n",
    "                probabilityCol=f\"{target}_probability\",\n",
    "                rawPredictionCol=f\"{target}_raw\",\n",
    "                smoothing=1.0,\n",
    "            )\n",
    "            for target in targets\n",
    "        ]\n",
    "    )\n",
    "    return pipeline\n",
    "\n",
    "\n",
    "# 80/20 split\n",
    "pipeline = build_nb_model_pipeline(\n",
    "    \"tfidf\", [c for c in prep_df.columns if c.startswith(\"q\")]\n",
    ")\n",
    "model = pipeline.fit(prep_df.where(\"sampleid < 80\").fillna(0))\n",
    "predictions = model.transform(prep_df)\n",
    "# now fill the missing values with the predictions\n",
    "\n",
    "prep_df_filled = prep_df.join(\n",
    "    predictions.select(\n",
    "        \"docid\", *[f\"{c}_prediction\" for c in prep_df.columns if c.startswith(\"q\")]\n",
    "    ),\n",
    "    \"docid\",\n",
    ").select(\n",
    "    \"docid\",\n",
    "    \"tfidf\",\n",
    "    *[\n",
    "        F.coalesce(F.col(c), F.col(f\"{c}_prediction\")).alias(c)\n",
    "        for c in prep_df.columns\n",
    "        if c.startswith(\"q\")\n",
    "    ],\n",
    ")\n",
    "\n",
    "model_filled = pipeline.fit(prep_df_filled.where(\"sampleid < 80\"))\n",
    "predictions_filled = model_filled.transform(prep_df_filled).cache()\n",
    "predictions_filled.show(5)"
   ]
  },
  {
   "cell_type": "code",
   "execution_count": 83,
   "metadata": {},
   "outputs": [
    {
     "name": "stderr",
     "output_type": "stream",
     "text": [
      "  0%|          | 0/21 [00:00<?, ?it/s]"
     ]
    },
    {
     "name": "stderr",
     "output_type": "stream",
     "text": [
      "100%|██████████| 21/21 [00:46<00:00,  2.23s/it]\n"
     ]
    },
    {
     "data": {
      "text/plain": [
       "({'f1': {'train': {'q1': 0.982620379690667,\n",
       "    'q10': 0.980472131893606,\n",
       "    'q11': 0.9930917687513431,\n",
       "    'q12': 0.9928362742808627,\n",
       "    'q13': 0.9947784258563721,\n",
       "    'q14': 0.9934363935895847,\n",
       "    'q15': 0.9875955723814962,\n",
       "    'q16': 0.9817716328910319,\n",
       "    'q17': 0.9912754104263787,\n",
       "    'q18': 0.9899660685198705,\n",
       "    'q19': 0.9928895373617144,\n",
       "    'q2': 0.9899313002648917,\n",
       "    'q20': 0.9888162937887194,\n",
       "    'q21': 0.9916762364963458,\n",
       "    'q3': 0.9851064358162884,\n",
       "    'q4': 0.9908503157549086,\n",
       "    'q5': 0.9920698567317897,\n",
       "    'q6': 0.9976934152405608,\n",
       "    'q7': 0.9845791230430141,\n",
       "    'q8': 0.9929414506841515,\n",
       "    'q9': 0.9770070930851728},\n",
       "   'test': {'q1': 0.9864934768781418,\n",
       "    'q10': 0.9710611448955424,\n",
       "    'q11': 0.9958196210858813,\n",
       "    'q12': 0.9971068307553024,\n",
       "    'q13': 0.9934431130474657,\n",
       "    'q14': 0.9936900120689914,\n",
       "    'q15': 0.9911223816853083,\n",
       "    'q16': 0.9803876602457239,\n",
       "    'q17': 0.9936199999182052,\n",
       "    'q18': 0.9939055737790612,\n",
       "    'q19': 0.9915873857236539,\n",
       "    'q2': 0.9917372638021245,\n",
       "    'q20': 0.9892596155377427,\n",
       "    'q21': 0.9892596155377427,\n",
       "    'q3': 0.985337630688957,\n",
       "    'q4': 0.9927569074673485,\n",
       "    'q5': 0.9932301195562656,\n",
       "    'q6': 0.9989649421084837,\n",
       "    'q7': 0.9885976050276785,\n",
       "    'q8': 0.9939055737790612,\n",
       "    'q9': 0.9729136501905883}},\n",
       "  'accuracy': {'train': {'q1': 0.9880401234567902,\n",
       "    'q10': 0.9866512345679013,\n",
       "    'q11': 0.9950617283950617,\n",
       "    'q12': 0.9949074074074075,\n",
       "    'q13': 0.9962962962962963,\n",
       "    'q14': 0.9952932098765432,\n",
       "    'q15': 0.9914351851851851,\n",
       "    'q16': 0.9875771604938272,\n",
       "    'q17': 0.9938271604938271,\n",
       "    'q18': 0.9929783950617284,\n",
       "    'q19': 0.9949074074074075,\n",
       "    'q2': 0.9929012345679012,\n",
       "    'q20': 0.9922067901234568,\n",
       "    'q21': 0.9942129629629629,\n",
       "    'q3': 0.9896604938271605,\n",
       "    'q4': 0.99375,\n",
       "    'q5': 0.9943672839506172,\n",
       "    'q6': 0.9982253086419753,\n",
       "    'q7': 0.9893518518518518,\n",
       "    'q8': 0.9950617283950617,\n",
       "    'q9': 0.9843364197530864},\n",
       "   'test': {'q1': 0.9905897114178168,\n",
       "    'q10': 0.9802383939774153,\n",
       "    'q11': 0.9968632371392723,\n",
       "    'q12': 0.9978042659974906,\n",
       "    'q13': 0.9952948557089084,\n",
       "    'q14': 0.9952948557089084,\n",
       "    'q15': 0.9937264742785445,\n",
       "    'q16': 0.9865119196988708,\n",
       "    'q17': 0.9952948557089084,\n",
       "    'q18': 0.9956085319949812,\n",
       "    'q19': 0.9940401505646174,\n",
       "    'q2': 0.9937264742785445,\n",
       "    'q20': 0.9924717691342535,\n",
       "    'q21': 0.9924717691342535,\n",
       "    'q3': 0.9896486825595985,\n",
       "    'q4': 0.9949811794228356,\n",
       "    'q5': 0.9949811794228356,\n",
       "    'q6': 0.9990589711417817,\n",
       "    'q7': 0.9918444165621079,\n",
       "    'q8': 0.9956085319949812,\n",
       "    'q9': 0.9814930991217063}}},\n",
       " 0.9897238154180604,\n",
       " 0.992740634522316,\n",
       " 0.9891145293594652,\n",
       " 0.9924309229864783)"
      ]
     },
     "execution_count": 83,
     "metadata": {},
     "output_type": "execute_result"
    }
   ],
   "source": [
    "results = run_evaluation(\n",
    "    predictions_filled, [c for c in prep_df.columns if c.startswith(\"q\")]\n",
    ")\n",
    "# summarize all the results\n",
    "(\n",
    "    results,\n",
    "    np.mean(list(results[\"f1\"][\"test\"].values())),\n",
    "    np.mean(list(results[\"accuracy\"][\"test\"].values())),\n",
    "    np.mean(list(results[\"f1\"][\"train\"].values())),\n",
    "    np.mean(list(results[\"accuracy\"][\"train\"].values())),\n",
    ")"
   ]
  },
  {
   "cell_type": "code",
   "execution_count": 84,
   "metadata": {},
   "outputs": [
    {
     "name": "stderr",
     "output_type": "stream",
     "text": [
      "100%|██████████| 21/21 [00:17<00:00,  1.20it/s]\n"
     ]
    },
    {
     "data": {
      "text/plain": [
       "({'f1': {'train': {'q1': 0.7592790332115835,\n",
       "    'q10': 0.6800105020926964,\n",
       "    'q11': 0.8941352334446162,\n",
       "    'q12': 0.8911831235315125,\n",
       "    'q13': 0.9214151523953786,\n",
       "    'q14': 0.900883164875774,\n",
       "    'q15': 0.8174762156880939,\n",
       "    'q16': 0.6915598425686754,\n",
       "    'q17': 0.8597728725713107,\n",
       "    'q18': 0.8337573105044516,\n",
       "    'q19': 0.8850642345787977,\n",
       "    'q2': 0.8579017264276229,\n",
       "    'q20': 0.8259058914747465,\n",
       "    'q21': 0.8598780660809872,\n",
       "    'q3': 0.7490735746968458,\n",
       "    'q4': 0.856196757600225,\n",
       "    'q5': 0.8480137985873437,\n",
       "    'q6': 0.9645801448541502,\n",
       "    'q7': 0.7580131745426064,\n",
       "    'q8': 0.891757264723261,\n",
       "    'q9': 0.6193349130161816},\n",
       "   'test': {'q1': 0.7825068332682547,\n",
       "    'q10': 0.5964566210045663,\n",
       "    'q11': 0.938453529812197,\n",
       "    'q12': 0.9493227855687402,\n",
       "    'q13': 0.9060134477946463,\n",
       "    'q14': 0.8932390411587967,\n",
       "    'q15': 0.8511712873415002,\n",
       "    'q16': 0.676581877712397,\n",
       "    'q17': 0.8970823341326939,\n",
       "    'q18': 0.8947101255677264,\n",
       "    'q19': 0.8598687664041995,\n",
       "    'q2': 0.8864238815708982,\n",
       "    'q20': 0.8194199243379572,\n",
       "    'q21': 0.8241285780240073,\n",
       "    'q3': 0.7852579852579852,\n",
       "    'q4': 0.865217320074051,\n",
       "    'q5': 0.8585526315789472,\n",
       "    'q6': 0.9851200510273816,\n",
       "    'q7': 0.8114102847053631,\n",
       "    'q8': 0.9081315081315082,\n",
       "    'q9': 0.5857390472775087}},\n",
       "  'accuracy': {'train': {'q1': 0.8324205914567361,\n",
       "    'q10': 0.774869109947644,\n",
       "    'q11': 0.9262295081967213,\n",
       "    'q12': 0.9265212399540758,\n",
       "    'q13': 0.9471316085489314,\n",
       "    'q14': 0.9308755760368663,\n",
       "    'q15': 0.8755656108597285,\n",
       "    'q16': 0.785809906291834,\n",
       "    'q17': 0.9049338146811071,\n",
       "    'q18': 0.8869123252858958,\n",
       "    'q19': 0.9223300970873787,\n",
       "    'q2': 0.9015151515151515,\n",
       "    'q20': 0.8806682577565632,\n",
       "    'q21': 0.9050064184852374,\n",
       "    'q3': 0.8247011952191236,\n",
       "    'q4': 0.9016786570743405,\n",
       "    'q5': 0.8938714499252616,\n",
       "    'q6': 0.9739336492890995,\n",
       "    'q7': 0.8304455445544554,\n",
       "    'q8': 0.9269141531322506,\n",
       "    'q9': 0.7324503311258278},\n",
       "   'test': {'q1': 0.8477157360406091,\n",
       "    'q10': 0.7123287671232876,\n",
       "    'q11': 0.9557522123893806,\n",
       "    'q12': 0.9660194174757282,\n",
       "    'q13': 0.9366515837104072,\n",
       "    'q14': 0.9246231155778895,\n",
       "    'q15': 0.898989898989899,\n",
       "    'q16': 0.774869109947644,\n",
       "    'q17': 0.9305555555555556,\n",
       "    'q18': 0.9289340101522843,\n",
       "    'q19': 0.905,\n",
       "    'q2': 0.9203539823008849,\n",
       "    'q20': 0.8769230769230769,\n",
       "    'q21': 0.8802083333333334,\n",
       "    'q3': 0.85,\n",
       "    'q4': 0.9050279329608939,\n",
       "    'q5': 0.9,\n",
       "    'q6': 0.9872340425531915,\n",
       "    'q7': 0.868020304568528,\n",
       "    'q8': 0.9380952380952381,\n",
       "    'q9': 0.7070707070707071}}},\n",
       " 0.836895612464349,\n",
       " 0.8863987154651684,\n",
       " 0.826913904641279,\n",
       " 0.8802278188773445)"
      ]
     },
     "execution_count": 84,
     "metadata": {},
     "output_type": "execute_result"
    }
   ],
   "source": [
    "# let's try our model with just the hashingtf features\n",
    "pipeline_hashing = build_nb_model_pipeline(\n",
    "    \"hashingtf\", [c for c in prep_df.columns if c.startswith(\"q\")]\n",
    ")\n",
    "model_hashing = pipeline_hashing.fit(prep_df.where(\"sampleid < 80\").fillna(0))\n",
    "predictions_hashing = model_hashing.transform(prep_df)\n",
    "\n",
    "results = run_evaluation(\n",
    "    predictions_hashing, [c for c in prep_df.columns if c.startswith(\"q\")]\n",
    ")\n",
    "# summarize all the results\n",
    "(\n",
    "    results,\n",
    "    np.mean(list(results[\"f1\"][\"test\"].values())),\n",
    "    np.mean(list(results[\"accuracy\"][\"test\"].values())),\n",
    "    np.mean(list(results[\"f1\"][\"train\"].values())),\n",
    "    np.mean(list(results[\"accuracy\"][\"train\"].values())),\n",
    ")"
   ]
  }
 ],
 "metadata": {
  "kernelspec": {
   "display_name": "Python 3",
   "language": "python",
   "name": "python3"
  },
  "language_info": {
   "codemirror_mode": {
    "name": "ipython",
    "version": 3
   },
   "file_extension": ".py",
   "mimetype": "text/x-python",
   "name": "python",
   "nbconvert_exporter": "python",
   "pygments_lexer": "ipython3",
   "version": "3.10.12"
  }
 },
 "nbformat": 4,
 "nbformat_minor": 2
}
