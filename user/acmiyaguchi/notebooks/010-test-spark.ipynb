{
 "cells": [
  {
   "cell_type": "code",
   "execution_count": 2,
   "metadata": {},
   "outputs": [
    {
     "name": "stdout",
     "output_type": "stream",
     "text": [
      "+--------------+---+------------+-------------------+-----+-----------+\n",
      "|           _c0|_c1|         _c2|                _c3|  _c4|        _c5|\n",
      "+--------------+---+------------+-------------------+-----+-----------+\n",
      "|symptom_number| Qo| sentence_id|position_in_ranking|score|system_name|\n",
      "|             1| Q0|  268819_0_1|                  1|  1.0|   baseline|\n",
      "|             1| Q0|  24766_0_33|                  2|  1.0|   baseline|\n",
      "|             1| Q0| 508064_0_22|                  3|  1.0|   baseline|\n",
      "|             1| Q0|  307381_9_0|                  4|  1.0|   baseline|\n",
      "|             1| Q0|   30130_6_7|                  5|  1.0|   baseline|\n",
      "|             1| Q0|  328577_0_9|                  6|  1.0|   baseline|\n",
      "|             1| Q0|  441745_2_4|                  7|  1.0|   baseline|\n",
      "|             1| Q0| 270530_0_11|                  8|  1.0|   baseline|\n",
      "|             1| Q0|  431268_0_4|                  9|  1.0|   baseline|\n",
      "|             1| Q0|  501579_0_5|                 10|  1.0|   baseline|\n",
      "|             1| Q0|  466203_0_7|                 11|  1.0|   baseline|\n",
      "|             1| Q0|  180885_1_3|                 12|  1.0|   baseline|\n",
      "|             1| Q0| 171081_0_15|                 13|  1.0|   baseline|\n",
      "|             1| Q0|s_1835_238_1|                 14|  1.0|   baseline|\n",
      "|             1| Q0|  183649_1_4|                 15|  1.0|   baseline|\n",
      "|             1| Q0| 516725_0_11|                 16|  1.0|   baseline|\n",
      "|             1| Q0|   30208_0_6|                 17|  1.0|   baseline|\n",
      "|             1| Q0| 54854_11_10|                 18|  1.0|   baseline|\n",
      "|             1| Q0|   74518_0_4|                 19|  1.0|   baseline|\n",
      "+--------------+---+------------+-------------------+-----+-----------+\n",
      "only showing top 20 rows\n",
      "\n"
     ]
    }
   ],
   "source": [
    "from erisk.utils import get_spark\n",
    "import os\n",
    "\n",
    "os.environ[\"GOOGLE_APPLICATION_CREDENTIALS\"] = (\n",
    "    \"/home/anthony/omscs/dsgt-clef/dsgt-clef-service-account.json\"\n",
    ")\n",
    "\n",
    "spark = get_spark()\n",
    "df = spark.read.csv(\n",
    "    \"gs://dsgt-clef-erisk-2024/task1/processed/eval/nb_count/v3/inference/predictions.csv\"\n",
    ")\n",
    "df.show()"
   ]
  }
 ],
 "metadata": {
  "kernelspec": {
   "display_name": "venv",
   "language": "python",
   "name": "python3"
  },
  "language_info": {
   "codemirror_mode": {
    "name": "ipython",
    "version": 3
   },
   "file_extension": ".py",
   "mimetype": "text/x-python",
   "name": "python",
   "nbconvert_exporter": "python",
   "pygments_lexer": "ipython3",
   "version": "3.11.6"
  }
 },
 "nbformat": 4,
 "nbformat_minor": 2
}
