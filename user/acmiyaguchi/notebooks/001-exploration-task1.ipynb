{
 "cells": [
  {
   "cell_type": "markdown",
   "metadata": {},
   "source": [
    "# directory structure exploration\n"
   ]
  },
  {
   "cell_type": "code",
   "execution_count": 3,
   "metadata": {},
   "outputs": [
    {
     "name": "stdout",
     "output_type": "stream",
     "text": [
      "gs://dsgt-clef-erisk-2024/task1/\n",
      "gs://dsgt-clef-erisk-2024/task2/\n"
     ]
    }
   ],
   "source": [
    "bucket=\"gs://dsgt-clef-erisk-2024\"\n",
    "! gcloud storage ls {bucket}"
   ]
  },
  {
   "cell_type": "code",
   "execution_count": 4,
   "metadata": {},
   "outputs": [
    {
     "name": "stdout",
     "output_type": "stream",
     "text": [
      "gs://dsgt-clef-erisk-2024/task1/dataset/\n",
      "gs://dsgt-clef-erisk-2024/task1/training/\n"
     ]
    }
   ],
   "source": [
    "! gcloud storage ls {bucket}/task1"
   ]
  },
  {
   "cell_type": "code",
   "execution_count": 18,
   "metadata": {},
   "outputs": [
    {
     "name": "stdout",
     "output_type": "stream",
     "text": [
      "3.54kiB      gs://dsgt-clef-erisk-2024/task1/dataset/s_0.trec\n",
      "10.73MiB     gs://dsgt-clef-erisk-2024/task1/dataset/s_1.trec\n",
      "10.65MiB     gs://dsgt-clef-erisk-2024/task1/dataset/s_10.trec\n",
      "10.95MiB     gs://dsgt-clef-erisk-2024/task1/dataset/s_100.trec\n",
      "10.77MiB     gs://dsgt-clef-erisk-2024/task1/dataset/s_101.trec\n",
      "11.15MiB     gs://dsgt-clef-erisk-2024/task1/dataset/s_98.trec\n",
      "10.62MiB     gs://dsgt-clef-erisk-2024/task1/dataset/s_99.trec\n",
      "839.27MiB    gs://dsgt-clef-erisk-2024/task1/dataset/t1_test_collection_2024.zip\n",
      "2.53GiB      gs://dsgt-clef-erisk-2024/task1/dataset/test.parquet\n",
      "9.35GiB      gs://dsgt-clef-erisk-2024/task1/dataset/\n",
      "555\n"
     ]
    }
   ],
   "source": [
    "! gcloud storage du --readable-sizes {bucket}/task1/dataset | head -n 5\n",
    "! gcloud storage du --readable-sizes {bucket}/task1/dataset | tail -n 5\n",
    "! gcloud storage ls {bucket}/task1/dataset | wc -l"
   ]
  },
  {
   "cell_type": "code",
   "execution_count": 10,
   "metadata": {},
   "outputs": [
    {
     "name": "stdout",
     "output_type": "stream",
     "text": [
      "gs://dsgt-clef-erisk-2024/task1/training/training.parquet\n",
      "gs://dsgt-clef-erisk-2024/task1/training/t1_training/\n"
     ]
    }
   ],
   "source": [
    "! gcloud storage du --readable-sizes {bucket}/task1/training"
   ]
  },
  {
   "cell_type": "code",
   "execution_count": 21,
   "metadata": {},
   "outputs": [
    {
     "name": "stdout",
     "output_type": "stream",
     "text": [
      "406.81kiB    gs://dsgt-clef-erisk-2024/task1/training/t1_training/TRAINING DATA (2023 COLLECTION)/g_qrels_majority_2.csv\n",
      "406.81kiB    gs://dsgt-clef-erisk-2024/task1/training/t1_training/TRAINING DATA (2023 COLLECTION)/g_rels_consenso.csv\n",
      "22.86kiB     gs://dsgt-clef-erisk-2024/task1/training/t1_training/TRAINING DATA (2023 COLLECTION)/new_data/s_0.trec\n",
      "44.65kiB     gs://dsgt-clef-erisk-2024/task1/training/t1_training/TRAINING DATA (2023 COLLECTION)/new_data/s_1.trec\n",
      "200.45kiB    gs://dsgt-clef-erisk-2024/task1/training/t1_training/TRAINING DATA (2023 COLLECTION)/new_data/s_10.trec\n",
      "305.75kiB    gs://dsgt-clef-erisk-2024/task1/training/t1_training/TRAINING DATA (2023 COLLECTION)/new_data/s_997.trec\n",
      "2.09kiB      gs://dsgt-clef-erisk-2024/task1/training/t1_training/TRAINING DATA (2023 COLLECTION)/new_data/s_998.trec\n",
      "190.46kiB    gs://dsgt-clef-erisk-2024/task1/training/t1_training/TRAINING DATA (2023 COLLECTION)/new_data/s_999.trec\n",
      "745.75MiB    gs://dsgt-clef-erisk-2024/task1/training/t1_training/TRAINING DATA (2023 COLLECTION)/new_data/\n",
      "746.54MiB    gs://dsgt-clef-erisk-2024/task1/training/t1_training/TRAINING DATA (2023 COLLECTION)/\n",
      "3111\n"
     ]
    }
   ],
   "source": [
    "! gcloud storage du --readable-sizes \"{bucket}/task1/training/t1_training/TRAINING DATA (2023 COLLECTION)/\" | head -n 5\n",
    "! gcloud storage du --readable-sizes \"{bucket}/task1/training/t1_training/TRAINING DATA (2023 COLLECTION)/\" | tail -n 5\n",
    "! gcloud storage du \"{bucket}/task1/training/t1_training/TRAINING DATA (2023 COLLECTION)/\" | wc -l"
   ]
  },
  {
   "cell_type": "code",
   "execution_count": null,
   "metadata": {},
   "outputs": [],
   "source": []
  }
 ],
 "metadata": {
  "kernelspec": {
   "display_name": "Python 3",
   "language": "python",
   "name": "python3"
  },
  "language_info": {
   "codemirror_mode": {
    "name": "ipython",
    "version": 3
   },
   "file_extension": ".py",
   "mimetype": "text/x-python",
   "name": "python",
   "nbconvert_exporter": "python",
   "pygments_lexer": "ipython3",
   "version": "3.10.12"
  }
 },
 "nbformat": 4,
 "nbformat_minor": 2
}
