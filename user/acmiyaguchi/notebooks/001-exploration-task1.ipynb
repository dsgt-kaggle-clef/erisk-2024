{
 "cells": [
  {
   "cell_type": "code",
   "execution_count": 1,
   "metadata": {},
   "outputs": [],
   "source": [
    "%load_ext autoreload\n",
    "%autoreload 2"
   ]
  },
  {
   "cell_type": "markdown",
   "metadata": {},
   "source": [
    "# exploration of task 1\n",
    "\n",
    "## exploration of directory structure\n"
   ]
  },
  {
   "cell_type": "code",
   "execution_count": 3,
   "metadata": {},
   "outputs": [
    {
     "name": "stdout",
     "output_type": "stream",
     "text": [
      "gs://dsgt-clef-erisk-2024/task1/\n",
      "gs://dsgt-clef-erisk-2024/task2/\n"
     ]
    }
   ],
   "source": [
    "bucket=\"gs://dsgt-clef-erisk-2024\"\n",
    "! gcloud storage ls {bucket}"
   ]
  },
  {
   "cell_type": "code",
   "execution_count": 4,
   "metadata": {},
   "outputs": [
    {
     "name": "stdout",
     "output_type": "stream",
     "text": [
      "gs://dsgt-clef-erisk-2024/task1/dataset/\n",
      "gs://dsgt-clef-erisk-2024/task1/training/\n"
     ]
    }
   ],
   "source": [
    "! gcloud storage ls {bucket}/task1"
   ]
  },
  {
   "cell_type": "code",
   "execution_count": 18,
   "metadata": {},
   "outputs": [
    {
     "name": "stdout",
     "output_type": "stream",
     "text": [
      "3.54kiB      gs://dsgt-clef-erisk-2024/task1/dataset/s_0.trec\n",
      "10.73MiB     gs://dsgt-clef-erisk-2024/task1/dataset/s_1.trec\n",
      "10.65MiB     gs://dsgt-clef-erisk-2024/task1/dataset/s_10.trec\n",
      "10.95MiB     gs://dsgt-clef-erisk-2024/task1/dataset/s_100.trec\n",
      "10.77MiB     gs://dsgt-clef-erisk-2024/task1/dataset/s_101.trec\n",
      "11.15MiB     gs://dsgt-clef-erisk-2024/task1/dataset/s_98.trec\n",
      "10.62MiB     gs://dsgt-clef-erisk-2024/task1/dataset/s_99.trec\n",
      "839.27MiB    gs://dsgt-clef-erisk-2024/task1/dataset/t1_test_collection_2024.zip\n",
      "2.53GiB      gs://dsgt-clef-erisk-2024/task1/dataset/test.parquet\n",
      "9.35GiB      gs://dsgt-clef-erisk-2024/task1/dataset/\n",
      "555\n"
     ]
    }
   ],
   "source": [
    "! gcloud storage du --readable-sizes {bucket}/task1/dataset | head -n 5\n",
    "! gcloud storage du --readable-sizes {bucket}/task1/dataset | tail -n 5\n",
    "! gcloud storage ls {bucket}/task1/dataset | wc -l"
   ]
  },
  {
   "cell_type": "code",
   "execution_count": 10,
   "metadata": {},
   "outputs": [
    {
     "name": "stdout",
     "output_type": "stream",
     "text": [
      "gs://dsgt-clef-erisk-2024/task1/training/training.parquet\n",
      "gs://dsgt-clef-erisk-2024/task1/training/t1_training/\n"
     ]
    }
   ],
   "source": [
    "! gcloud storage du --readable-sizes {bucket}/task1/training"
   ]
  },
  {
   "cell_type": "code",
   "execution_count": 21,
   "metadata": {},
   "outputs": [
    {
     "name": "stdout",
     "output_type": "stream",
     "text": [
      "406.81kiB    gs://dsgt-clef-erisk-2024/task1/training/t1_training/TRAINING DATA (2023 COLLECTION)/g_qrels_majority_2.csv\n",
      "406.81kiB    gs://dsgt-clef-erisk-2024/task1/training/t1_training/TRAINING DATA (2023 COLLECTION)/g_rels_consenso.csv\n",
      "22.86kiB     gs://dsgt-clef-erisk-2024/task1/training/t1_training/TRAINING DATA (2023 COLLECTION)/new_data/s_0.trec\n",
      "44.65kiB     gs://dsgt-clef-erisk-2024/task1/training/t1_training/TRAINING DATA (2023 COLLECTION)/new_data/s_1.trec\n",
      "200.45kiB    gs://dsgt-clef-erisk-2024/task1/training/t1_training/TRAINING DATA (2023 COLLECTION)/new_data/s_10.trec\n",
      "305.75kiB    gs://dsgt-clef-erisk-2024/task1/training/t1_training/TRAINING DATA (2023 COLLECTION)/new_data/s_997.trec\n",
      "2.09kiB      gs://dsgt-clef-erisk-2024/task1/training/t1_training/TRAINING DATA (2023 COLLECTION)/new_data/s_998.trec\n",
      "190.46kiB    gs://dsgt-clef-erisk-2024/task1/training/t1_training/TRAINING DATA (2023 COLLECTION)/new_data/s_999.trec\n",
      "745.75MiB    gs://dsgt-clef-erisk-2024/task1/training/t1_training/TRAINING DATA (2023 COLLECTION)/new_data/\n",
      "746.54MiB    gs://dsgt-clef-erisk-2024/task1/training/t1_training/TRAINING DATA (2023 COLLECTION)/\n",
      "3111\n"
     ]
    }
   ],
   "source": [
    "! gcloud storage du --readable-sizes \"{bucket}/task1/training/t1_training/TRAINING DATA (2023 COLLECTION)/\" | head -n 5\n",
    "! gcloud storage du --readable-sizes \"{bucket}/task1/training/t1_training/TRAINING DATA (2023 COLLECTION)/\" | tail -n 5\n",
    "! gcloud storage du \"{bucket}/task1/training/t1_training/TRAINING DATA (2023 COLLECTION)/\" | wc -l"
   ]
  },
  {
   "cell_type": "markdown",
   "metadata": {},
   "source": [
    "## exploration of data\n",
    "\n",
    "- https://www.ismanet.org/doctoryourspirit/pdfs/Beck-Depression-Inventory-BDI.pdf\n"
   ]
  },
  {
   "cell_type": "code",
   "execution_count": 4,
   "metadata": {},
   "outputs": [
    {
     "data": {
      "text/html": [
       "\n",
       "            <div>\n",
       "                <p><b>SparkSession - in-memory</b></p>\n",
       "                \n",
       "        <div>\n",
       "            <p><b>SparkContext</b></p>\n",
       "\n",
       "            <p><a href=\"http://erisk-dev.us-central1-a.c.dsgt-clef-2024.internal:4040\">Spark UI</a></p>\n",
       "\n",
       "            <dl>\n",
       "              <dt>Version</dt>\n",
       "                <dd><code>v3.5.0</code></dd>\n",
       "              <dt>Master</dt>\n",
       "                <dd><code>local[*]</code></dd>\n",
       "              <dt>AppName</dt>\n",
       "                <dd><code>pyspark-shell</code></dd>\n",
       "            </dl>\n",
       "        </div>\n",
       "        \n",
       "            </div>\n",
       "        "
      ],
      "text/plain": [
       "<pyspark.sql.session.SparkSession at 0x724a67d1ef50>"
      ]
     },
     "execution_count": 4,
     "metadata": {},
     "output_type": "execute_result"
    }
   ],
   "source": [
    "from erisk.utils import get_spark\n",
    "\n",
    "bucket = \"gs://dsgt-clef-erisk-2024\"\n",
    "spark = get_spark()\n",
    "spark"
   ]
  },
  {
   "cell_type": "code",
   "execution_count": 5,
   "metadata": {},
   "outputs": [
    {
     "name": "stderr",
     "output_type": "stream",
     "text": [
      "                                                                                \r"
     ]
    },
    {
     "name": "stdout",
     "output_type": "stream",
     "text": [
      "root\n",
      " |-- DOCNO: string (nullable = true)\n",
      " |-- PRE: string (nullable = true)\n",
      " |-- TEXT: string (nullable = true)\n",
      " |-- POST: string (nullable = true)\n",
      "\n"
     ]
    }
   ],
   "source": [
    "test = spark.read.parquet(f\"{bucket}/task1/dataset/test.parquet\")\n",
    "test.printSchema()"
   ]
  },
  {
   "cell_type": "code",
   "execution_count": 7,
   "metadata": {},
   "outputs": [
    {
     "name": "stderr",
     "output_type": "stream",
     "text": [
      "[Stage 2:>                                                          (0 + 1) / 1]\r"
     ]
    },
    {
     "name": "stdout",
     "output_type": "stream",
     "text": [
      "-RECORD 0---------------------------------------------------------------------------------\n",
      " DOCNO | 0_0_0                                                                            \n",
      " PRE   | NULL                                                                             \n",
      " TEXT  | I guess it depends on what cheating entails.                                     \n",
      " POST  | I met someone who understands me better than I understand myself.                \n",
      "-RECORD 1---------------------------------------------------------------------------------\n",
      " DOCNO | 0_0_1                                                                            \n",
      " PRE   | NULL                                                                             \n",
      " TEXT  | I met someone who understands me better than I understand myself.                \n",
      " POST  | Our friendship thus far is completely platonic, but I know if I had the oppor... \n",
      "-RECORD 2---------------------------------------------------------------------------------\n",
      " DOCNO | 0_0_2                                                                            \n",
      " PRE   | I met someone who understands me better than I understand myself.                \n",
      " TEXT  | Our friendship thus far is completely platonic, but I know if I had the oppor... \n",
      " POST  | I tried to break up with my sweet SO, saying that I just hadn't been feeling ... \n",
      "-RECORD 3---------------------------------------------------------------------------------\n",
      " DOCNO | 0_0_3                                                                            \n",
      " PRE   | Our friendship thus far is completely platonic, but I know if I had the oppor... \n",
      " TEXT  | I tried to break up with my sweet SO, saying that I just hadn't been feeling ... \n",
      " POST  | It's been a year but it's noticeable he's still not stable from it.              \n",
      "-RECORD 4---------------------------------------------------------------------------------\n",
      " DOCNO | 0_0_4                                                                            \n",
      " PRE   | I tried to break up with my sweet SO, saying that I just hadn't been feeling ... \n",
      " TEXT  | It's been a year but it's noticeable he's still not stable from it.              \n",
      " POST  | Although most wouldn't consider it cheating, I'm harboring feelings for anoth... \n",
      "only showing top 5 rows\n",
      "\n"
     ]
    },
    {
     "name": "stderr",
     "output_type": "stream",
     "text": [
      "                                                                                \r"
     ]
    }
   ],
   "source": [
    "test.show(n=5, vertical=True, truncate=80)"
   ]
  },
  {
   "cell_type": "code",
   "execution_count": 18,
   "metadata": {},
   "outputs": [
    {
     "name": "stdout",
     "output_type": "stream",
     "text": [
      "root\n",
      " |-- query: integer (nullable = true)\n",
      " |-- q0: integer (nullable = true)\n",
      " |-- docid: string (nullable = true)\n",
      " |-- rel: integer (nullable = true)\n",
      "\n",
      "+-----+---+-------------+---+\n",
      "|query| q0|        docid|rel|\n",
      "+-----+---+-------------+---+\n",
      "|    1|  0|s_405_1279_15|  1|\n",
      "|    1|  0| s_2519_356_0|  0|\n",
      "|    1|  0|  s_2038_51_7|  1|\n",
      "|    1|  0|   s_975_61_2|  0|\n",
      "|    1|  0|  s_577_923_1|  1|\n",
      "+-----+---+-------------+---+\n",
      "only showing top 5 rows\n",
      "\n"
     ]
    },
    {
     "data": {
      "text/plain": [
       "21580"
      ]
     },
     "execution_count": 18,
     "metadata": {},
     "output_type": "execute_result"
    }
   ],
   "source": [
    "# rels consensus\n",
    "rels_consensus = spark.read.csv(\n",
    "    f\"{bucket}/task1/training/t1_training/TRAINING DATA (2023 COLLECTION)/g_rels_consenso.csv\",\n",
    "    header=True,\n",
    "    inferSchema=True,\n",
    ")\n",
    "rels_consensus.printSchema()\n",
    "rels_consensus.show(n=5, truncate=80)\n",
    "rels_consensus.count()"
   ]
  },
  {
   "cell_type": "code",
   "execution_count": 19,
   "metadata": {},
   "outputs": [
    {
     "name": "stdout",
     "output_type": "stream",
     "text": [
      "root\n",
      " |-- query: integer (nullable = true)\n",
      " |-- q0: integer (nullable = true)\n",
      " |-- docid: string (nullable = true)\n",
      " |-- rel: integer (nullable = true)\n",
      "\n",
      "+-----+---+-------------+---+\n",
      "|query| q0|        docid|rel|\n",
      "+-----+---+-------------+---+\n",
      "|    1|  0|s_405_1279_15|  1|\n",
      "|    1|  0| s_2519_356_0|  0|\n",
      "|    1|  0|  s_2038_51_7|  1|\n",
      "|    1|  0|   s_975_61_2|  1|\n",
      "|    1|  0|  s_577_923_1|  1|\n",
      "+-----+---+-------------+---+\n",
      "only showing top 5 rows\n",
      "\n"
     ]
    },
    {
     "data": {
      "text/plain": [
       "21580"
      ]
     },
     "execution_count": 19,
     "metadata": {},
     "output_type": "execute_result"
    }
   ],
   "source": [
    "rels_majority = spark.read.csv(\n",
    "    f\"{bucket}/task1/training/t1_training/TRAINING DATA (2023 COLLECTION)/g_qrels_majority_2.csv\",\n",
    "    header=True,\n",
    "    inferSchema=True,\n",
    ")\n",
    "rels_majority.printSchema()\n",
    "rels_majority.show(n=5, truncate=80)\n",
    "rels_majority.count()"
   ]
  }
 ],
 "metadata": {
  "kernelspec": {
   "display_name": "Python 3",
   "language": "python",
   "name": "python3"
  },
  "language_info": {
   "codemirror_mode": {
    "name": "ipython",
    "version": 3
   },
   "file_extension": ".py",
   "mimetype": "text/x-python",
   "name": "python",
   "nbconvert_exporter": "python",
   "pygments_lexer": "ipython3",
   "version": "3.10.12"
  }
 },
 "nbformat": 4,
 "nbformat_minor": 2
}
